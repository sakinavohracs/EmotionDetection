{
  "nbformat": 4,
  "nbformat_minor": 0,
  "metadata": {
    "colab": {
      "name": "RNN.ipynb",
      "provenance": [],
      "collapsed_sections": [],
      "authorship_tag": "ABX9TyPfnIuhl22ZVJ6/HuN1GmBY",
      "include_colab_link": true
    },
    "kernelspec": {
      "name": "python3",
      "display_name": "Python 3"
    },
    "accelerator": "GPU"
  },
  "cells": [
    {
      "cell_type": "markdown",
      "metadata": {
        "id": "view-in-github",
        "colab_type": "text"
      },
      "source": [
        "<a href=\"https://colab.research.google.com/github/sakinavohracs/EmotionDetection/blob/master/RNN.ipynb\" target=\"_parent\"><img src=\"https://colab.research.google.com/assets/colab-badge.svg\" alt=\"Open In Colab\"/></a>"
      ]
    },
    {
      "cell_type": "code",
      "metadata": {
        "id": "uCx4n2kW35jf",
        "colab_type": "code",
        "colab": {
          "base_uri": "https://localhost:8080/",
          "height": 127
        },
        "outputId": "e83d24b0-852f-45a1-d4ba-feed6ba581d5"
      },
      "source": [
        "from google.colab import drive\n",
        "\n",
        "drive.mount('/content/gdrive')\n",
        "root_path = 'gdrive/My Drive/'"
      ],
      "execution_count": 1,
      "outputs": [
        {
          "output_type": "stream",
          "text": [
            "Go to this URL in a browser: https://accounts.google.com/o/oauth2/auth?client_id=947318989803-6bn6qk8qdgf4n4g3pfee6491hc0brc4i.apps.googleusercontent.com&redirect_uri=urn%3aietf%3awg%3aoauth%3a2.0%3aoob&scope=email%20https%3a%2f%2fwww.googleapis.com%2fauth%2fdocs.test%20https%3a%2f%2fwww.googleapis.com%2fauth%2fdrive%20https%3a%2f%2fwww.googleapis.com%2fauth%2fdrive.photos.readonly%20https%3a%2f%2fwww.googleapis.com%2fauth%2fpeopleapi.readonly&response_type=code\n",
            "\n",
            "Enter your authorization code:\n",
            "··········\n",
            "Mounted at /content/gdrive\n"
          ],
          "name": "stdout"
        }
      ]
    },
    {
      "cell_type": "code",
      "metadata": {
        "id": "MfCVzN-1FiWt",
        "colab_type": "code",
        "colab": {
          "base_uri": "https://localhost:8080/",
          "height": 35
        },
        "outputId": "a7c5b3f2-2168-4b10-e333-de7a8015fb24"
      },
      "source": [
        "%cd /content/gdrive/My\\ Drive/Colab\\ Notebooks/conv-emotion-master_updated/DialogueRNN"
      ],
      "execution_count": 5,
      "outputs": [
        {
          "output_type": "stream",
          "text": [
            "/content/gdrive/My Drive/Colab Notebooks/conv-emotion-master_updated/DialogueRNN\n"
          ],
          "name": "stdout"
        }
      ]
    },
    {
      "cell_type": "code",
      "metadata": {
        "id": "LCQwvsZHGA1C",
        "colab_type": "code",
        "colab": {
          "base_uri": "https://localhost:8080/",
          "height": 559
        },
        "outputId": "7c8c1b71-c60d-4844-8a77-3038b6684b09"
      },
      "source": [
        "!python train_IEMOCAP.py --dropout 0.4 --lr 0.0003 --batch-size 32 --class-weight --l2 0.0 --epochs 5"
      ],
      "execution_count": 8,
      "outputs": [
        {
          "output_type": "stream",
          "text": [
            "Namespace(active_listener=False, attention='general', batch_size=32, class_weight=True, dropout=0.4, epochs=5, l2=0.0, lr=0.0003, no_cuda=False, rec_dropout=0.1, tensorboard=False)\n",
            "Running on GPU\n",
            "epoch 1 train_loss 1.6584 train_acc 39.16 train_fscore37.83 valid_loss nan valid_acc nan val_fscorenan test_loss 1.4913 test_acc 55.08 test_fscore 50.39 time 12.44\n",
            "epoch 2 train_loss 1.2318 train_acc 57.78 train_fscore54.31 valid_loss nan valid_acc nan val_fscorenan test_loss 1.1371 test_acc 62.91 test_fscore 60.92 time 11.31\n",
            "epoch 3 train_loss 0.9413 train_acc 65.06 train_fscore63.33 valid_loss nan valid_acc nan val_fscorenan test_loss 0.9834 test_acc 60.01 test_fscore 60.27 time 11.22\n",
            "epoch 4 train_loss 0.7924 train_acc 69.69 train_fscore69.2 valid_loss nan valid_acc nan val_fscorenan test_loss 0.9501 test_acc 61.92 test_fscore 61.9 time 11.2\n",
            "epoch 5 train_loss 0.7011 train_acc 74.34 train_fscore74.26 valid_loss nan valid_acc nan val_fscorenan test_loss 0.9986 test_acc 61.12 test_fscore 60.75 time 11.52\n",
            "Test performance..\n",
            "Loss 0.9501 accuracy 61.92\n",
            "Loss 0.9501 F1-score 57.68\n",
            "              precision    recall  f1-score   support\n",
            "\n",
            "           0     0.3514    0.3611    0.3562     144.0\n",
            "           1     0.8508    0.8612    0.8560     245.0\n",
            "           2     0.5615    0.6302    0.5939     384.0\n",
            "           3     0.6442    0.6176    0.6306     170.0\n",
            "           4     0.6312    0.6355    0.6333     299.0\n",
            "           5     0.6175    0.5381    0.5750     381.0\n",
            "\n",
            "    accuracy                         0.6192    1623.0\n",
            "   macro avg     0.6094    0.6073    0.6075    1623.0\n",
            "weighted avg     0.6212    0.6192    0.6190    1623.0\n",
            "\n",
            "[[ 52.   1.  12.   0.  79.   0.]\n",
            " [  5. 211.   8.   3.   1.  17.]\n",
            " [ 19.  17. 242.  16.  27.  63.]\n",
            " [  0.   5.  13. 105.   0.  47.]\n",
            " [ 72.   2.  35.   0. 190.   0.]\n",
            " [  0.  12. 121.  39.   4. 205.]]\n"
          ],
          "name": "stdout"
        }
      ]
    }
  ]
}
{
  "nbformat": 4,
  "nbformat_minor": 0,
  "metadata": {
    "colab": {
      "name": "SemEvalLSTM.ipynb",
      "provenance": [],
      "toc_visible": true,
      "authorship_tag": "ABX9TyNSblo2nmhFy3SWxEajg3yS",
      "include_colab_link": true
    },
    "kernelspec": {
      "name": "python3",
      "display_name": "Python 3"
    },
    "accelerator": "GPU",
    "widgets": {
      "application/vnd.jupyter.widget-state+json": {
        "3c0535ff7d2c4c7692f4e4df49c6fda8": {
          "model_module": "@jupyter-widgets/controls",
          "model_name": "HBoxModel",
          "state": {
            "_view_name": "HBoxView",
            "_dom_classes": [],
            "_model_name": "HBoxModel",
            "_view_module": "@jupyter-widgets/controls",
            "_model_module_version": "1.5.0",
            "_view_count": null,
            "_view_module_version": "1.5.0",
            "box_style": "",
            "layout": "IPY_MODEL_c99e65a9501f4beca38318b4e8910816",
            "_model_module": "@jupyter-widgets/controls",
            "children": [
              "IPY_MODEL_6c4ad3a94826442c996e2c809552dac9",
              "IPY_MODEL_eb5793fc74604183b9d379ef3dae1c46"
            ]
          }
        },
        "c99e65a9501f4beca38318b4e8910816": {
          "model_module": "@jupyter-widgets/base",
          "model_name": "LayoutModel",
          "state": {
            "_view_name": "LayoutView",
            "grid_template_rows": null,
            "right": null,
            "justify_content": null,
            "_view_module": "@jupyter-widgets/base",
            "overflow": null,
            "_model_module_version": "1.2.0",
            "_view_count": null,
            "flex_flow": null,
            "width": null,
            "min_width": null,
            "border": null,
            "align_items": null,
            "bottom": null,
            "_model_module": "@jupyter-widgets/base",
            "top": null,
            "grid_column": null,
            "overflow_y": null,
            "overflow_x": null,
            "grid_auto_flow": null,
            "grid_area": null,
            "grid_template_columns": null,
            "flex": null,
            "_model_name": "LayoutModel",
            "justify_items": null,
            "grid_row": null,
            "max_height": null,
            "align_content": null,
            "visibility": null,
            "align_self": null,
            "height": null,
            "min_height": null,
            "padding": null,
            "grid_auto_rows": null,
            "grid_gap": null,
            "max_width": null,
            "order": null,
            "_view_module_version": "1.2.0",
            "grid_template_areas": null,
            "object_position": null,
            "object_fit": null,
            "grid_auto_columns": null,
            "margin": null,
            "display": null,
            "left": null
          }
        },
        "6c4ad3a94826442c996e2c809552dac9": {
          "model_module": "@jupyter-widgets/controls",
          "model_name": "FloatProgressModel",
          "state": {
            "_view_name": "ProgressView",
            "style": "IPY_MODEL_5044e70589e04625a6023d953b18e559",
            "_dom_classes": [],
            "description": "Downloading: 100%",
            "_model_name": "FloatProgressModel",
            "bar_style": "success",
            "max": 231508,
            "_view_module": "@jupyter-widgets/controls",
            "_model_module_version": "1.5.0",
            "value": 231508,
            "_view_count": null,
            "_view_module_version": "1.5.0",
            "orientation": "horizontal",
            "min": 0,
            "description_tooltip": null,
            "_model_module": "@jupyter-widgets/controls",
            "layout": "IPY_MODEL_f53e9ee884ea43c480d32dfeabd6a557"
          }
        },
        "eb5793fc74604183b9d379ef3dae1c46": {
          "model_module": "@jupyter-widgets/controls",
          "model_name": "HTMLModel",
          "state": {
            "_view_name": "HTMLView",
            "style": "IPY_MODEL_7b3a0640b9ea4b0f98dbef462ad1d5c6",
            "_dom_classes": [],
            "description": "",
            "_model_name": "HTMLModel",
            "placeholder": "​",
            "_view_module": "@jupyter-widgets/controls",
            "_model_module_version": "1.5.0",
            "value": " 232k/232k [00:00&lt;00:00, 741kB/s]",
            "_view_count": null,
            "_view_module_version": "1.5.0",
            "description_tooltip": null,
            "_model_module": "@jupyter-widgets/controls",
            "layout": "IPY_MODEL_4e5a5368d17a4e75bc1e65804396b3a5"
          }
        },
        "5044e70589e04625a6023d953b18e559": {
          "model_module": "@jupyter-widgets/controls",
          "model_name": "ProgressStyleModel",
          "state": {
            "_view_name": "StyleView",
            "_model_name": "ProgressStyleModel",
            "description_width": "initial",
            "_view_module": "@jupyter-widgets/base",
            "_model_module_version": "1.5.0",
            "_view_count": null,
            "_view_module_version": "1.2.0",
            "bar_color": null,
            "_model_module": "@jupyter-widgets/controls"
          }
        },
        "f53e9ee884ea43c480d32dfeabd6a557": {
          "model_module": "@jupyter-widgets/base",
          "model_name": "LayoutModel",
          "state": {
            "_view_name": "LayoutView",
            "grid_template_rows": null,
            "right": null,
            "justify_content": null,
            "_view_module": "@jupyter-widgets/base",
            "overflow": null,
            "_model_module_version": "1.2.0",
            "_view_count": null,
            "flex_flow": null,
            "width": null,
            "min_width": null,
            "border": null,
            "align_items": null,
            "bottom": null,
            "_model_module": "@jupyter-widgets/base",
            "top": null,
            "grid_column": null,
            "overflow_y": null,
            "overflow_x": null,
            "grid_auto_flow": null,
            "grid_area": null,
            "grid_template_columns": null,
            "flex": null,
            "_model_name": "LayoutModel",
            "justify_items": null,
            "grid_row": null,
            "max_height": null,
            "align_content": null,
            "visibility": null,
            "align_self": null,
            "height": null,
            "min_height": null,
            "padding": null,
            "grid_auto_rows": null,
            "grid_gap": null,
            "max_width": null,
            "order": null,
            "_view_module_version": "1.2.0",
            "grid_template_areas": null,
            "object_position": null,
            "object_fit": null,
            "grid_auto_columns": null,
            "margin": null,
            "display": null,
            "left": null
          }
        },
        "7b3a0640b9ea4b0f98dbef462ad1d5c6": {
          "model_module": "@jupyter-widgets/controls",
          "model_name": "DescriptionStyleModel",
          "state": {
            "_view_name": "StyleView",
            "_model_name": "DescriptionStyleModel",
            "description_width": "",
            "_view_module": "@jupyter-widgets/base",
            "_model_module_version": "1.5.0",
            "_view_count": null,
            "_view_module_version": "1.2.0",
            "_model_module": "@jupyter-widgets/controls"
          }
        },
        "4e5a5368d17a4e75bc1e65804396b3a5": {
          "model_module": "@jupyter-widgets/base",
          "model_name": "LayoutModel",
          "state": {
            "_view_name": "LayoutView",
            "grid_template_rows": null,
            "right": null,
            "justify_content": null,
            "_view_module": "@jupyter-widgets/base",
            "overflow": null,
            "_model_module_version": "1.2.0",
            "_view_count": null,
            "flex_flow": null,
            "width": null,
            "min_width": null,
            "border": null,
            "align_items": null,
            "bottom": null,
            "_model_module": "@jupyter-widgets/base",
            "top": null,
            "grid_column": null,
            "overflow_y": null,
            "overflow_x": null,
            "grid_auto_flow": null,
            "grid_area": null,
            "grid_template_columns": null,
            "flex": null,
            "_model_name": "LayoutModel",
            "justify_items": null,
            "grid_row": null,
            "max_height": null,
            "align_content": null,
            "visibility": null,
            "align_self": null,
            "height": null,
            "min_height": null,
            "padding": null,
            "grid_auto_rows": null,
            "grid_gap": null,
            "max_width": null,
            "order": null,
            "_view_module_version": "1.2.0",
            "grid_template_areas": null,
            "object_position": null,
            "object_fit": null,
            "grid_auto_columns": null,
            "margin": null,
            "display": null,
            "left": null
          }
        },
        "23efcd6cccd542c2928c308b94eaa75e": {
          "model_module": "@jupyter-widgets/controls",
          "model_name": "HBoxModel",
          "state": {
            "_view_name": "HBoxView",
            "_dom_classes": [],
            "_model_name": "HBoxModel",
            "_view_module": "@jupyter-widgets/controls",
            "_model_module_version": "1.5.0",
            "_view_count": null,
            "_view_module_version": "1.5.0",
            "box_style": "",
            "layout": "IPY_MODEL_976bd98ac719447c9acff21057c4b167",
            "_model_module": "@jupyter-widgets/controls",
            "children": [
              "IPY_MODEL_30041d59f315495a91e21fdef35aca60",
              "IPY_MODEL_2873a4033a434a109b105894d01107b4"
            ]
          }
        },
        "976bd98ac719447c9acff21057c4b167": {
          "model_module": "@jupyter-widgets/base",
          "model_name": "LayoutModel",
          "state": {
            "_view_name": "LayoutView",
            "grid_template_rows": null,
            "right": null,
            "justify_content": null,
            "_view_module": "@jupyter-widgets/base",
            "overflow": null,
            "_model_module_version": "1.2.0",
            "_view_count": null,
            "flex_flow": null,
            "width": null,
            "min_width": null,
            "border": null,
            "align_items": null,
            "bottom": null,
            "_model_module": "@jupyter-widgets/base",
            "top": null,
            "grid_column": null,
            "overflow_y": null,
            "overflow_x": null,
            "grid_auto_flow": null,
            "grid_area": null,
            "grid_template_columns": null,
            "flex": null,
            "_model_name": "LayoutModel",
            "justify_items": null,
            "grid_row": null,
            "max_height": null,
            "align_content": null,
            "visibility": null,
            "align_self": null,
            "height": null,
            "min_height": null,
            "padding": null,
            "grid_auto_rows": null,
            "grid_gap": null,
            "max_width": null,
            "order": null,
            "_view_module_version": "1.2.0",
            "grid_template_areas": null,
            "object_position": null,
            "object_fit": null,
            "grid_auto_columns": null,
            "margin": null,
            "display": null,
            "left": null
          }
        },
        "30041d59f315495a91e21fdef35aca60": {
          "model_module": "@jupyter-widgets/controls",
          "model_name": "FloatProgressModel",
          "state": {
            "_view_name": "ProgressView",
            "style": "IPY_MODEL_2b3c947aa78445d1a44dc734cd006dd5",
            "_dom_classes": [],
            "description": "Downloading: 100%",
            "_model_name": "FloatProgressModel",
            "bar_style": "success",
            "max": 434,
            "_view_module": "@jupyter-widgets/controls",
            "_model_module_version": "1.5.0",
            "value": 434,
            "_view_count": null,
            "_view_module_version": "1.5.0",
            "orientation": "horizontal",
            "min": 0,
            "description_tooltip": null,
            "_model_module": "@jupyter-widgets/controls",
            "layout": "IPY_MODEL_c8c96a857d5a4bdc856873be862c2c32"
          }
        },
        "2873a4033a434a109b105894d01107b4": {
          "model_module": "@jupyter-widgets/controls",
          "model_name": "HTMLModel",
          "state": {
            "_view_name": "HTMLView",
            "style": "IPY_MODEL_bacc0de5f88c4d6c9b23c3009e5fdc41",
            "_dom_classes": [],
            "description": "",
            "_model_name": "HTMLModel",
            "placeholder": "​",
            "_view_module": "@jupyter-widgets/controls",
            "_model_module_version": "1.5.0",
            "value": " 434/434 [00:15&lt;00:00, 28.5B/s]",
            "_view_count": null,
            "_view_module_version": "1.5.0",
            "description_tooltip": null,
            "_model_module": "@jupyter-widgets/controls",
            "layout": "IPY_MODEL_74e7d2089acf4ba38563130ac2e26e5e"
          }
        },
        "2b3c947aa78445d1a44dc734cd006dd5": {
          "model_module": "@jupyter-widgets/controls",
          "model_name": "ProgressStyleModel",
          "state": {
            "_view_name": "StyleView",
            "_model_name": "ProgressStyleModel",
            "description_width": "initial",
            "_view_module": "@jupyter-widgets/base",
            "_model_module_version": "1.5.0",
            "_view_count": null,
            "_view_module_version": "1.2.0",
            "bar_color": null,
            "_model_module": "@jupyter-widgets/controls"
          }
        },
        "c8c96a857d5a4bdc856873be862c2c32": {
          "model_module": "@jupyter-widgets/base",
          "model_name": "LayoutModel",
          "state": {
            "_view_name": "LayoutView",
            "grid_template_rows": null,
            "right": null,
            "justify_content": null,
            "_view_module": "@jupyter-widgets/base",
            "overflow": null,
            "_model_module_version": "1.2.0",
            "_view_count": null,
            "flex_flow": null,
            "width": null,
            "min_width": null,
            "border": null,
            "align_items": null,
            "bottom": null,
            "_model_module": "@jupyter-widgets/base",
            "top": null,
            "grid_column": null,
            "overflow_y": null,
            "overflow_x": null,
            "grid_auto_flow": null,
            "grid_area": null,
            "grid_template_columns": null,
            "flex": null,
            "_model_name": "LayoutModel",
            "justify_items": null,
            "grid_row": null,
            "max_height": null,
            "align_content": null,
            "visibility": null,
            "align_self": null,
            "height": null,
            "min_height": null,
            "padding": null,
            "grid_auto_rows": null,
            "grid_gap": null,
            "max_width": null,
            "order": null,
            "_view_module_version": "1.2.0",
            "grid_template_areas": null,
            "object_position": null,
            "object_fit": null,
            "grid_auto_columns": null,
            "margin": null,
            "display": null,
            "left": null
          }
        },
        "bacc0de5f88c4d6c9b23c3009e5fdc41": {
          "model_module": "@jupyter-widgets/controls",
          "model_name": "DescriptionStyleModel",
          "state": {
            "_view_name": "StyleView",
            "_model_name": "DescriptionStyleModel",
            "description_width": "",
            "_view_module": "@jupyter-widgets/base",
            "_model_module_version": "1.5.0",
            "_view_count": null,
            "_view_module_version": "1.2.0",
            "_model_module": "@jupyter-widgets/controls"
          }
        },
        "74e7d2089acf4ba38563130ac2e26e5e": {
          "model_module": "@jupyter-widgets/base",
          "model_name": "LayoutModel",
          "state": {
            "_view_name": "LayoutView",
            "grid_template_rows": null,
            "right": null,
            "justify_content": null,
            "_view_module": "@jupyter-widgets/base",
            "overflow": null,
            "_model_module_version": "1.2.0",
            "_view_count": null,
            "flex_flow": null,
            "width": null,
            "min_width": null,
            "border": null,
            "align_items": null,
            "bottom": null,
            "_model_module": "@jupyter-widgets/base",
            "top": null,
            "grid_column": null,
            "overflow_y": null,
            "overflow_x": null,
            "grid_auto_flow": null,
            "grid_area": null,
            "grid_template_columns": null,
            "flex": null,
            "_model_name": "LayoutModel",
            "justify_items": null,
            "grid_row": null,
            "max_height": null,
            "align_content": null,
            "visibility": null,
            "align_self": null,
            "height": null,
            "min_height": null,
            "padding": null,
            "grid_auto_rows": null,
            "grid_gap": null,
            "max_width": null,
            "order": null,
            "_view_module_version": "1.2.0",
            "grid_template_areas": null,
            "object_position": null,
            "object_fit": null,
            "grid_auto_columns": null,
            "margin": null,
            "display": null,
            "left": null
          }
        },
        "feb415f9b9c74ddbb08165336c51c17e": {
          "model_module": "@jupyter-widgets/controls",
          "model_name": "HBoxModel",
          "state": {
            "_view_name": "HBoxView",
            "_dom_classes": [],
            "_model_name": "HBoxModel",
            "_view_module": "@jupyter-widgets/controls",
            "_model_module_version": "1.5.0",
            "_view_count": null,
            "_view_module_version": "1.5.0",
            "box_style": "",
            "layout": "IPY_MODEL_022021fffcc24e9a84adbb40f4513d8f",
            "_model_module": "@jupyter-widgets/controls",
            "children": [
              "IPY_MODEL_86d6e41f3cdf4ebca02125439806a165",
              "IPY_MODEL_793ce300fe5242a492880648d8de56a6"
            ]
          }
        },
        "022021fffcc24e9a84adbb40f4513d8f": {
          "model_module": "@jupyter-widgets/base",
          "model_name": "LayoutModel",
          "state": {
            "_view_name": "LayoutView",
            "grid_template_rows": null,
            "right": null,
            "justify_content": null,
            "_view_module": "@jupyter-widgets/base",
            "overflow": null,
            "_model_module_version": "1.2.0",
            "_view_count": null,
            "flex_flow": null,
            "width": null,
            "min_width": null,
            "border": null,
            "align_items": null,
            "bottom": null,
            "_model_module": "@jupyter-widgets/base",
            "top": null,
            "grid_column": null,
            "overflow_y": null,
            "overflow_x": null,
            "grid_auto_flow": null,
            "grid_area": null,
            "grid_template_columns": null,
            "flex": null,
            "_model_name": "LayoutModel",
            "justify_items": null,
            "grid_row": null,
            "max_height": null,
            "align_content": null,
            "visibility": null,
            "align_self": null,
            "height": null,
            "min_height": null,
            "padding": null,
            "grid_auto_rows": null,
            "grid_gap": null,
            "max_width": null,
            "order": null,
            "_view_module_version": "1.2.0",
            "grid_template_areas": null,
            "object_position": null,
            "object_fit": null,
            "grid_auto_columns": null,
            "margin": null,
            "display": null,
            "left": null
          }
        },
        "86d6e41f3cdf4ebca02125439806a165": {
          "model_module": "@jupyter-widgets/controls",
          "model_name": "FloatProgressModel",
          "state": {
            "_view_name": "ProgressView",
            "style": "IPY_MODEL_87322662b417404fae151954a3f9d65e",
            "_dom_classes": [],
            "description": "Downloading: 100%",
            "_model_name": "FloatProgressModel",
            "bar_style": "success",
            "max": 1345000548,
            "_view_module": "@jupyter-widgets/controls",
            "_model_module_version": "1.5.0",
            "value": 1345000548,
            "_view_count": null,
            "_view_module_version": "1.5.0",
            "orientation": "horizontal",
            "min": 0,
            "description_tooltip": null,
            "_model_module": "@jupyter-widgets/controls",
            "layout": "IPY_MODEL_712dedf076304c61b6004f88b7dc90af"
          }
        },
        "793ce300fe5242a492880648d8de56a6": {
          "model_module": "@jupyter-widgets/controls",
          "model_name": "HTMLModel",
          "state": {
            "_view_name": "HTMLView",
            "style": "IPY_MODEL_af38622bc1694b4dabfc16d0b86a5054",
            "_dom_classes": [],
            "description": "",
            "_model_name": "HTMLModel",
            "placeholder": "​",
            "_view_module": "@jupyter-widgets/controls",
            "_model_module_version": "1.5.0",
            "value": " 1.35G/1.35G [00:27&lt;00:00, 48.9MB/s]",
            "_view_count": null,
            "_view_module_version": "1.5.0",
            "description_tooltip": null,
            "_model_module": "@jupyter-widgets/controls",
            "layout": "IPY_MODEL_cbe7a9dc262c472bbf450141708578d8"
          }
        },
        "87322662b417404fae151954a3f9d65e": {
          "model_module": "@jupyter-widgets/controls",
          "model_name": "ProgressStyleModel",
          "state": {
            "_view_name": "StyleView",
            "_model_name": "ProgressStyleModel",
            "description_width": "initial",
            "_view_module": "@jupyter-widgets/base",
            "_model_module_version": "1.5.0",
            "_view_count": null,
            "_view_module_version": "1.2.0",
            "bar_color": null,
            "_model_module": "@jupyter-widgets/controls"
          }
        },
        "712dedf076304c61b6004f88b7dc90af": {
          "model_module": "@jupyter-widgets/base",
          "model_name": "LayoutModel",
          "state": {
            "_view_name": "LayoutView",
            "grid_template_rows": null,
            "right": null,
            "justify_content": null,
            "_view_module": "@jupyter-widgets/base",
            "overflow": null,
            "_model_module_version": "1.2.0",
            "_view_count": null,
            "flex_flow": null,
            "width": null,
            "min_width": null,
            "border": null,
            "align_items": null,
            "bottom": null,
            "_model_module": "@jupyter-widgets/base",
            "top": null,
            "grid_column": null,
            "overflow_y": null,
            "overflow_x": null,
            "grid_auto_flow": null,
            "grid_area": null,
            "grid_template_columns": null,
            "flex": null,
            "_model_name": "LayoutModel",
            "justify_items": null,
            "grid_row": null,
            "max_height": null,
            "align_content": null,
            "visibility": null,
            "align_self": null,
            "height": null,
            "min_height": null,
            "padding": null,
            "grid_auto_rows": null,
            "grid_gap": null,
            "max_width": null,
            "order": null,
            "_view_module_version": "1.2.0",
            "grid_template_areas": null,
            "object_position": null,
            "object_fit": null,
            "grid_auto_columns": null,
            "margin": null,
            "display": null,
            "left": null
          }
        },
        "af38622bc1694b4dabfc16d0b86a5054": {
          "model_module": "@jupyter-widgets/controls",
          "model_name": "DescriptionStyleModel",
          "state": {
            "_view_name": "StyleView",
            "_model_name": "DescriptionStyleModel",
            "description_width": "",
            "_view_module": "@jupyter-widgets/base",
            "_model_module_version": "1.5.0",
            "_view_count": null,
            "_view_module_version": "1.2.0",
            "_model_module": "@jupyter-widgets/controls"
          }
        },
        "cbe7a9dc262c472bbf450141708578d8": {
          "model_module": "@jupyter-widgets/base",
          "model_name": "LayoutModel",
          "state": {
            "_view_name": "LayoutView",
            "grid_template_rows": null,
            "right": null,
            "justify_content": null,
            "_view_module": "@jupyter-widgets/base",
            "overflow": null,
            "_model_module_version": "1.2.0",
            "_view_count": null,
            "flex_flow": null,
            "width": null,
            "min_width": null,
            "border": null,
            "align_items": null,
            "bottom": null,
            "_model_module": "@jupyter-widgets/base",
            "top": null,
            "grid_column": null,
            "overflow_y": null,
            "overflow_x": null,
            "grid_auto_flow": null,
            "grid_area": null,
            "grid_template_columns": null,
            "flex": null,
            "_model_name": "LayoutModel",
            "justify_items": null,
            "grid_row": null,
            "max_height": null,
            "align_content": null,
            "visibility": null,
            "align_self": null,
            "height": null,
            "min_height": null,
            "padding": null,
            "grid_auto_rows": null,
            "grid_gap": null,
            "max_width": null,
            "order": null,
            "_view_module_version": "1.2.0",
            "grid_template_areas": null,
            "object_position": null,
            "object_fit": null,
            "grid_auto_columns": null,
            "margin": null,
            "display": null,
            "left": null
          }
        }
      }
    }
  },
  "cells": [
    {
      "cell_type": "markdown",
      "metadata": {
        "id": "view-in-github",
        "colab_type": "text"
      },
      "source": [
        "<a href=\"https://colab.research.google.com/github/sakinavohracs/EmotionDetection/blob/master/SemEvalLSTM.ipynb\" target=\"_parent\"><img src=\"https://colab.research.google.com/assets/colab-badge.svg\" alt=\"Open In Colab\"/></a>"
      ]
    },
    {
      "cell_type": "markdown",
      "metadata": {
        "id": "rSRjMMddPB-z",
        "colab_type": "text"
      },
      "source": [
        "## Understanding Emotion Detection using upto 2 utterances"
      ]
    },
    {
      "cell_type": "code",
      "metadata": {
        "id": "XRDVtf63L-lC",
        "colab_type": "code",
        "colab": {
          "base_uri": "https://localhost:8080/",
          "height": 127
        },
        "outputId": "e3594167-782d-4597-f241-0801307b4491"
      },
      "source": [
        "from google.colab import drive\n",
        "\n",
        "drive.mount('/content/gdrive')\n",
        "root_path = 'gdrive/My Drive/' "
      ],
      "execution_count": 2,
      "outputs": [
        {
          "output_type": "stream",
          "text": [
            "Go to this URL in a browser: https://accounts.google.com/o/oauth2/auth?client_id=947318989803-6bn6qk8qdgf4n4g3pfee6491hc0brc4i.apps.googleusercontent.com&redirect_uri=urn%3aietf%3awg%3aoauth%3a2.0%3aoob&scope=email%20https%3a%2f%2fwww.googleapis.com%2fauth%2fdocs.test%20https%3a%2f%2fwww.googleapis.com%2fauth%2fdrive%20https%3a%2f%2fwww.googleapis.com%2fauth%2fdrive.photos.readonly%20https%3a%2f%2fwww.googleapis.com%2fauth%2fpeopleapi.readonly&response_type=code\n",
            "\n",
            "Enter your authorization code:\n",
            "··········\n",
            "Mounted at /content/gdrive\n"
          ],
          "name": "stdout"
        }
      ]
    },
    {
      "cell_type": "code",
      "metadata": {
        "id": "C9gRkB4-NFuv",
        "colab_type": "code",
        "colab": {
          "base_uri": "https://localhost:8080/",
          "height": 35
        },
        "outputId": "3f09ea73-2237-42fd-ee99-b216ebd5b8ad"
      },
      "source": [
        "%cd /content/gdrive/My\\ Drive/Colab\\ Notebooks/semeval2019_task3-master"
      ],
      "execution_count": 3,
      "outputs": [
        {
          "output_type": "stream",
          "text": [
            "/content/gdrive/My Drive/Colab Notebooks/semeval2019_task3-master\n"
          ],
          "name": "stdout"
        }
      ]
    },
    {
      "cell_type": "markdown",
      "metadata": {
        "id": "f8k85rc0Odon",
        "colab_type": "text"
      },
      "source": [
        "### **Transformers** - Transformers (formerly known as pytorch-transformers and pytorch-pretrained-bert) provides state-of-the-art general-purpose architectures (BERT, GPT-2, RoBERTa, XLM, DistilBert, XLNet, T5, CTRL...) for Natural Language Understanding (NLU) and Natural Language Generation (NLG) with over thousands of pretrained models in 100+ languages and deep interoperability between PyTorch & TensorFlow 2.0."
      ]
    },
    {
      "cell_type": "code",
      "metadata": {
        "id": "GkKo_0jKN2Fg",
        "colab_type": "code",
        "colab": {
          "base_uri": "https://localhost:8080/",
          "height": 649
        },
        "outputId": "2f94488d-1e43-4bd4-c646-fe15c43bfac4"
      },
      "source": [
        "!pip install transformers"
      ],
      "execution_count": 5,
      "outputs": [
        {
          "output_type": "stream",
          "text": [
            "Collecting transformers\n",
            "\u001b[?25l  Downloading https://files.pythonhosted.org/packages/27/3c/91ed8f5c4e7ef3227b4119200fc0ed4b4fd965b1f0172021c25701087825/transformers-3.0.2-py3-none-any.whl (769kB)\n",
            "\u001b[K     |████████████████████████████████| 778kB 8.4MB/s \n",
            "\u001b[?25hCollecting sacremoses\n",
            "\u001b[?25l  Downloading https://files.pythonhosted.org/packages/7d/34/09d19aff26edcc8eb2a01bed8e98f13a1537005d31e95233fd48216eed10/sacremoses-0.0.43.tar.gz (883kB)\n",
            "\u001b[K     |████████████████████████████████| 890kB 24.8MB/s \n",
            "\u001b[?25hRequirement already satisfied: numpy in /usr/local/lib/python3.6/dist-packages (from transformers) (1.18.5)\n",
            "Requirement already satisfied: dataclasses; python_version < \"3.7\" in /usr/local/lib/python3.6/dist-packages (from transformers) (0.7)\n",
            "Collecting sentencepiece!=0.1.92\n",
            "\u001b[?25l  Downloading https://files.pythonhosted.org/packages/d4/a4/d0a884c4300004a78cca907a6ff9a5e9fe4f090f5d95ab341c53d28cbc58/sentencepiece-0.1.91-cp36-cp36m-manylinux1_x86_64.whl (1.1MB)\n",
            "\u001b[K     |████████████████████████████████| 1.1MB 49.7MB/s \n",
            "\u001b[?25hRequirement already satisfied: filelock in /usr/local/lib/python3.6/dist-packages (from transformers) (3.0.12)\n",
            "Requirement already satisfied: requests in /usr/local/lib/python3.6/dist-packages (from transformers) (2.23.0)\n",
            "Requirement already satisfied: regex!=2019.12.17 in /usr/local/lib/python3.6/dist-packages (from transformers) (2019.12.20)\n",
            "Collecting tokenizers==0.8.1.rc1\n",
            "\u001b[?25l  Downloading https://files.pythonhosted.org/packages/40/d0/30d5f8d221a0ed981a186c8eb986ce1c94e3a6e87f994eae9f4aa5250217/tokenizers-0.8.1rc1-cp36-cp36m-manylinux1_x86_64.whl (3.0MB)\n",
            "\u001b[K     |████████████████████████████████| 3.0MB 58.4MB/s \n",
            "\u001b[?25hRequirement already satisfied: packaging in /usr/local/lib/python3.6/dist-packages (from transformers) (20.4)\n",
            "Requirement already satisfied: tqdm>=4.27 in /usr/local/lib/python3.6/dist-packages (from transformers) (4.41.1)\n",
            "Requirement already satisfied: six in /usr/local/lib/python3.6/dist-packages (from sacremoses->transformers) (1.15.0)\n",
            "Requirement already satisfied: click in /usr/local/lib/python3.6/dist-packages (from sacremoses->transformers) (7.1.2)\n",
            "Requirement already satisfied: joblib in /usr/local/lib/python3.6/dist-packages (from sacremoses->transformers) (0.16.0)\n",
            "Requirement already satisfied: idna<3,>=2.5 in /usr/local/lib/python3.6/dist-packages (from requests->transformers) (2.10)\n",
            "Requirement already satisfied: chardet<4,>=3.0.2 in /usr/local/lib/python3.6/dist-packages (from requests->transformers) (3.0.4)\n",
            "Requirement already satisfied: urllib3!=1.25.0,!=1.25.1,<1.26,>=1.21.1 in /usr/local/lib/python3.6/dist-packages (from requests->transformers) (1.24.3)\n",
            "Requirement already satisfied: certifi>=2017.4.17 in /usr/local/lib/python3.6/dist-packages (from requests->transformers) (2020.6.20)\n",
            "Requirement already satisfied: pyparsing>=2.0.2 in /usr/local/lib/python3.6/dist-packages (from packaging->transformers) (2.4.7)\n",
            "Building wheels for collected packages: sacremoses\n",
            "  Building wheel for sacremoses (setup.py) ... \u001b[?25l\u001b[?25hdone\n",
            "  Created wheel for sacremoses: filename=sacremoses-0.0.43-cp36-none-any.whl size=893260 sha256=ee14e36df88298b6e2d012abfbb57271d015110b2880eaa68e0a8a04397ebd6f\n",
            "  Stored in directory: /root/.cache/pip/wheels/29/3c/fd/7ce5c3f0666dab31a50123635e6fb5e19ceb42ce38d4e58f45\n",
            "Successfully built sacremoses\n",
            "Installing collected packages: sacremoses, sentencepiece, tokenizers, transformers\n",
            "Successfully installed sacremoses-0.0.43 sentencepiece-0.1.91 tokenizers-0.8.1rc1 transformers-3.0.2\n"
          ],
          "name": "stdout"
        }
      ]
    },
    {
      "cell_type": "markdown",
      "metadata": {
        "id": "rBfOZX45OMBJ",
        "colab_type": "text"
      },
      "source": [
        "### **Ekphrasis** - Text processing tool, geared towards text from social networks, such as Twitter or Facebook. Ekphrasis performs tokenization, word normalization, word segmentation (for splitting hashtags) and spell correction."
      ]
    },
    {
      "cell_type": "code",
      "metadata": {
        "id": "L1wPk_05N-sB",
        "colab_type": "code",
        "colab": {
          "base_uri": "https://localhost:8080/",
          "height": 613
        },
        "outputId": "1baac165-b0eb-4452-ac39-c46dfbab36bd"
      },
      "source": [
        "!pip install ekphrasis"
      ],
      "execution_count": 7,
      "outputs": [
        {
          "output_type": "stream",
          "text": [
            "Collecting ekphrasis\n",
            "\u001b[?25l  Downloading https://files.pythonhosted.org/packages/92/e6/37c59d65e78c3a2aaf662df58faca7250eb6b36c559b912a39a7ca204cfb/ekphrasis-0.5.1.tar.gz (80kB)\n",
            "\r\u001b[K     |████                            | 10kB 21.9MB/s eta 0:00:01\r\u001b[K     |████████▏                       | 20kB 5.6MB/s eta 0:00:01\r\u001b[K     |████████████▎                   | 30kB 7.0MB/s eta 0:00:01\r\u001b[K     |████████████████▍               | 40kB 7.7MB/s eta 0:00:01\r\u001b[K     |████████████████████▌           | 51kB 6.6MB/s eta 0:00:01\r\u001b[K     |████████████████████████▌       | 61kB 7.6MB/s eta 0:00:01\r\u001b[K     |████████████████████████████▋   | 71kB 7.9MB/s eta 0:00:01\r\u001b[K     |████████████████████████████████| 81kB 5.1MB/s \n",
            "\u001b[?25hRequirement already satisfied: termcolor in /usr/local/lib/python3.6/dist-packages (from ekphrasis) (1.1.0)\n",
            "Requirement already satisfied: tqdm in /usr/local/lib/python3.6/dist-packages (from ekphrasis) (4.41.1)\n",
            "Collecting colorama\n",
            "  Downloading https://files.pythonhosted.org/packages/c9/dc/45cdef1b4d119eb96316b3117e6d5708a08029992b2fee2c143c7a0a5cc5/colorama-0.4.3-py2.py3-none-any.whl\n",
            "Collecting ujson\n",
            "\u001b[?25l  Downloading https://files.pythonhosted.org/packages/be/1a/36ead6ae1bc3b82ea864ef87f8c8e1e06bec3a745dc65915f47b46f241d0/ujson-3.1.0-cp36-cp36m-manylinux1_x86_64.whl (175kB)\n",
            "\u001b[K     |████████████████████████████████| 184kB 16.5MB/s \n",
            "\u001b[?25hRequirement already satisfied: matplotlib in /usr/local/lib/python3.6/dist-packages (from ekphrasis) (3.2.2)\n",
            "Requirement already satisfied: nltk in /usr/local/lib/python3.6/dist-packages (from ekphrasis) (3.2.5)\n",
            "Collecting ftfy\n",
            "\u001b[?25l  Downloading https://files.pythonhosted.org/packages/ff/e2/3b51c53dffb1e52d9210ebc01f1fb9f2f6eba9b3201fa971fd3946643c71/ftfy-5.8.tar.gz (64kB)\n",
            "\u001b[K     |████████████████████████████████| 71kB 6.1MB/s \n",
            "\u001b[?25hRequirement already satisfied: numpy in /usr/local/lib/python3.6/dist-packages (from ekphrasis) (1.18.5)\n",
            "Requirement already satisfied: cycler>=0.10 in /usr/local/lib/python3.6/dist-packages (from matplotlib->ekphrasis) (0.10.0)\n",
            "Requirement already satisfied: pyparsing!=2.0.4,!=2.1.2,!=2.1.6,>=2.0.1 in /usr/local/lib/python3.6/dist-packages (from matplotlib->ekphrasis) (2.4.7)\n",
            "Requirement already satisfied: python-dateutil>=2.1 in /usr/local/lib/python3.6/dist-packages (from matplotlib->ekphrasis) (2.8.1)\n",
            "Requirement already satisfied: kiwisolver>=1.0.1 in /usr/local/lib/python3.6/dist-packages (from matplotlib->ekphrasis) (1.2.0)\n",
            "Requirement already satisfied: six in /usr/local/lib/python3.6/dist-packages (from nltk->ekphrasis) (1.15.0)\n",
            "Requirement already satisfied: wcwidth in /usr/local/lib/python3.6/dist-packages (from ftfy->ekphrasis) (0.2.5)\n",
            "Building wheels for collected packages: ekphrasis, ftfy\n",
            "  Building wheel for ekphrasis (setup.py) ... \u001b[?25l\u001b[?25hdone\n",
            "  Created wheel for ekphrasis: filename=ekphrasis-0.5.1-cp36-none-any.whl size=82843 sha256=10ca915bd57df3d7529aab98ab2bf17d113c77ae043b980b4fb97459b5c9e8bb\n",
            "  Stored in directory: /root/.cache/pip/wheels/2f/c5/9b/c9b60f535a2cf9fdbc92d84c4801a010c35a9cd348011ed2a1\n",
            "  Building wheel for ftfy (setup.py) ... \u001b[?25l\u001b[?25hdone\n",
            "  Created wheel for ftfy: filename=ftfy-5.8-cp36-none-any.whl size=45612 sha256=c4f11b8a3aa32c223a8fbfb788c576aea364cc36768d2aa7924f6ed55d9b811d\n",
            "  Stored in directory: /root/.cache/pip/wheels/ba/c0/ef/f28c4da5ac84a4e06ac256ca9182fc34fa57fefffdbc68425b\n",
            "Successfully built ekphrasis ftfy\n",
            "Installing collected packages: colorama, ujson, ftfy, ekphrasis\n",
            "Successfully installed colorama-0.4.3 ekphrasis-0.5.1 ftfy-5.8 ujson-3.1.0\n"
          ],
          "name": "stdout"
        }
      ]
    },
    {
      "cell_type": "code",
      "metadata": {
        "id": "c0PUVF3aO2Rj",
        "colab_type": "code",
        "colab": {
          "base_uri": "https://localhost:8080/",
          "height": 217
        },
        "outputId": "28f2a6a3-b622-443b-f58f-36db720ab6f1"
      },
      "source": [
        "!pip install emoji\n"
      ],
      "execution_count": 9,
      "outputs": [
        {
          "output_type": "stream",
          "text": [
            "Collecting emoji\n",
            "\u001b[?25l  Downloading https://files.pythonhosted.org/packages/ff/1c/1f1457fe52d0b30cbeebfd578483cedb3e3619108d2d5a21380dfecf8ffd/emoji-0.6.0.tar.gz (51kB)\n",
            "\r\u001b[K     |██████▍                         | 10kB 26.4MB/s eta 0:00:01\r\u001b[K     |████████████▉                   | 20kB 6.3MB/s eta 0:00:01\r\u001b[K     |███████████████████▎            | 30kB 7.5MB/s eta 0:00:01\r\u001b[K     |█████████████████████████▊      | 40kB 7.8MB/s eta 0:00:01\r\u001b[K     |████████████████████████████████| 51kB 4.3MB/s \n",
            "\u001b[?25hBuilding wheels for collected packages: emoji\n",
            "  Building wheel for emoji (setup.py) ... \u001b[?25l\u001b[?25hdone\n",
            "  Created wheel for emoji: filename=emoji-0.6.0-cp36-none-any.whl size=49714 sha256=56ff53f4392a3aa33d32e1149eb6c28feaf048124b1c9ab1db27ee2f74200508\n",
            "  Stored in directory: /root/.cache/pip/wheels/46/2c/8b/9dcf5216ca68e14e0320e283692dce8ae321cdc01e73e17796\n",
            "Successfully built emoji\n",
            "Installing collected packages: emoji\n",
            "Successfully installed emoji-0.6.0\n"
          ],
          "name": "stdout"
        }
      ]
    },
    {
      "cell_type": "code",
      "metadata": {
        "id": "qqBQs_pDNUH2",
        "colab_type": "code",
        "colab": {
          "base_uri": "https://localhost:8080/",
          "height": 197
        },
        "outputId": "1838ff8a-9efb-4e17-e02a-1af0750e91eb"
      },
      "source": [
        "# export\n",
        "# pytorch\n",
        "import torch\n",
        "import torch.nn as nn\n",
        "import torch.optim as optim\n",
        "from torch.utils.data import Dataset, DataLoader\n",
        "\n",
        "# transformers\n",
        "from transformers import PreTrainedModel, PreTrainedTokenizer, PretrainedConfig\n",
        "from transformers import BertForSequenceClassification, BertTokenizer, BertConfig\n",
        "\n",
        "# fast.ai\n",
        "from fastai import *\n",
        "from fastai.text import *\n",
        "from fastai.callbacks import *\n",
        "\n",
        "# fastbert\n",
        "from semeval2019_task3.fastbert import *\n",
        "\n",
        "# dataloader utility function\n",
        "from data_cleaner import process_pipeline"
      ],
      "execution_count": 10,
      "outputs": [
        {
          "output_type": "stream",
          "text": [
            "Word statistics files not found!\n",
            "Downloading... done!\n",
            "Unpacking... done!\n",
            "Reading twitter - 1grams ...\n",
            "generating cache file for faster loading...\n",
            "reading ngrams /root/.ekphrasis/stats/twitter/counts_1grams.txt\n",
            "Reading twitter - 2grams ...\n",
            "generating cache file for faster loading...\n",
            "reading ngrams /root/.ekphrasis/stats/twitter/counts_2grams.txt\n",
            "Reading twitter - 1grams ...\n"
          ],
          "name": "stdout"
        }
      ]
    },
    {
      "cell_type": "code",
      "metadata": {
        "id": "LhgMw7eaP5YM",
        "colab_type": "code",
        "colab": {}
      },
      "source": [
        "model_class, tokenizer_class, config_class = BertForSequenceClassification, BertTokenizer, BertConfig"
      ],
      "execution_count": 11,
      "outputs": []
    },
    {
      "cell_type": "markdown",
      "metadata": {
        "id": "2h0w-gOyQnAq",
        "colab_type": "text"
      },
      "source": [
        "# Loading Data"
      ]
    },
    {
      "cell_type": "code",
      "metadata": {
        "id": "JICFZvQIQkQT",
        "colab_type": "code",
        "colab": {}
      },
      "source": [
        "train = pd.read_csv('./data/train.txt', delimiter='\\t', encoding='utf-8', index_col='id')\n",
        "dev = pd.read_csv('./data/dev.txt', delimiter='\\t', encoding='utf-8', index_col='id')\n",
        "test = pd.read_csv('./data/test.txt', delimiter='\\t', encoding='utf-8', index_col='id')"
      ],
      "execution_count": 12,
      "outputs": []
    },
    {
      "cell_type": "code",
      "metadata": {
        "id": "YiZ3LYvCQp7K",
        "colab_type": "code",
        "colab": {
          "base_uri": "https://localhost:8080/",
          "height": 441
        },
        "outputId": "27b25325-18ab-4def-cff9-c8c33ac196d0"
      },
      "source": [
        "train.sample(10)"
      ],
      "execution_count": 13,
      "outputs": [
        {
          "output_type": "execute_result",
          "data": {
            "text/html": [
              "<div>\n",
              "<style scoped>\n",
              "    .dataframe tbody tr th:only-of-type {\n",
              "        vertical-align: middle;\n",
              "    }\n",
              "\n",
              "    .dataframe tbody tr th {\n",
              "        vertical-align: top;\n",
              "    }\n",
              "\n",
              "    .dataframe thead th {\n",
              "        text-align: right;\n",
              "    }\n",
              "</style>\n",
              "<table border=\"1\" class=\"dataframe\">\n",
              "  <thead>\n",
              "    <tr style=\"text-align: right;\">\n",
              "      <th></th>\n",
              "      <th>turn1</th>\n",
              "      <th>turn2</th>\n",
              "      <th>turn3</th>\n",
              "      <th>label</th>\n",
              "    </tr>\n",
              "    <tr>\n",
              "      <th>id</th>\n",
              "      <th></th>\n",
              "      <th></th>\n",
              "      <th></th>\n",
              "      <th></th>\n",
              "    </tr>\n",
              "  </thead>\n",
              "  <tbody>\n",
              "    <tr>\n",
              "      <th>21601</th>\n",
              "      <td>I don't know😀</td>\n",
              "      <td>I don't know how to maintain it 😛</td>\n",
              "      <td>😂</td>\n",
              "      <td>happy</td>\n",
              "    </tr>\n",
              "    <tr>\n",
              "      <th>26058</th>\n",
              "      <td>Now they want me to come up with a slogan for ...</td>\n",
              "      <td>Nobody got your idea, we been talking about th...</td>\n",
              "      <td>Hmmm. YES! Gunna run with it.</td>\n",
              "      <td>others</td>\n",
              "    </tr>\n",
              "    <tr>\n",
              "      <th>13939</th>\n",
              "      <td>I did it twice today and yesterday😔😔</td>\n",
              "      <td>I had a feeling you did</td>\n",
              "      <td>I was really tired so its been so hard</td>\n",
              "      <td>sad</td>\n",
              "    </tr>\n",
              "    <tr>\n",
              "      <th>8203</th>\n",
              "      <td>Gotta hit the bed</td>\n",
              "      <td>take a shower!</td>\n",
              "      <td>I took</td>\n",
              "      <td>others</td>\n",
              "    </tr>\n",
              "    <tr>\n",
              "      <th>596</th>\n",
              "      <td>hi my love</td>\n",
              "      <td>hi. Same here. Me too love myself.</td>\n",
              "      <td>miss  u so much bby</td>\n",
              "      <td>sad</td>\n",
              "    </tr>\n",
              "    <tr>\n",
              "      <th>21331</th>\n",
              "      <td>what do you want to know</td>\n",
              "      <td>I don't know xD Do you have pets?</td>\n",
              "      <td>i have a cat</td>\n",
              "      <td>others</td>\n",
              "    </tr>\n",
              "    <tr>\n",
              "      <th>24368</th>\n",
              "      <td>I  can me  20 April</td>\n",
              "      <td>definitely gonna wish you</td>\n",
              "      <td>I  come  20 April</td>\n",
              "      <td>others</td>\n",
              "    </tr>\n",
              "    <tr>\n",
              "      <th>15601</th>\n",
              "      <td>I'm girl</td>\n",
              "      <td>I like that</td>\n",
              "      <td>And have my pain full periods</td>\n",
              "      <td>sad</td>\n",
              "    </tr>\n",
              "    <tr>\n",
              "      <th>13351</th>\n",
              "      <td>Yes</td>\n",
              "      <td>YAY HAVE FUN 😌😀</td>\n",
              "      <td>I'm very sad</td>\n",
              "      <td>sad</td>\n",
              "    </tr>\n",
              "    <tr>\n",
              "      <th>13755</th>\n",
              "      <td>I am very happy</td>\n",
              "      <td>good to see u happy ??</td>\n",
              "      <td>Chatting with you</td>\n",
              "      <td>happy</td>\n",
              "    </tr>\n",
              "  </tbody>\n",
              "</table>\n",
              "</div>"
            ],
            "text/plain": [
              "                                                   turn1  ...   label\n",
              "id                                                        ...        \n",
              "21601                                      I don't know😀  ...   happy\n",
              "26058  Now they want me to come up with a slogan for ...  ...  others\n",
              "13939               I did it twice today and yesterday😔😔  ...     sad\n",
              "8203                                   Gotta hit the bed  ...  others\n",
              "596                                           hi my love  ...     sad\n",
              "21331                           what do you want to know  ...  others\n",
              "24368                                I  can me  20 April  ...  others\n",
              "15601                                           I'm girl  ...     sad\n",
              "13351                                                Yes  ...     sad\n",
              "13755                                    I am very happy  ...   happy\n",
              "\n",
              "[10 rows x 4 columns]"
            ]
          },
          "metadata": {
            "tags": []
          },
          "execution_count": 13
        }
      ]
    },
    {
      "cell_type": "code",
      "metadata": {
        "id": "vsH2pSVvQxNn",
        "colab_type": "code",
        "colab": {}
      },
      "source": [
        "for turn in ['turn1', 'turn2', 'turn3']: \n",
        "    train[turn] = train[turn].apply(process_pipeline)\n",
        "    dev[turn] = dev[turn].apply(process_pipeline)\n",
        "    test[turn] = test[turn].apply(process_pipeline)"
      ],
      "execution_count": 14,
      "outputs": []
    },
    {
      "cell_type": "code",
      "metadata": {
        "id": "VKiZrNtwQ68C",
        "colab_type": "code",
        "colab": {}
      },
      "source": [
        "# lookup for labels\n",
        "EMOS_DIC = {'happy': 0,\n",
        "            'angry': 1,\n",
        "            'sad': 2,\n",
        "            'others': 3}"
      ],
      "execution_count": 16,
      "outputs": []
    },
    {
      "cell_type": "code",
      "metadata": {
        "id": "P4cko0EERD0i",
        "colab_type": "code",
        "colab": {}
      },
      "source": [
        "train.label = train.label.apply(lambda x: EMOS_DIC[x])\n",
        "dev.label = dev.label.apply(lambda x: EMOS_DIC[x])\n",
        "test.label = test.label.apply(lambda x: EMOS_DIC[x])"
      ],
      "execution_count": 17,
      "outputs": []
    },
    {
      "cell_type": "code",
      "metadata": {
        "id": "G8IbxG03RHT4",
        "colab_type": "code",
        "colab": {}
      },
      "source": [
        "def seed_all(seed_value=42):\n",
        "    \"\"\"random seeding Python and torch\"\"\"\n",
        "    random.seed(seed_value) # Python\n",
        "    np.random.seed(seed_value) # cpu vars\n",
        "    torch.manual_seed(seed_value) # cpu  vars\n",
        "    \n",
        "    if torch.cuda.is_available(): \n",
        "        torch.cuda.manual_seed(seed_value)\n",
        "        torch.cuda.manual_seed_all(seed_value) # gpu vars\n",
        "        torch.backends.cudnn.deterministic = True  #needed\n",
        "        torch.backends.cudnn.benchmark = False"
      ],
      "execution_count": 18,
      "outputs": []
    },
    {
      "cell_type": "code",
      "metadata": {
        "id": "P_D5PNrZRKMO",
        "colab_type": "code",
        "colab": {}
      },
      "source": [
        "seed_all()"
      ],
      "execution_count": 19,
      "outputs": []
    },
    {
      "cell_type": "code",
      "metadata": {
        "id": "uv-mHhohRLNh",
        "colab_type": "code",
        "colab": {
          "base_uri": "https://localhost:8080/",
          "height": 67,
          "referenced_widgets": [
            "3c0535ff7d2c4c7692f4e4df49c6fda8",
            "c99e65a9501f4beca38318b4e8910816",
            "6c4ad3a94826442c996e2c809552dac9",
            "eb5793fc74604183b9d379ef3dae1c46",
            "5044e70589e04625a6023d953b18e559",
            "f53e9ee884ea43c480d32dfeabd6a557",
            "7b3a0640b9ea4b0f98dbef462ad1d5c6",
            "4e5a5368d17a4e75bc1e65804396b3a5"
          ]
        },
        "outputId": "176ba3dc-beeb-4dcd-b12f-bdc7a7c0613a"
      },
      "source": [
        "# setting up the processors for fast.ai TextList \n",
        "pretrained_model_name = 'bert-large-uncased-whole-word-masking'\n",
        "\n",
        "transformer_tokenizer = tokenizer_class.from_pretrained(pretrained_model_name)\n",
        "transformer_base_tokenizer = TransformersBaseTokenizer(pretrained_tokenizer = transformer_tokenizer, model_type = model_type)\n",
        "fastai_tokenizer = SeqTokenizer(tok_func = transformer_base_tokenizer, pre_rules=[], post_rules=[])\n",
        "tokenize_processor = SeqTokenizeProcessor(tokenizer=fastai_tokenizer, include_bos=False, include_eos=False)\n",
        "\n",
        "transformer_vocab =  TransformersVocab(tokenizer = transformer_tokenizer)\n",
        "numericalize_processor = NumericalizeProcessor(vocab=transformer_vocab)\n",
        "\n",
        "transformer_processor = [tokenize_processor, numericalize_processor]"
      ],
      "execution_count": 20,
      "outputs": [
        {
          "output_type": "display_data",
          "data": {
            "application/vnd.jupyter.widget-view+json": {
              "model_id": "3c0535ff7d2c4c7692f4e4df49c6fda8",
              "version_minor": 0,
              "version_major": 2
            },
            "text/plain": [
              "HBox(children=(FloatProgress(value=0.0, description='Downloading', max=231508.0, style=ProgressStyle(descripti…"
            ]
          },
          "metadata": {
            "tags": []
          }
        },
        {
          "output_type": "stream",
          "text": [
            "\n"
          ],
          "name": "stdout"
        }
      ]
    },
    {
      "cell_type": "code",
      "metadata": {
        "id": "sBXXKf-NRPDe",
        "colab_type": "code",
        "colab": {}
      },
      "source": [
        "pad_idx = transformer_tokenizer.pad_token_id"
      ],
      "execution_count": 21,
      "outputs": []
    },
    {
      "cell_type": "code",
      "metadata": {
        "id": "_fZ8H3AVRYD3",
        "colab_type": "code",
        "colab": {
          "base_uri": "https://localhost:8080/",
          "height": 17
        },
        "outputId": "2ea873d5-0b6e-487c-ae5a-6da453ec2085"
      },
      "source": [
        "# setting up the databunch\n",
        "databunch = (TextList.from_df(train, cols=['turn1', 'turn2', 'turn3'], processor=transformer_processor)\n",
        "             .split_none()\n",
        "             .label_from_df(cols= 'label')\n",
        "             .databunch(bs=32, pad_first=False, pad_idx=pad_idx))"
      ],
      "execution_count": 22,
      "outputs": [
        {
          "output_type": "display_data",
          "data": {
            "text/html": [
              ""
            ],
            "text/plain": [
              "<IPython.core.display.HTML object>"
            ]
          },
          "metadata": {
            "tags": []
          }
        },
        {
          "output_type": "display_data",
          "data": {
            "text/html": [
              ""
            ],
            "text/plain": [
              "<IPython.core.display.HTML object>"
            ]
          },
          "metadata": {
            "tags": []
          }
        }
      ]
    },
    {
      "cell_type": "code",
      "metadata": {
        "id": "8Yi5ytRzRnLs",
        "colab_type": "code",
        "colab": {
          "base_uri": "https://localhost:8080/",
          "height": 17
        },
        "outputId": "f0b3658e-332f-488f-f35d-5c8fc175383c"
      },
      "source": [
        "# batchsizes have to be devidors of the length of the data \n",
        "# with TextList objects the last batch would be cut if not\n",
        "# it would cut the last not size fitting batch out completly\n",
        "# to validate on new data we have to create a dataloader\n",
        "# most easiest way is to use the datablock api from FastAi\n",
        "\n",
        "databunch.valid_dl = (TextList.from_df(dev, cols=['turn1', 'turn2', 'turn3'], processor=transformer_processor)\n",
        "                      .split_none()\n",
        "                      .label_from_df(cols= 'label')\n",
        "                      .databunch(bs=5, pad_first=False, pad_idx=pad_idx)).train_dl"
      ],
      "execution_count": 23,
      "outputs": [
        {
          "output_type": "display_data",
          "data": {
            "text/html": [
              ""
            ],
            "text/plain": [
              "<IPython.core.display.HTML object>"
            ]
          },
          "metadata": {
            "tags": []
          }
        },
        {
          "output_type": "display_data",
          "data": {
            "text/html": [
              ""
            ],
            "text/plain": [
              "<IPython.core.display.HTML object>"
            ]
          },
          "metadata": {
            "tags": []
          }
        }
      ]
    },
    {
      "cell_type": "code",
      "metadata": {
        "id": "RDM17Ag-Rp9t",
        "colab_type": "code",
        "colab": {
          "base_uri": "https://localhost:8080/",
          "height": 17
        },
        "outputId": "40e1c323-10e8-4260-ee31-9fbc32babb34"
      },
      "source": [
        "test_dl = (TextList.from_df(test, cols=['turn1', 'turn2', 'turn3'], processor=transformer_processor)\n",
        "             .split_none()\n",
        "             .label_from_df(cols= 'label')\n",
        "             .databunch(bs=7, pad_first=False, pad_idx=pad_idx)).train_dl"
      ],
      "execution_count": 24,
      "outputs": [
        {
          "output_type": "display_data",
          "data": {
            "text/html": [
              ""
            ],
            "text/plain": [
              "<IPython.core.display.HTML object>"
            ]
          },
          "metadata": {
            "tags": []
          }
        },
        {
          "output_type": "display_data",
          "data": {
            "text/html": [
              ""
            ],
            "text/plain": [
              "<IPython.core.display.HTML object>"
            ]
          },
          "metadata": {
            "tags": []
          }
        }
      ]
    },
    {
      "cell_type": "markdown",
      "metadata": {
        "id": "9-GcPrTWRxDT",
        "colab_type": "text"
      },
      "source": [
        "## Model Setup"
      ]
    },
    {
      "cell_type": "code",
      "metadata": {
        "id": "dmdFdh0hRtUj",
        "colab_type": "code",
        "colab": {
          "base_uri": "https://localhost:8080/",
          "height": 679,
          "referenced_widgets": [
            "23efcd6cccd542c2928c308b94eaa75e",
            "976bd98ac719447c9acff21057c4b167",
            "30041d59f315495a91e21fdef35aca60",
            "2873a4033a434a109b105894d01107b4",
            "2b3c947aa78445d1a44dc734cd006dd5",
            "c8c96a857d5a4bdc856873be862c2c32",
            "bacc0de5f88c4d6c9b23c3009e5fdc41",
            "74e7d2089acf4ba38563130ac2e26e5e"
          ]
        },
        "outputId": "a482dcac-af70-4215-cd61-28c3101de53b"
      },
      "source": [
        "config = config_class.from_pretrained(pretrained_model_name)\n",
        "config.num_labels = 4\n",
        "config.use_bfloat16 = True # False\n",
        "print(config)"
      ],
      "execution_count": 25,
      "outputs": [
        {
          "output_type": "display_data",
          "data": {
            "application/vnd.jupyter.widget-view+json": {
              "model_id": "23efcd6cccd542c2928c308b94eaa75e",
              "version_minor": 0,
              "version_major": 2
            },
            "text/plain": [
              "HBox(children=(FloatProgress(value=0.0, description='Downloading', max=434.0, style=ProgressStyle(description_…"
            ]
          },
          "metadata": {
            "tags": []
          }
        },
        {
          "output_type": "stream",
          "text": [
            "\n",
            "BertConfig {\n",
            "  \"architectures\": [\n",
            "    \"BertForMaskedLM\"\n",
            "  ],\n",
            "  \"attention_probs_dropout_prob\": 0.1,\n",
            "  \"gradient_checkpointing\": false,\n",
            "  \"hidden_act\": \"gelu\",\n",
            "  \"hidden_dropout_prob\": 0.1,\n",
            "  \"hidden_size\": 1024,\n",
            "  \"id2label\": {\n",
            "    \"0\": \"LABEL_0\",\n",
            "    \"1\": \"LABEL_1\",\n",
            "    \"2\": \"LABEL_2\",\n",
            "    \"3\": \"LABEL_3\"\n",
            "  },\n",
            "  \"initializer_range\": 0.02,\n",
            "  \"intermediate_size\": 4096,\n",
            "  \"label2id\": {\n",
            "    \"LABEL_0\": 0,\n",
            "    \"LABEL_1\": 1,\n",
            "    \"LABEL_2\": 2,\n",
            "    \"LABEL_3\": 3\n",
            "  },\n",
            "  \"layer_norm_eps\": 1e-12,\n",
            "  \"max_position_embeddings\": 512,\n",
            "  \"model_type\": \"bert\",\n",
            "  \"num_attention_heads\": 16,\n",
            "  \"num_hidden_layers\": 24,\n",
            "  \"pad_token_id\": 0,\n",
            "  \"type_vocab_size\": 2,\n",
            "  \"use_bfloat16\": true,\n",
            "  \"vocab_size\": 30522\n",
            "}\n",
            "\n"
          ],
          "name": "stdout"
        }
      ]
    },
    {
      "cell_type": "code",
      "metadata": {
        "id": "1TGSJjrbR3VB",
        "colab_type": "code",
        "colab": {
          "base_uri": "https://localhost:8080/",
          "height": 177,
          "referenced_widgets": [
            "feb415f9b9c74ddbb08165336c51c17e",
            "022021fffcc24e9a84adbb40f4513d8f",
            "86d6e41f3cdf4ebca02125439806a165",
            "793ce300fe5242a492880648d8de56a6",
            "87322662b417404fae151954a3f9d65e",
            "712dedf076304c61b6004f88b7dc90af",
            "af38622bc1694b4dabfc16d0b86a5054",
            "cbe7a9dc262c472bbf450141708578d8"
          ]
        },
        "outputId": "2851811b-212e-4110-cc9c-d32470c42f49"
      },
      "source": [
        "# create the customized model from the pretrained Bert weights\n",
        "transformer_model = model_class.from_pretrained(pretrained_model_name, config = config)\n",
        "custom_transformer_model = CustomTransformerModel(transformer_model = transformer_model)"
      ],
      "execution_count": 26,
      "outputs": [
        {
          "output_type": "display_data",
          "data": {
            "application/vnd.jupyter.widget-view+json": {
              "model_id": "feb415f9b9c74ddbb08165336c51c17e",
              "version_minor": 0,
              "version_major": 2
            },
            "text/plain": [
              "HBox(children=(FloatProgress(value=0.0, description='Downloading', max=1345000548.0, style=ProgressStyle(descr…"
            ]
          },
          "metadata": {
            "tags": []
          }
        },
        {
          "output_type": "stream",
          "text": [
            "\n"
          ],
          "name": "stdout"
        },
        {
          "output_type": "stream",
          "text": [
            "Some weights of the model checkpoint at bert-large-uncased-whole-word-masking were not used when initializing BertForSequenceClassification: ['cls.predictions.bias', 'cls.predictions.transform.dense.weight', 'cls.predictions.transform.dense.bias', 'cls.predictions.transform.LayerNorm.weight', 'cls.predictions.transform.LayerNorm.bias', 'cls.predictions.decoder.weight', 'cls.seq_relationship.weight', 'cls.seq_relationship.bias']\n",
            "- This IS expected if you are initializing BertForSequenceClassification from the checkpoint of a model trained on another task or with another architecture (e.g. initializing a BertForSequenceClassification model from a BertForPretraining model).\n",
            "- This IS NOT expected if you are initializing BertForSequenceClassification from the checkpoint of a model that you expect to be exactly identical (initializing a BertForSequenceClassification model from a BertForSequenceClassification model).\n",
            "Some weights of BertForSequenceClassification were not initialized from the model checkpoint at bert-large-uncased-whole-word-masking and are newly initialized: ['classifier.weight', 'classifier.bias']\n",
            "You should probably TRAIN this model on a down-stream task to be able to use it for predictions and inference.\n"
          ],
          "name": "stderr"
        }
      ]
    },
    {
      "cell_type": "code",
      "metadata": {
        "id": "1nVnGOD9SAyD",
        "colab_type": "code",
        "colab": {}
      },
      "source": [
        "# the weights result from the balances of the train dataset\n",
        "weight_list = [0.3198680179, 0.246494733, 0.2484349259, 1.74527696]\n",
        "weight_label = torch.Tensor(weight_list).cuda()\n",
        "loss_criterion = nn.CrossEntropyLoss(reduction='none')"
      ],
      "execution_count": 27,
      "outputs": []
    },
    {
      "cell_type": "code",
      "metadata": {
        "id": "G_rKiSBHSL4v",
        "colab_type": "code",
        "colab": {}
      },
      "source": [
        "# export\n",
        "def loss_reweight(pred, y_b):\n",
        "    \"\"\"cross entropy loss with reweighting\"\"\"\n",
        "    loss_label = loss_criterion(pred, y_b.view(-1).cuda()).cuda()\n",
        "    loss_label = torch.matmul(torch.gather(weight_label, 0, y_b.view(-1).cuda()), loss_label) / \\\n",
        "                 y_b.view(-1).shape[0]\n",
        "\n",
        "    return loss_label"
      ],
      "execution_count": 28,
      "outputs": []
    },
    {
      "cell_type": "code",
      "metadata": {
        "id": "84PTQNZoSOYh",
        "colab_type": "code",
        "colab": {}
      },
      "source": [
        "# export\n",
        "def metrics(logits, labels):\n",
        "    cm = torch.zeros((4,4))\n",
        "    preds = torch.argmax(logits, dim=1)\n",
        "    acc = (labels == preds).float().mean()\n",
        "    for label, pred in zip(labels.view(-1), preds.view(-1)):\n",
        "        cm[label.long(), pred.long()] += 1\n",
        "        \n",
        "    tp = cm.diagonal()[:3].sum()\n",
        "    fp = cm[:, :3].sum() - tp\n",
        "    fn = cm[:3, :].sum() - tp \n",
        "    return {'val_acc': acc, 'tp': tp, 'fp': fp, 'fn': fn}\n",
        "\n",
        "def f1_score(tp, fp, fn):\n",
        "    prec_rec_f1 = {}\n",
        "    prec_rec_f1['precision'] = tp / (tp + fp)\n",
        "    prec_rec_f1['recall'] = tp / (tp + fn)\n",
        "    prec_rec_f1['f1_score'] = 2 * (prec_rec_f1['precision'] * prec_rec_f1['recall']) / (prec_rec_f1['precision'] + prec_rec_f1['recall'])\n",
        "    return prec_rec_f1"
      ],
      "execution_count": 29,
      "outputs": []
    },
    {
      "cell_type": "code",
      "metadata": {
        "id": "fXfG4gmLSW_q",
        "colab_type": "code",
        "colab": {}
      },
      "source": [
        "# export\n",
        "class F1Micro(Callback):\n",
        "    \"\"\"custom loss for fast.ai\"\"\"\n",
        "    def on_epoch_begin(self, **kwargs):\n",
        "        self.out, self.target = torch.empty(0), torch.empty(0)\n",
        "    \n",
        "    def on_batch_end(self, last_output, last_target, **kwargs):\n",
        "        self.out = torch.cat((self.out.type(last_output.cpu().type()), last_output.cpu()))\n",
        "        self.target = torch.cat((self.target.type(last_target.cpu().type()), last_target.cpu()))\n",
        "    \n",
        "    def on_epoch_end(self, last_metrics, **kwargs):\n",
        "        assert self.out.shape[0] == self.target.shape[0]\n",
        "        metric = metrics(self.out, self.target)\n",
        "        f1_dict = f1_score(metric['tp'], metric['fp'], metric['fn'])\n",
        "        return add_metrics(last_metrics, [f1_dict['f1_score'].numpy()] )"
      ],
      "execution_count": 30,
      "outputs": []
    },
    {
      "cell_type": "code",
      "metadata": {
        "id": "VLVxwYZyScHz",
        "colab_type": "code",
        "colab": {}
      },
      "source": [
        "from transformers import AdamW\n",
        "from functools import partial\n",
        "\n",
        "CustomAdamW = partial(AdamW, correct_bias=False)\n",
        "\n",
        "learner = Learner(databunch, \n",
        "                  custom_transformer_model, \n",
        "                  opt_func = CustomAdamW, \n",
        "                  metrics=[accuracy, F1Micro()],\n",
        "                  loss_func=loss_reweight,\n",
        "                  callback_fns=partial(GradientClipping, clip=0.888))\n",
        "\n",
        "# Show graph of learner stats and metrics after each epoch.\n",
        "learner.callbacks.append(ShowGraph(learner))\n",
        "# learner.callbacks.append(SaveModelCallback(learner, every='improvement', monitor='valid_loss', name='best_model'))\n",
        "\n",
        "# Put learn in FP16 precision mode\n",
        "learner = learner.to_fp16() # delete the line if fp16 is not wanted"
      ],
      "execution_count": 31,
      "outputs": []
    },
    {
      "cell_type": "code",
      "metadata": {
        "id": "mwmCSIG7SdQk",
        "colab_type": "code",
        "colab": {
          "base_uri": "https://localhost:8080/",
          "height": 1000
        },
        "outputId": "cc182907-49d0-4bfd-f250-86697b9f08ff"
      },
      "source": [
        "learner.summary()"
      ],
      "execution_count": 32,
      "outputs": [
        {
          "output_type": "stream",
          "text": [
            "/content/gdrive/My Drive/Colab Notebooks/semeval2019_task3-master/semeval2019_task3/fastbert.py:88: UserWarning: This overload of nonzero is deprecated:\n",
            "\tnonzero()\n",
            "Consider using one of the following signatures instead:\n",
            "\tnonzero(*, bool as_tuple) (Triggered internally at  /pytorch/torch/csrc/utils/python_arg_parser.cpp:766.)\n",
            "  segs = (segment_ids==102).nonzero().cpu().numpy()\n"
          ],
          "name": "stderr"
        },
        {
          "output_type": "execute_result",
          "data": {
            "application/vnd.google.colaboratory.intrinsic+json": {
              "type": "string"
            },
            "text/plain": [
              "CustomTransformerModel\n",
              "======================================================================\n",
              "Layer (type)         Output Shape         Param #    Trainable \n",
              "======================================================================\n",
              "Embedding            [64, 1024]           31,254,528 True      \n",
              "______________________________________________________________________\n",
              "Embedding            [64, 1024]           524,288    True      \n",
              "______________________________________________________________________\n",
              "Embedding            [64, 1024]           2,048      True      \n",
              "______________________________________________________________________\n",
              "LayerNorm            [64, 1024]           2,048      True      \n",
              "______________________________________________________________________\n",
              "Dropout              [64, 1024]           0          False     \n",
              "______________________________________________________________________\n",
              "Linear               [64, 1024]           1,049,600  True      \n",
              "______________________________________________________________________\n",
              "Linear               [64, 1024]           1,049,600  True      \n",
              "______________________________________________________________________\n",
              "Linear               [64, 1024]           1,049,600  True      \n",
              "______________________________________________________________________\n",
              "Dropout              [16, 64, 64]         0          False     \n",
              "______________________________________________________________________\n",
              "Linear               [64, 1024]           1,049,600  True      \n",
              "______________________________________________________________________\n",
              "LayerNorm            [64, 1024]           2,048      True      \n",
              "______________________________________________________________________\n",
              "Dropout              [64, 1024]           0          False     \n",
              "______________________________________________________________________\n",
              "Linear               [64, 4096]           4,198,400  True      \n",
              "______________________________________________________________________\n",
              "Linear               [64, 1024]           4,195,328  True      \n",
              "______________________________________________________________________\n",
              "LayerNorm            [64, 1024]           2,048      True      \n",
              "______________________________________________________________________\n",
              "Dropout              [64, 1024]           0          False     \n",
              "______________________________________________________________________\n",
              "Linear               [64, 1024]           1,049,600  True      \n",
              "______________________________________________________________________\n",
              "Linear               [64, 1024]           1,049,600  True      \n",
              "______________________________________________________________________\n",
              "Linear               [64, 1024]           1,049,600  True      \n",
              "______________________________________________________________________\n",
              "Dropout              [16, 64, 64]         0          False     \n",
              "______________________________________________________________________\n",
              "Linear               [64, 1024]           1,049,600  True      \n",
              "______________________________________________________________________\n",
              "LayerNorm            [64, 1024]           2,048      True      \n",
              "______________________________________________________________________\n",
              "Dropout              [64, 1024]           0          False     \n",
              "______________________________________________________________________\n",
              "Linear               [64, 4096]           4,198,400  True      \n",
              "______________________________________________________________________\n",
              "Linear               [64, 1024]           4,195,328  True      \n",
              "______________________________________________________________________\n",
              "LayerNorm            [64, 1024]           2,048      True      \n",
              "______________________________________________________________________\n",
              "Dropout              [64, 1024]           0          False     \n",
              "______________________________________________________________________\n",
              "Linear               [64, 1024]           1,049,600  True      \n",
              "______________________________________________________________________\n",
              "Linear               [64, 1024]           1,049,600  True      \n",
              "______________________________________________________________________\n",
              "Linear               [64, 1024]           1,049,600  True      \n",
              "______________________________________________________________________\n",
              "Dropout              [16, 64, 64]         0          False     \n",
              "______________________________________________________________________\n",
              "Linear               [64, 1024]           1,049,600  True      \n",
              "______________________________________________________________________\n",
              "LayerNorm            [64, 1024]           2,048      True      \n",
              "______________________________________________________________________\n",
              "Dropout              [64, 1024]           0          False     \n",
              "______________________________________________________________________\n",
              "Linear               [64, 4096]           4,198,400  True      \n",
              "______________________________________________________________________\n",
              "Linear               [64, 1024]           4,195,328  True      \n",
              "______________________________________________________________________\n",
              "LayerNorm            [64, 1024]           2,048      True      \n",
              "______________________________________________________________________\n",
              "Dropout              [64, 1024]           0          False     \n",
              "______________________________________________________________________\n",
              "Linear               [64, 1024]           1,049,600  True      \n",
              "______________________________________________________________________\n",
              "Linear               [64, 1024]           1,049,600  True      \n",
              "______________________________________________________________________\n",
              "Linear               [64, 1024]           1,049,600  True      \n",
              "______________________________________________________________________\n",
              "Dropout              [16, 64, 64]         0          False     \n",
              "______________________________________________________________________\n",
              "Linear               [64, 1024]           1,049,600  True      \n",
              "______________________________________________________________________\n",
              "LayerNorm            [64, 1024]           2,048      True      \n",
              "______________________________________________________________________\n",
              "Dropout              [64, 1024]           0          False     \n",
              "______________________________________________________________________\n",
              "Linear               [64, 4096]           4,198,400  True      \n",
              "______________________________________________________________________\n",
              "Linear               [64, 1024]           4,195,328  True      \n",
              "______________________________________________________________________\n",
              "LayerNorm            [64, 1024]           2,048      True      \n",
              "______________________________________________________________________\n",
              "Dropout              [64, 1024]           0          False     \n",
              "______________________________________________________________________\n",
              "Linear               [64, 1024]           1,049,600  True      \n",
              "______________________________________________________________________\n",
              "Linear               [64, 1024]           1,049,600  True      \n",
              "______________________________________________________________________\n",
              "Linear               [64, 1024]           1,049,600  True      \n",
              "______________________________________________________________________\n",
              "Dropout              [16, 64, 64]         0          False     \n",
              "______________________________________________________________________\n",
              "Linear               [64, 1024]           1,049,600  True      \n",
              "______________________________________________________________________\n",
              "LayerNorm            [64, 1024]           2,048      True      \n",
              "______________________________________________________________________\n",
              "Dropout              [64, 1024]           0          False     \n",
              "______________________________________________________________________\n",
              "Linear               [64, 4096]           4,198,400  True      \n",
              "______________________________________________________________________\n",
              "Linear               [64, 1024]           4,195,328  True      \n",
              "______________________________________________________________________\n",
              "LayerNorm            [64, 1024]           2,048      True      \n",
              "______________________________________________________________________\n",
              "Dropout              [64, 1024]           0          False     \n",
              "______________________________________________________________________\n",
              "Linear               [64, 1024]           1,049,600  True      \n",
              "______________________________________________________________________\n",
              "Linear               [64, 1024]           1,049,600  True      \n",
              "______________________________________________________________________\n",
              "Linear               [64, 1024]           1,049,600  True      \n",
              "______________________________________________________________________\n",
              "Dropout              [16, 64, 64]         0          False     \n",
              "______________________________________________________________________\n",
              "Linear               [64, 1024]           1,049,600  True      \n",
              "______________________________________________________________________\n",
              "LayerNorm            [64, 1024]           2,048      True      \n",
              "______________________________________________________________________\n",
              "Dropout              [64, 1024]           0          False     \n",
              "______________________________________________________________________\n",
              "Linear               [64, 4096]           4,198,400  True      \n",
              "______________________________________________________________________\n",
              "Linear               [64, 1024]           4,195,328  True      \n",
              "______________________________________________________________________\n",
              "LayerNorm            [64, 1024]           2,048      True      \n",
              "______________________________________________________________________\n",
              "Dropout              [64, 1024]           0          False     \n",
              "______________________________________________________________________\n",
              "Linear               [64, 1024]           1,049,600  True      \n",
              "______________________________________________________________________\n",
              "Linear               [64, 1024]           1,049,600  True      \n",
              "______________________________________________________________________\n",
              "Linear               [64, 1024]           1,049,600  True      \n",
              "______________________________________________________________________\n",
              "Dropout              [16, 64, 64]         0          False     \n",
              "______________________________________________________________________\n",
              "Linear               [64, 1024]           1,049,600  True      \n",
              "______________________________________________________________________\n",
              "LayerNorm            [64, 1024]           2,048      True      \n",
              "______________________________________________________________________\n",
              "Dropout              [64, 1024]           0          False     \n",
              "______________________________________________________________________\n",
              "Linear               [64, 4096]           4,198,400  True      \n",
              "______________________________________________________________________\n",
              "Linear               [64, 1024]           4,195,328  True      \n",
              "______________________________________________________________________\n",
              "LayerNorm            [64, 1024]           2,048      True      \n",
              "______________________________________________________________________\n",
              "Dropout              [64, 1024]           0          False     \n",
              "______________________________________________________________________\n",
              "Linear               [64, 1024]           1,049,600  True      \n",
              "______________________________________________________________________\n",
              "Linear               [64, 1024]           1,049,600  True      \n",
              "______________________________________________________________________\n",
              "Linear               [64, 1024]           1,049,600  True      \n",
              "______________________________________________________________________\n",
              "Dropout              [16, 64, 64]         0          False     \n",
              "______________________________________________________________________\n",
              "Linear               [64, 1024]           1,049,600  True      \n",
              "______________________________________________________________________\n",
              "LayerNorm            [64, 1024]           2,048      True      \n",
              "______________________________________________________________________\n",
              "Dropout              [64, 1024]           0          False     \n",
              "______________________________________________________________________\n",
              "Linear               [64, 4096]           4,198,400  True      \n",
              "______________________________________________________________________\n",
              "Linear               [64, 1024]           4,195,328  True      \n",
              "______________________________________________________________________\n",
              "LayerNorm            [64, 1024]           2,048      True      \n",
              "______________________________________________________________________\n",
              "Dropout              [64, 1024]           0          False     \n",
              "______________________________________________________________________\n",
              "Linear               [64, 1024]           1,049,600  True      \n",
              "______________________________________________________________________\n",
              "Linear               [64, 1024]           1,049,600  True      \n",
              "______________________________________________________________________\n",
              "Linear               [64, 1024]           1,049,600  True      \n",
              "______________________________________________________________________\n",
              "Dropout              [16, 64, 64]         0          False     \n",
              "______________________________________________________________________\n",
              "Linear               [64, 1024]           1,049,600  True      \n",
              "______________________________________________________________________\n",
              "LayerNorm            [64, 1024]           2,048      True      \n",
              "______________________________________________________________________\n",
              "Dropout              [64, 1024]           0          False     \n",
              "______________________________________________________________________\n",
              "Linear               [64, 4096]           4,198,400  True      \n",
              "______________________________________________________________________\n",
              "Linear               [64, 1024]           4,195,328  True      \n",
              "______________________________________________________________________\n",
              "LayerNorm            [64, 1024]           2,048      True      \n",
              "______________________________________________________________________\n",
              "Dropout              [64, 1024]           0          False     \n",
              "______________________________________________________________________\n",
              "Linear               [64, 1024]           1,049,600  True      \n",
              "______________________________________________________________________\n",
              "Linear               [64, 1024]           1,049,600  True      \n",
              "______________________________________________________________________\n",
              "Linear               [64, 1024]           1,049,600  True      \n",
              "______________________________________________________________________\n",
              "Dropout              [16, 64, 64]         0          False     \n",
              "______________________________________________________________________\n",
              "Linear               [64, 1024]           1,049,600  True      \n",
              "______________________________________________________________________\n",
              "LayerNorm            [64, 1024]           2,048      True      \n",
              "______________________________________________________________________\n",
              "Dropout              [64, 1024]           0          False     \n",
              "______________________________________________________________________\n",
              "Linear               [64, 4096]           4,198,400  True      \n",
              "______________________________________________________________________\n",
              "Linear               [64, 1024]           4,195,328  True      \n",
              "______________________________________________________________________\n",
              "LayerNorm            [64, 1024]           2,048      True      \n",
              "______________________________________________________________________\n",
              "Dropout              [64, 1024]           0          False     \n",
              "______________________________________________________________________\n",
              "Linear               [64, 1024]           1,049,600  True      \n",
              "______________________________________________________________________\n",
              "Linear               [64, 1024]           1,049,600  True      \n",
              "______________________________________________________________________\n",
              "Linear               [64, 1024]           1,049,600  True      \n",
              "______________________________________________________________________\n",
              "Dropout              [16, 64, 64]         0          False     \n",
              "______________________________________________________________________\n",
              "Linear               [64, 1024]           1,049,600  True      \n",
              "______________________________________________________________________\n",
              "LayerNorm            [64, 1024]           2,048      True      \n",
              "______________________________________________________________________\n",
              "Dropout              [64, 1024]           0          False     \n",
              "______________________________________________________________________\n",
              "Linear               [64, 4096]           4,198,400  True      \n",
              "______________________________________________________________________\n",
              "Linear               [64, 1024]           4,195,328  True      \n",
              "______________________________________________________________________\n",
              "LayerNorm            [64, 1024]           2,048      True      \n",
              "______________________________________________________________________\n",
              "Dropout              [64, 1024]           0          False     \n",
              "______________________________________________________________________\n",
              "Linear               [64, 1024]           1,049,600  True      \n",
              "______________________________________________________________________\n",
              "Linear               [64, 1024]           1,049,600  True      \n",
              "______________________________________________________________________\n",
              "Linear               [64, 1024]           1,049,600  True      \n",
              "______________________________________________________________________\n",
              "Dropout              [16, 64, 64]         0          False     \n",
              "______________________________________________________________________\n",
              "Linear               [64, 1024]           1,049,600  True      \n",
              "______________________________________________________________________\n",
              "LayerNorm            [64, 1024]           2,048      True      \n",
              "______________________________________________________________________\n",
              "Dropout              [64, 1024]           0          False     \n",
              "______________________________________________________________________\n",
              "Linear               [64, 4096]           4,198,400  True      \n",
              "______________________________________________________________________\n",
              "Linear               [64, 1024]           4,195,328  True      \n",
              "______________________________________________________________________\n",
              "LayerNorm            [64, 1024]           2,048      True      \n",
              "______________________________________________________________________\n",
              "Dropout              [64, 1024]           0          False     \n",
              "______________________________________________________________________\n",
              "Linear               [64, 1024]           1,049,600  True      \n",
              "______________________________________________________________________\n",
              "Linear               [64, 1024]           1,049,600  True      \n",
              "______________________________________________________________________\n",
              "Linear               [64, 1024]           1,049,600  True      \n",
              "______________________________________________________________________\n",
              "Dropout              [16, 64, 64]         0          False     \n",
              "______________________________________________________________________\n",
              "Linear               [64, 1024]           1,049,600  True      \n",
              "______________________________________________________________________\n",
              "LayerNorm            [64, 1024]           2,048      True      \n",
              "______________________________________________________________________\n",
              "Dropout              [64, 1024]           0          False     \n",
              "______________________________________________________________________\n",
              "Linear               [64, 4096]           4,198,400  True      \n",
              "______________________________________________________________________\n",
              "Linear               [64, 1024]           4,195,328  True      \n",
              "______________________________________________________________________\n",
              "LayerNorm            [64, 1024]           2,048      True      \n",
              "______________________________________________________________________\n",
              "Dropout              [64, 1024]           0          False     \n",
              "______________________________________________________________________\n",
              "Linear               [64, 1024]           1,049,600  True      \n",
              "______________________________________________________________________\n",
              "Linear               [64, 1024]           1,049,600  True      \n",
              "______________________________________________________________________\n",
              "Linear               [64, 1024]           1,049,600  True      \n",
              "______________________________________________________________________\n",
              "Dropout              [16, 64, 64]         0          False     \n",
              "______________________________________________________________________\n",
              "Linear               [64, 1024]           1,049,600  True      \n",
              "______________________________________________________________________\n",
              "LayerNorm            [64, 1024]           2,048      True      \n",
              "______________________________________________________________________\n",
              "Dropout              [64, 1024]           0          False     \n",
              "______________________________________________________________________\n",
              "Linear               [64, 4096]           4,198,400  True      \n",
              "______________________________________________________________________\n",
              "Linear               [64, 1024]           4,195,328  True      \n",
              "______________________________________________________________________\n",
              "LayerNorm            [64, 1024]           2,048      True      \n",
              "______________________________________________________________________\n",
              "Dropout              [64, 1024]           0          False     \n",
              "______________________________________________________________________\n",
              "Linear               [64, 1024]           1,049,600  True      \n",
              "______________________________________________________________________\n",
              "Linear               [64, 1024]           1,049,600  True      \n",
              "______________________________________________________________________\n",
              "Linear               [64, 1024]           1,049,600  True      \n",
              "______________________________________________________________________\n",
              "Dropout              [16, 64, 64]         0          False     \n",
              "______________________________________________________________________\n",
              "Linear               [64, 1024]           1,049,600  True      \n",
              "______________________________________________________________________\n",
              "LayerNorm            [64, 1024]           2,048      True      \n",
              "______________________________________________________________________\n",
              "Dropout              [64, 1024]           0          False     \n",
              "______________________________________________________________________\n",
              "Linear               [64, 4096]           4,198,400  True      \n",
              "______________________________________________________________________\n",
              "Linear               [64, 1024]           4,195,328  True      \n",
              "______________________________________________________________________\n",
              "LayerNorm            [64, 1024]           2,048      True      \n",
              "______________________________________________________________________\n",
              "Dropout              [64, 1024]           0          False     \n",
              "______________________________________________________________________\n",
              "Linear               [64, 1024]           1,049,600  True      \n",
              "______________________________________________________________________\n",
              "Linear               [64, 1024]           1,049,600  True      \n",
              "______________________________________________________________________\n",
              "Linear               [64, 1024]           1,049,600  True      \n",
              "______________________________________________________________________\n",
              "Dropout              [16, 64, 64]         0          False     \n",
              "______________________________________________________________________\n",
              "Linear               [64, 1024]           1,049,600  True      \n",
              "______________________________________________________________________\n",
              "LayerNorm            [64, 1024]           2,048      True      \n",
              "______________________________________________________________________\n",
              "Dropout              [64, 1024]           0          False     \n",
              "______________________________________________________________________\n",
              "Linear               [64, 4096]           4,198,400  True      \n",
              "______________________________________________________________________\n",
              "Linear               [64, 1024]           4,195,328  True      \n",
              "______________________________________________________________________\n",
              "LayerNorm            [64, 1024]           2,048      True      \n",
              "______________________________________________________________________\n",
              "Dropout              [64, 1024]           0          False     \n",
              "______________________________________________________________________\n",
              "Linear               [64, 1024]           1,049,600  True      \n",
              "______________________________________________________________________\n",
              "Linear               [64, 1024]           1,049,600  True      \n",
              "______________________________________________________________________\n",
              "Linear               [64, 1024]           1,049,600  True      \n",
              "______________________________________________________________________\n",
              "Dropout              [16, 64, 64]         0          False     \n",
              "______________________________________________________________________\n",
              "Linear               [64, 1024]           1,049,600  True      \n",
              "______________________________________________________________________\n",
              "LayerNorm            [64, 1024]           2,048      True      \n",
              "______________________________________________________________________\n",
              "Dropout              [64, 1024]           0          False     \n",
              "______________________________________________________________________\n",
              "Linear               [64, 4096]           4,198,400  True      \n",
              "______________________________________________________________________\n",
              "Linear               [64, 1024]           4,195,328  True      \n",
              "______________________________________________________________________\n",
              "LayerNorm            [64, 1024]           2,048      True      \n",
              "______________________________________________________________________\n",
              "Dropout              [64, 1024]           0          False     \n",
              "______________________________________________________________________\n",
              "Linear               [64, 1024]           1,049,600  True      \n",
              "______________________________________________________________________\n",
              "Linear               [64, 1024]           1,049,600  True      \n",
              "______________________________________________________________________\n",
              "Linear               [64, 1024]           1,049,600  True      \n",
              "______________________________________________________________________\n",
              "Dropout              [16, 64, 64]         0          False     \n",
              "______________________________________________________________________\n",
              "Linear               [64, 1024]           1,049,600  True      \n",
              "______________________________________________________________________\n",
              "LayerNorm            [64, 1024]           2,048      True      \n",
              "______________________________________________________________________\n",
              "Dropout              [64, 1024]           0          False     \n",
              "______________________________________________________________________\n",
              "Linear               [64, 4096]           4,198,400  True      \n",
              "______________________________________________________________________\n",
              "Linear               [64, 1024]           4,195,328  True      \n",
              "______________________________________________________________________\n",
              "LayerNorm            [64, 1024]           2,048      True      \n",
              "______________________________________________________________________\n",
              "Dropout              [64, 1024]           0          False     \n",
              "______________________________________________________________________\n",
              "Linear               [64, 1024]           1,049,600  True      \n",
              "______________________________________________________________________\n",
              "Linear               [64, 1024]           1,049,600  True      \n",
              "______________________________________________________________________\n",
              "Linear               [64, 1024]           1,049,600  True      \n",
              "______________________________________________________________________\n",
              "Dropout              [16, 64, 64]         0          False     \n",
              "______________________________________________________________________\n",
              "Linear               [64, 1024]           1,049,600  True      \n",
              "______________________________________________________________________\n",
              "LayerNorm            [64, 1024]           2,048      True      \n",
              "______________________________________________________________________\n",
              "Dropout              [64, 1024]           0          False     \n",
              "______________________________________________________________________\n",
              "Linear               [64, 4096]           4,198,400  True      \n",
              "______________________________________________________________________\n",
              "Linear               [64, 1024]           4,195,328  True      \n",
              "______________________________________________________________________\n",
              "LayerNorm            [64, 1024]           2,048      True      \n",
              "______________________________________________________________________\n",
              "Dropout              [64, 1024]           0          False     \n",
              "______________________________________________________________________\n",
              "Linear               [64, 1024]           1,049,600  True      \n",
              "______________________________________________________________________\n",
              "Linear               [64, 1024]           1,049,600  True      \n",
              "______________________________________________________________________\n",
              "Linear               [64, 1024]           1,049,600  True      \n",
              "______________________________________________________________________\n",
              "Dropout              [16, 64, 64]         0          False     \n",
              "______________________________________________________________________\n",
              "Linear               [64, 1024]           1,049,600  True      \n",
              "______________________________________________________________________\n",
              "LayerNorm            [64, 1024]           2,048      True      \n",
              "______________________________________________________________________\n",
              "Dropout              [64, 1024]           0          False     \n",
              "______________________________________________________________________\n",
              "Linear               [64, 4096]           4,198,400  True      \n",
              "______________________________________________________________________\n",
              "Linear               [64, 1024]           4,195,328  True      \n",
              "______________________________________________________________________\n",
              "LayerNorm            [64, 1024]           2,048      True      \n",
              "______________________________________________________________________\n",
              "Dropout              [64, 1024]           0          False     \n",
              "______________________________________________________________________\n",
              "Linear               [64, 1024]           1,049,600  True      \n",
              "______________________________________________________________________\n",
              "Linear               [64, 1024]           1,049,600  True      \n",
              "______________________________________________________________________\n",
              "Linear               [64, 1024]           1,049,600  True      \n",
              "______________________________________________________________________\n",
              "Dropout              [16, 64, 64]         0          False     \n",
              "______________________________________________________________________\n",
              "Linear               [64, 1024]           1,049,600  True      \n",
              "______________________________________________________________________\n",
              "LayerNorm            [64, 1024]           2,048      True      \n",
              "______________________________________________________________________\n",
              "Dropout              [64, 1024]           0          False     \n",
              "______________________________________________________________________\n",
              "Linear               [64, 4096]           4,198,400  True      \n",
              "______________________________________________________________________\n",
              "Linear               [64, 1024]           4,195,328  True      \n",
              "______________________________________________________________________\n",
              "LayerNorm            [64, 1024]           2,048      True      \n",
              "______________________________________________________________________\n",
              "Dropout              [64, 1024]           0          False     \n",
              "______________________________________________________________________\n",
              "Linear               [64, 1024]           1,049,600  True      \n",
              "______________________________________________________________________\n",
              "Linear               [64, 1024]           1,049,600  True      \n",
              "______________________________________________________________________\n",
              "Linear               [64, 1024]           1,049,600  True      \n",
              "______________________________________________________________________\n",
              "Dropout              [16, 64, 64]         0          False     \n",
              "______________________________________________________________________\n",
              "Linear               [64, 1024]           1,049,600  True      \n",
              "______________________________________________________________________\n",
              "LayerNorm            [64, 1024]           2,048      True      \n",
              "______________________________________________________________________\n",
              "Dropout              [64, 1024]           0          False     \n",
              "______________________________________________________________________\n",
              "Linear               [64, 4096]           4,198,400  True      \n",
              "______________________________________________________________________\n",
              "Linear               [64, 1024]           4,195,328  True      \n",
              "______________________________________________________________________\n",
              "LayerNorm            [64, 1024]           2,048      True      \n",
              "______________________________________________________________________\n",
              "Dropout              [64, 1024]           0          False     \n",
              "______________________________________________________________________\n",
              "Linear               [64, 1024]           1,049,600  True      \n",
              "______________________________________________________________________\n",
              "Linear               [64, 1024]           1,049,600  True      \n",
              "______________________________________________________________________\n",
              "Linear               [64, 1024]           1,049,600  True      \n",
              "______________________________________________________________________\n",
              "Dropout              [16, 64, 64]         0          False     \n",
              "______________________________________________________________________\n",
              "Linear               [64, 1024]           1,049,600  True      \n",
              "______________________________________________________________________\n",
              "LayerNorm            [64, 1024]           2,048      True      \n",
              "______________________________________________________________________\n",
              "Dropout              [64, 1024]           0          False     \n",
              "______________________________________________________________________\n",
              "Linear               [64, 4096]           4,198,400  True      \n",
              "______________________________________________________________________\n",
              "Linear               [64, 1024]           4,195,328  True      \n",
              "______________________________________________________________________\n",
              "LayerNorm            [64, 1024]           2,048      True      \n",
              "______________________________________________________________________\n",
              "Dropout              [64, 1024]           0          False     \n",
              "______________________________________________________________________\n",
              "Linear               [64, 1024]           1,049,600  True      \n",
              "______________________________________________________________________\n",
              "Linear               [64, 1024]           1,049,600  True      \n",
              "______________________________________________________________________\n",
              "Linear               [64, 1024]           1,049,600  True      \n",
              "______________________________________________________________________\n",
              "Dropout              [16, 64, 64]         0          False     \n",
              "______________________________________________________________________\n",
              "Linear               [64, 1024]           1,049,600  True      \n",
              "______________________________________________________________________\n",
              "LayerNorm            [64, 1024]           2,048      True      \n",
              "______________________________________________________________________\n",
              "Dropout              [64, 1024]           0          False     \n",
              "______________________________________________________________________\n",
              "Linear               [64, 4096]           4,198,400  True      \n",
              "______________________________________________________________________\n",
              "Linear               [64, 1024]           4,195,328  True      \n",
              "______________________________________________________________________\n",
              "LayerNorm            [64, 1024]           2,048      True      \n",
              "______________________________________________________________________\n",
              "Dropout              [64, 1024]           0          False     \n",
              "______________________________________________________________________\n",
              "Linear               [1024]               1,049,600  True      \n",
              "______________________________________________________________________\n",
              "Tanh                 [1024]               0          False     \n",
              "______________________________________________________________________\n",
              "Dropout              [1024]               0          False     \n",
              "______________________________________________________________________\n",
              "Linear               [4]                  4,100      True      \n",
              "______________________________________________________________________\n",
              "\n",
              "Total params: 335,145,988\n",
              "Total trainable params: 335,145,988\n",
              "Total non-trainable params: 0\n",
              "Optimized with 'transformers.optimization.AdamW', correct_bias=False\n",
              "Using true weight decay as discussed in https://www.fast.ai/2018/07/02/adam-weight-decay/ \n",
              "Loss function : function\n",
              "======================================================================\n",
              "Callbacks functions applied \n",
              "    ShowGraph\n",
              "    MixedPrecision"
            ]
          },
          "metadata": {
            "tags": []
          },
          "execution_count": 32
        }
      ]
    },
    {
      "cell_type": "code",
      "metadata": {
        "id": "rjT6zJXAShxQ",
        "colab_type": "code",
        "colab": {}
      },
      "source": [
        "learner.save('untrain')"
      ],
      "execution_count": 33,
      "outputs": []
    },
    {
      "cell_type": "code",
      "metadata": {
        "id": "uskAkjgJSm8y",
        "colab_type": "code",
        "colab": {}
      },
      "source": [
        "seed_all() # make sure we have same seeds when rerunning\n",
        "learner.load('untrain');"
      ],
      "execution_count": 34,
      "outputs": []
    },
    {
      "cell_type": "code",
      "metadata": {
        "id": "8XBVRCp2SyhQ",
        "colab_type": "code",
        "colab": {}
      },
      "source": [
        "learner.unfreeze()"
      ],
      "execution_count": 35,
      "outputs": []
    },
    {
      "cell_type": "code",
      "metadata": {
        "id": "iN8oLok6Szto",
        "colab_type": "code",
        "colab": {
          "base_uri": "https://localhost:8080/",
          "height": 359
        },
        "outputId": "7e341330-811a-4411-c84a-c985e2c8d154"
      },
      "source": [
        "learner.fit_one_cycle(2, max_lr=1e-04, moms=(0.85,0.75))"
      ],
      "execution_count": 36,
      "outputs": [
        {
          "output_type": "display_data",
          "data": {
            "text/html": [
              "<table border=\"1\" class=\"dataframe\">\n",
              "  <thead>\n",
              "    <tr style=\"text-align: left;\">\n",
              "      <th>epoch</th>\n",
              "      <th>train_loss</th>\n",
              "      <th>valid_loss</th>\n",
              "      <th>accuracy</th>\n",
              "      <th>f1_micro</th>\n",
              "      <th>time</th>\n",
              "    </tr>\n",
              "  </thead>\n",
              "  <tbody>\n",
              "    <tr>\n",
              "      <td>0</td>\n",
              "      <td>0.174645</td>\n",
              "      <td>0.176008</td>\n",
              "      <td>0.928131</td>\n",
              "      <td>0.747253</td>\n",
              "      <td>05:41</td>\n",
              "    </tr>\n",
              "    <tr>\n",
              "      <td>1</td>\n",
              "      <td>0.156200</td>\n",
              "      <td>0.248310</td>\n",
              "      <td>0.919419</td>\n",
              "      <td>0.739179</td>\n",
              "      <td>05:52</td>\n",
              "    </tr>\n",
              "  </tbody>\n",
              "</table>"
            ],
            "text/plain": [
              "<IPython.core.display.HTML object>"
            ]
          },
          "metadata": {
            "tags": []
          }
        },
        {
          "output_type": "display_data",
          "data": {
            "image/png": "[encoded data removed]",
            "text/plain": [
              "<Figure size 432x288 with 1 Axes>"
            ]
          },
          "metadata": {
            "tags": []
          }
        }
      ]
    },
    {
      "cell_type": "code",
      "metadata": {
        "id": "eNqaEhy_WHxe",
        "colab_type": "code",
        "colab": {
          "base_uri": "https://localhost:8080/",
          "height": 283
        },
        "outputId": "e0967bbc-e7e3-4f38-8855-39e6e268cf35"
      },
      "source": [
        "# validation on the dev dataset\n",
        "learner.validate(databunch.valid_dl)"
      ],
      "execution_count": 37,
      "outputs": [
        {
          "output_type": "display_data",
          "data": {
            "text/html": [
              ""
            ],
            "text/plain": [
              "<IPython.core.display.HTML object>"
            ]
          },
          "metadata": {
            "tags": []
          }
        },
        {
          "output_type": "display_data",
          "data": {
            "image/png": "[encoded data removed]",
            "text/plain": [
              "<Figure size 432x288 with 1 Axes>"
            ]
          },
          "metadata": {
            "tags": []
          }
        },
        {
          "output_type": "execute_result",
          "data": {
            "text/plain": [
              "[0.24831858, tensor(0.9194), array(0.739179, dtype=float32)]"
            ]
          },
          "metadata": {
            "tags": []
          },
          "execution_count": 37
        }
      ]
    },
    {
      "cell_type": "code",
      "metadata": {
        "id": "9wUnTlaWWQ6m",
        "colab_type": "code",
        "colab": {
          "base_uri": "https://localhost:8080/",
          "height": 283
        },
        "outputId": "4100bed6-eabc-42fc-b79e-eb836e3c87ea"
      },
      "source": [
        "# validation on the test dataset\n",
        "learner.validate(test_dl)"
      ],
      "execution_count": 38,
      "outputs": [
        {
          "output_type": "display_data",
          "data": {
            "text/html": [
              ""
            ],
            "text/plain": [
              "<IPython.core.display.HTML object>"
            ]
          },
          "metadata": {
            "tags": []
          }
        },
        {
          "output_type": "display_data",
          "data": {
            "image/png": "[encoded data removed]",
            "text/plain": [
              "<Figure size 432x288 with 1 Axes>"
            ]
          },
          "metadata": {
            "tags": []
          }
        },
        {
          "output_type": "execute_result",
          "data": {
            "text/plain": [
              "[0.24782757, tensor(0.9214), array(0.746385, dtype=float32)]"
            ]
          },
          "metadata": {
            "tags": []
          },
          "execution_count": 38
        }
      ]
    },
    {
      "cell_type": "code",
      "metadata": {
        "id": "9FAOvrRYWb4y",
        "colab_type": "code",
        "colab": {
          "base_uri": "https://localhost:8080/",
          "height": 631
        },
        "outputId": "a89e9fea-9de0-4965-f8f2-950abb503db5"
      },
      "source": [
        "!pip install nbdev"
      ],
      "execution_count": 40,
      "outputs": [
        {
          "output_type": "stream",
          "text": [
            "Collecting nbdev\n",
            "\u001b[?25l  Downloading https://files.pythonhosted.org/packages/2f/11/8fe9e6e06dd02056faa889b2600ea3cb83e23c2d33f3e930c91c8f2df6a7/nbdev-0.2.38-py3-none-any.whl (53kB)\n",
            "\r\u001b[K     |██████                          | 10kB 24.2MB/s eta 0:00:01\r\u001b[K     |████████████▏                   | 20kB 5.9MB/s eta 0:00:01\r\u001b[K     |██████████████████▎             | 30kB 8.3MB/s eta 0:00:01\r\u001b[K     |████████████████████████▍       | 40kB 8.1MB/s eta 0:00:01\r\u001b[K     |██████████████████████████████▌ | 51kB 6.9MB/s eta 0:00:01\r\u001b[K     |████████████████████████████████| 61kB 4.3MB/s \n",
            "\u001b[?25hCollecting fastcore>=0.1.29\n",
            "  Downloading https://files.pythonhosted.org/packages/f5/bc/a50e6c70d54042576ba07d4ca7e0d2f4deeb0fc5d621981a0c9536e2f4ee/fastcore-0.1.35-py3-none-any.whl\n",
            "Requirement already satisfied: pip in /usr/local/lib/python3.6/dist-packages (from nbdev) (19.3.1)\n",
            "Requirement already satisfied: packaging in /usr/local/lib/python3.6/dist-packages (from nbdev) (20.4)\n",
            "Requirement already satisfied: nbformat>=4.4.0 in /usr/local/lib/python3.6/dist-packages (from nbdev) (5.0.7)\n",
            "Collecting fastscript>=0.1.5\n",
            "  Downloading https://files.pythonhosted.org/packages/ee/02/0722b0d3cf0d3fd9cfd37c141722c54feabf95e905619281922d6fbe8318/fastscript-0.1.13-py3-none-any.whl\n",
            "Requirement already satisfied: nbconvert>=5.6.1 in /usr/local/lib/python3.6/dist-packages (from nbdev) (5.6.1)\n",
            "Requirement already satisfied: pyyaml in /usr/local/lib/python3.6/dist-packages (from nbdev) (3.13)\n",
            "Requirement already satisfied: dataclasses in /usr/local/lib/python3.6/dist-packages (from fastcore>=0.1.29->nbdev) (0.7)\n",
            "Requirement already satisfied: numpy in /usr/local/lib/python3.6/dist-packages (from fastcore>=0.1.29->nbdev) (1.18.5)\n",
            "Requirement already satisfied: six in /usr/local/lib/python3.6/dist-packages (from packaging->nbdev) (1.15.0)\n",
            "Requirement already satisfied: pyparsing>=2.0.2 in /usr/local/lib/python3.6/dist-packages (from packaging->nbdev) (2.4.7)\n",
            "Requirement already satisfied: jsonschema!=2.5.0,>=2.4 in /usr/local/lib/python3.6/dist-packages (from nbformat>=4.4.0->nbdev) (2.6.0)\n",
            "Requirement already satisfied: jupyter-core in /usr/local/lib/python3.6/dist-packages (from nbformat>=4.4.0->nbdev) (4.6.3)\n",
            "Requirement already satisfied: ipython-genutils in /usr/local/lib/python3.6/dist-packages (from nbformat>=4.4.0->nbdev) (0.2.0)\n",
            "Requirement already satisfied: traitlets>=4.1 in /usr/local/lib/python3.6/dist-packages (from nbformat>=4.4.0->nbdev) (4.3.3)\n",
            "Requirement already satisfied: defusedxml in /usr/local/lib/python3.6/dist-packages (from nbconvert>=5.6.1->nbdev) (0.6.0)\n",
            "Requirement already satisfied: pygments in /usr/local/lib/python3.6/dist-packages (from nbconvert>=5.6.1->nbdev) (2.1.3)\n",
            "Requirement already satisfied: bleach in /usr/local/lib/python3.6/dist-packages (from nbconvert>=5.6.1->nbdev) (3.1.5)\n",
            "Requirement already satisfied: pandocfilters>=1.4.1 in /usr/local/lib/python3.6/dist-packages (from nbconvert>=5.6.1->nbdev) (1.4.2)\n",
            "Requirement already satisfied: jinja2>=2.4 in /usr/local/lib/python3.6/dist-packages (from nbconvert>=5.6.1->nbdev) (2.11.2)\n",
            "Requirement already satisfied: mistune<2,>=0.8.1 in /usr/local/lib/python3.6/dist-packages (from nbconvert>=5.6.1->nbdev) (0.8.4)\n",
            "Requirement already satisfied: entrypoints>=0.2.2 in /usr/local/lib/python3.6/dist-packages (from nbconvert>=5.6.1->nbdev) (0.3)\n",
            "Requirement already satisfied: testpath in /usr/local/lib/python3.6/dist-packages (from nbconvert>=5.6.1->nbdev) (0.4.4)\n",
            "Requirement already satisfied: decorator in /usr/local/lib/python3.6/dist-packages (from traitlets>=4.1->nbformat>=4.4.0->nbdev) (4.4.2)\n",
            "Requirement already satisfied: webencodings in /usr/local/lib/python3.6/dist-packages (from bleach->nbconvert>=5.6.1->nbdev) (0.5.1)\n",
            "Requirement already satisfied: MarkupSafe>=0.23 in /usr/local/lib/python3.6/dist-packages (from jinja2>=2.4->nbconvert>=5.6.1->nbdev) (1.1.1)\n",
            "Installing collected packages: fastcore, fastscript, nbdev\n",
            "Successfully installed fastcore-0.1.35 fastscript-0.1.13 nbdev-0.2.38\n"
          ],
          "name": "stdout"
        }
      ]
    },
    {
      "cell_type": "code",
      "metadata": {
        "id": "kzBjBuU-Wrgo",
        "colab_type": "code",
        "colab": {
          "base_uri": "https://localhost:8080/",
          "height": 35
        },
        "outputId": "232fa769-4e36-4602-8ea8-f7c2367d77bf"
      },
      "source": [
        "arr = ['I am tired', 'what is wrong', 'everything']\n",
        "learner.predict(arr)"
      ],
      "execution_count": 43,
      "outputs": [
        {
          "output_type": "execute_result",
          "data": {
            "text/plain": [
              "(Category tensor(3), tensor(3), tensor([-2.2773, -2.3359, -3.4082,  4.8867]))"
            ]
          },
          "metadata": {
            "tags": []
          },
          "execution_count": 43
        }
      ]
    },
    {
      "cell_type": "code",
      "metadata": {
        "id": "MReppMK5WXnG",
        "colab_type": "code",
        "colab": {
          "base_uri": "https://localhost:8080/",
          "height": 71
        },
        "outputId": "75971eab-a10d-449b-a8d3-7a4910498f2b"
      },
      "source": [
        "from nbdev.export import *\n",
        "notebook2script()"
      ],
      "execution_count": 41,
      "outputs": [
        {
          "output_type": "stream",
          "text": [
            "Converted 00_fastbert.ipynb.\n",
            "Converted 01_task3.ipynb.\n",
            "Converted index.ipynb.\n"
          ],
          "name": "stdout"
        }
      ]
    }
  ]
}
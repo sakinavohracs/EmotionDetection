{
  "nbformat": 4,
  "nbformat_minor": 0,
  "metadata": {
    "colab": {
      "name": "bc-LSTM.ipynb",
      "provenance": [],
      "collapsed_sections": [],
      "authorship_tag": "ABX9TyM3jSK7Ffu9Kf5TlC3A89GK",
      "include_colab_link": true
    },
    "kernelspec": {
      "name": "python3",
      "display_name": "Python 3"
    },
    "accelerator": "GPU"
  },
  "cells": [
    {
      "cell_type": "markdown",
      "metadata": {
        "id": "view-in-github",
        "colab_type": "text"
      },
      "source": [
        "<a href=\"https://colab.research.google.com/github/sakinavohracs/EmotionDetection/blob/master/bc_LSTM.ipynb\" target=\"_parent\"><img src=\"https://colab.research.google.com/assets/colab-badge.svg\" alt=\"Open In Colab\"/></a>"
      ]
    },
    {
      "cell_type": "markdown",
      "metadata": {
        "id": "eC_Ga-TJcDXZ",
        "colab_type": "text"
      },
      "source": [
        "# Bc-LSTM PYTORCH with DailyDialog and IEMOCAP"
      ]
    },
    {
      "cell_type": "code",
      "metadata": {
        "id": "4JeaqGmcQzE6",
        "colab_type": "code",
        "colab": {
          "base_uri": "https://localhost:8080/",
          "height": 127
        },
        "outputId": "ef909b76-b9e8-48b8-ee4b-a8f90930315d"
      },
      "source": [
        "from google.colab import drive\n",
        "\n",
        "drive.mount('/content/gdrive')\n",
        "root_path = 'gdrive/My Drive/'"
      ],
      "execution_count": null,
      "outputs": [
        {
          "output_type": "stream",
          "text": [
            "Go to this URL in a browser: https://accounts.google.com/o/oauth2/auth?client_id=947318989803-6bn6qk8qdgf4n4g3pfee6491hc0brc4i.apps.googleusercontent.com&redirect_uri=urn%3aietf%3awg%3aoauth%3a2.0%3aoob&scope=email%20https%3a%2f%2fwww.googleapis.com%2fauth%2fdocs.test%20https%3a%2f%2fwww.googleapis.com%2fauth%2fdrive%20https%3a%2f%2fwww.googleapis.com%2fauth%2fdrive.photos.readonly%20https%3a%2f%2fwww.googleapis.com%2fauth%2fpeopleapi.readonly&response_type=code\n",
            "\n",
            "Enter your authorization code:\n",
            "··········\n",
            "Mounted at /content/gdrive\n"
          ],
          "name": "stdout"
        }
      ]
    },
    {
      "cell_type": "code",
      "metadata": {
        "id": "88zhbhNFRDMy",
        "colab_type": "code",
        "colab": {
          "base_uri": "https://localhost:8080/",
          "height": 35
        },
        "outputId": "eec12ce2-3c2e-44a0-fd17-b7cea5a57a45"
      },
      "source": [
        "%cd /content/gdrive/My\\ Drive/Colab\\ Notebooks/conv-emotion-master_updated"
      ],
      "execution_count": null,
      "outputs": [
        {
          "output_type": "stream",
          "text": [
            "/content/gdrive/My Drive/Colab Notebooks/conv-emotion-master_updated\n"
          ],
          "name": "stdout"
        }
      ]
    },
    {
      "cell_type": "code",
      "metadata": {
        "id": "w4hhbeyjTDfO",
        "colab_type": "code",
        "colab": {
          "base_uri": "https://localhost:8080/",
          "height": 35
        },
        "outputId": "831661a6-7256-4afe-fb9d-2b2df12afe5b"
      },
      "source": [
        "%cd bc-LSTM-pytorch"
      ],
      "execution_count": null,
      "outputs": [
        {
          "output_type": "stream",
          "text": [
            "/content/gdrive/My Drive/Colab Notebooks/conv-emotion-master_updated/bc-LSTM-pytorch\n"
          ],
          "name": "stdout"
        }
      ]
    },
    {
      "cell_type": "code",
      "metadata": {
        "id": "MseJadsRTfJI",
        "colab_type": "code",
        "colab": {
          "base_uri": "https://localhost:8080/",
          "height": 71
        },
        "outputId": "54195591-cea1-4598-d67d-ecff8818cdf9"
      },
      "source": [
        "!ls"
      ],
      "execution_count": null,
      "outputs": [
        {
          "output_type": "stream",
          "text": [
            "AVEC_features\t dataloader.py\t   model.py\t\t train_IEMOCAP.py\n",
            "dailydialog\t IEMOCAP_features  __pycache__\t\t train_MELD.py\n",
            "dailydialog.zip  MELD_features\t   train_DailyDialog.py\n"
          ],
          "name": "stdout"
        }
      ]
    },
    {
      "cell_type": "markdown",
      "metadata": {
        "id": "0qXY_YngcLR7",
        "colab_type": "text"
      },
      "source": [
        "### DailyDialog"
      ]
    },
    {
      "cell_type": "code",
      "metadata": {
        "id": "D3dbhCUfTFaX",
        "colab_type": "code",
        "colab": {
          "base_uri": "https://localhost:8080/",
          "height": 1000
        },
        "outputId": "2106edd0-42e6-4b9d-84e3-fb2c0653db66"
      },
      "source": [
        "!python train_DailyDialog.py"
      ],
      "execution_count": null,
      "outputs": [
        {
          "output_type": "stream",
          "text": [
            "Namespace(attention=False, batch_size=32, class_weight=False, cnn_dropout=0.5, cnn_filters=50, cnn_output_size=100, dropout=0.25, epochs=60, l2=1e-05, lr=0.001, no_cuda=False, tensorboard=False)\n",
            "Running on GPU\n",
            "epoch 1 train_loss 0.6519 train_acc 82.09 train_fscore 0.2 valid_loss 0.4314 valid_acc 88.09 val_fscore 0.0 test_loss 0.6235 test_acc 81.67 test_fscore 0.0 time 14.56\n",
            "epoch 2 train_loss 0.537 train_acc 83.94 train_fscore 30.23 valid_loss 0.3673 valid_acc 89.49 val_fscore 39.72 test_loss 0.5411 test_acc 84.35 test_fscore 34.48 time 14.37\n",
            "epoch 3 train_loss 0.4883 train_acc 84.93 train_fscore 39.33 valid_loss 0.3413 valid_acc 89.52 val_fscore 34.03 test_loss 0.5202 test_acc 84.13 test_fscore 30.44 time 14.52\n",
            "epoch 4 train_loss 0.4646 train_acc 85.3 train_fscore 41.57 valid_loss 0.3291 valid_acc 89.8 val_fscore 37.42 test_loss 0.4974 test_acc 84.04 test_fscore 31.95 time 14.53\n",
            "epoch 5 train_loss 0.4499 train_acc 85.49 train_fscore 42.31 valid_loss 0.3265 valid_acc 89.45 val_fscore 34.0 test_loss 0.5016 test_acc 84.13 test_fscore 31.52 time 14.41\n",
            "epoch 6 train_loss 0.4401 train_acc 85.63 train_fscore 43.03 valid_loss 0.3248 valid_acc 89.53 val_fscore 32.16 test_loss 0.5006 test_acc 83.97 test_fscore 30.03 time 14.56\n",
            "epoch 7 train_loss 0.4316 train_acc 85.81 train_fscore 44.13 valid_loss 0.3179 valid_acc 89.81 val_fscore 38.75 test_loss 0.4914 test_acc 84.08 test_fscore 32.41 time 14.47\n",
            "epoch 8 train_loss 0.423 train_acc 86.01 train_fscore 45.58 valid_loss 0.3265 valid_acc 89.94 val_fscore 42.15 test_loss 0.4979 test_acc 84.47 test_fscore 37.7 time 14.27\n",
            "epoch 9 train_loss 0.413 train_acc 86.32 train_fscore 47.64 valid_loss 0.3184 valid_acc 89.61 val_fscore 33.44 test_loss 0.4773 test_acc 83.77 test_fscore 29.15 time 14.3\n",
            "epoch 10 train_loss 0.4023 train_acc 86.48 train_fscore 48.93 valid_loss 0.3153 valid_acc 89.54 val_fscore 31.11 test_loss 0.4982 test_acc 83.84 test_fscore 29.02 time 14.52\n",
            "epoch 11 train_loss 0.3986 train_acc 86.61 train_fscore 49.72 valid_loss 0.3129 valid_acc 90.01 val_fscore 44.57 test_loss 0.4842 test_acc 84.41 test_fscore 38.65 time 14.4\n",
            "epoch 12 train_loss 0.391 train_acc 86.77 train_fscore 51.23 valid_loss 0.322 valid_acc 89.66 val_fscore 37.62 test_loss 0.5039 test_acc 84.03 test_fscore 34.99 time 14.59\n",
            "epoch 13 train_loss 0.3861 train_acc 86.92 train_fscore 51.55 valid_loss 0.3023 valid_acc 90.02 val_fscore 44.23 test_loss 0.4658 test_acc 84.47 test_fscore 40.0 time 14.42\n",
            "epoch 14 train_loss 0.381 train_acc 87.1 train_fscore 52.37 valid_loss 0.3083 valid_acc 89.7 val_fscore 45.07 test_loss 0.4695 test_acc 84.07 test_fscore 41.36 time 14.53\n",
            "epoch 15 train_loss 0.379 train_acc 87.15 train_fscore 53.09 valid_loss 0.3099 valid_acc 89.99 val_fscore 47.8 test_loss 0.471 test_acc 84.22 test_fscore 44.26 time 14.39\n",
            "epoch 16 train_loss 0.3719 train_acc 87.36 train_fscore 53.84 valid_loss 0.3156 valid_acc 90.01 val_fscore 40.93 test_loss 0.4929 test_acc 84.24 test_fscore 37.51 time 14.63\n",
            "epoch 17 train_loss 0.3682 train_acc 87.34 train_fscore 53.5 valid_loss 0.313 valid_acc 89.24 val_fscore 45.38 test_loss 0.4641 test_acc 83.58 test_fscore 43.83 time 14.43\n",
            "epoch 18 train_loss 0.3624 train_acc 87.51 train_fscore 54.71 valid_loss 0.3122 valid_acc 89.85 val_fscore 43.32 test_loss 0.4707 test_acc 84.12 test_fscore 41.98 time 14.4\n",
            "epoch 19 train_loss 0.3594 train_acc 87.48 train_fscore 54.33 valid_loss 0.318 valid_acc 89.54 val_fscore 43.01 test_loss 0.4795 test_acc 83.5 test_fscore 40.73 time 14.67\n",
            "epoch 20 train_loss 0.357 train_acc 87.59 train_fscore 54.8 valid_loss 0.3278 valid_acc 88.96 val_fscore 47.95 test_loss 0.4776 test_acc 83.4 test_fscore 47.39 time 14.43\n",
            "epoch 21 train_loss 0.3533 train_acc 87.71 train_fscore 55.5 valid_loss 0.3096 valid_acc 89.75 val_fscore 43.76 test_loss 0.4791 test_acc 84.13 test_fscore 42.1 time 14.58\n",
            "epoch 22 train_loss 0.3507 train_acc 87.83 train_fscore 55.83 valid_loss 0.3188 valid_acc 89.17 val_fscore 44.93 test_loss 0.4805 test_acc 83.35 test_fscore 44.11 time 14.39\n",
            "epoch 23 train_loss 0.3466 train_acc 87.94 train_fscore 56.55 valid_loss 0.3139 valid_acc 89.02 val_fscore 46.0 test_loss 0.4686 test_acc 83.4 test_fscore 46.12 time 14.6\n",
            "epoch 24 train_loss 0.3432 train_acc 87.96 train_fscore 56.73 valid_loss 0.3174 valid_acc 89.06 val_fscore 45.91 test_loss 0.481 test_acc 83.4 test_fscore 46.59 time 14.48\n",
            "epoch 25 train_loss 0.3383 train_acc 88.16 train_fscore 57.67 valid_loss 0.3247 valid_acc 88.88 val_fscore 47.12 test_loss 0.472 test_acc 83.41 test_fscore 47.51 time 14.58\n",
            "epoch 26 train_loss 0.3383 train_acc 88.05 train_fscore 56.75 valid_loss 0.3134 valid_acc 89.55 val_fscore 47.48 test_loss 0.4781 test_acc 84.16 test_fscore 47.84 time 14.3\n",
            "epoch 27 train_loss 0.3323 train_acc 88.15 train_fscore 57.46 valid_loss 0.3306 valid_acc 88.65 val_fscore 47.8 test_loss 0.4835 test_acc 83.42 test_fscore 49.01 time 14.57\n",
            "epoch 28 train_loss 0.3333 train_acc 88.24 train_fscore 58.41 valid_loss 0.3365 valid_acc 88.61 val_fscore 47.28 test_loss 0.5024 test_acc 82.91 test_fscore 47.91 time 14.45\n",
            "epoch 29 train_loss 0.3314 train_acc 88.21 train_fscore 57.96 valid_loss 0.3182 valid_acc 89.42 val_fscore 48.21 test_loss 0.4819 test_acc 83.93 test_fscore 47.99 time 14.54\n",
            "epoch 30 train_loss 0.3271 train_acc 88.41 train_fscore 58.84 valid_loss 0.3142 valid_acc 89.54 val_fscore 46.34 test_loss 0.475 test_acc 84.39 test_fscore 47.45 time 14.48\n",
            "epoch 31 train_loss 0.3255 train_acc 88.44 train_fscore 58.9 valid_loss 0.3228 valid_acc 89.32 val_fscore 46.55 test_loss 0.4875 test_acc 84.01 test_fscore 47.8 time 14.47\n",
            "epoch 32 train_loss 0.3254 train_acc 88.46 train_fscore 59.13 valid_loss 0.3297 valid_acc 88.92 val_fscore 47.26 test_loss 0.4903 test_acc 83.45 test_fscore 48.59 time 14.39\n",
            "epoch 33 train_loss 0.318 train_acc 88.66 train_fscore 60.33 valid_loss 0.3314 valid_acc 89.4 val_fscore 42.92 test_loss 0.5141 test_acc 83.91 test_fscore 44.81 time 14.36\n",
            "epoch 34 train_loss 0.3188 train_acc 88.63 train_fscore 59.74 valid_loss 0.319 valid_acc 89.26 val_fscore 49.83 test_loss 0.4711 test_acc 83.93 test_fscore 49.88 time 14.55\n",
            "epoch 35 train_loss 0.3161 train_acc 88.61 train_fscore 60.15 valid_loss 0.3182 valid_acc 89.5 val_fscore 48.75 test_loss 0.4762 test_acc 83.68 test_fscore 48.97 time 14.57\n",
            "epoch 36 train_loss 0.3125 train_acc 88.69 train_fscore 60.45 valid_loss 0.3378 valid_acc 89.11 val_fscore 47.63 test_loss 0.5104 test_acc 83.24 test_fscore 48.12 time 14.43\n",
            "epoch 37 train_loss 0.3102 train_acc 88.8 train_fscore 60.62 valid_loss 0.3293 valid_acc 89.43 val_fscore 49.62 test_loss 0.4947 test_acc 83.59 test_fscore 49.48 time 14.48\n",
            "epoch 38 train_loss 0.3089 train_acc 88.99 train_fscore 61.4 valid_loss 0.3292 valid_acc 89.13 val_fscore 48.06 test_loss 0.5011 test_acc 83.51 test_fscore 49.79 time 14.53\n",
            "epoch 39 train_loss 0.306 train_acc 89.0 train_fscore 61.62 valid_loss 0.3229 valid_acc 89.08 val_fscore 48.04 test_loss 0.4859 test_acc 84.16 test_fscore 50.47 time 14.54\n",
            "epoch 40 train_loss 0.3021 train_acc 89.17 train_fscore 62.37 valid_loss 0.3045 valid_acc 89.85 val_fscore 46.4 test_loss 0.4711 test_acc 84.28 test_fscore 46.2 time 14.65\n",
            "epoch 41 train_loss 0.3007 train_acc 89.13 train_fscore 62.25 valid_loss 0.305 valid_acc 89.69 val_fscore 50.67 test_loss 0.4624 test_acc 84.32 test_fscore 49.92 time 14.59\n",
            "epoch 42 train_loss 0.3021 train_acc 89.04 train_fscore 61.98 valid_loss 0.3219 valid_acc 89.3 val_fscore 49.86 test_loss 0.4938 test_acc 83.59 test_fscore 50.62 time 14.47\n",
            "epoch 43 train_loss 0.2981 train_acc 89.27 train_fscore 62.82 valid_loss 0.3178 valid_acc 89.74 val_fscore 50.81 test_loss 0.4857 test_acc 83.84 test_fscore 49.88 time 14.49\n",
            "epoch 44 train_loss 0.2964 train_acc 89.19 train_fscore 62.57 valid_loss 0.3226 valid_acc 89.06 val_fscore 49.95 test_loss 0.4894 test_acc 83.55 test_fscore 50.55 time 14.51\n",
            "epoch 45 train_loss 0.2954 train_acc 89.3 train_fscore 63.1 valid_loss 0.3266 valid_acc 88.66 val_fscore 50.21 test_loss 0.4967 test_acc 82.93 test_fscore 50.31 time 14.48\n",
            "epoch 46 train_loss 0.2925 train_acc 89.41 train_fscore 63.57 valid_loss 0.3342 valid_acc 88.83 val_fscore 49.12 test_loss 0.4969 test_acc 83.48 test_fscore 50.84 time 14.49\n",
            "epoch 47 train_loss 0.2899 train_acc 89.4 train_fscore 63.59 valid_loss 0.3097 valid_acc 89.95 val_fscore 46.75 test_loss 0.4852 test_acc 84.69 test_fscore 47.92 time 14.47\n",
            "epoch 48 train_loss 0.2896 train_acc 89.49 train_fscore 63.84 valid_loss 0.3229 valid_acc 89.48 val_fscore 51.01 test_loss 0.4957 test_acc 83.5 test_fscore 49.63 time 14.63\n",
            "epoch 49 train_loss 0.2855 train_acc 89.53 train_fscore 64.2 valid_loss 0.3207 valid_acc 89.44 val_fscore 49.13 test_loss 0.4828 test_acc 84.17 test_fscore 49.58 time 14.5\n",
            "epoch 50 train_loss 0.2849 train_acc 89.65 train_fscore 64.58 valid_loss 0.3315 valid_acc 89.11 val_fscore 50.22 test_loss 0.504 test_acc 84.26 test_fscore 51.69 time 14.46\n",
            "epoch 51 train_loss 0.2845 train_acc 89.41 train_fscore 63.71 valid_loss 0.319 valid_acc 89.49 val_fscore 52.5 test_loss 0.4829 test_acc 83.81 test_fscore 50.63 time 14.53\n",
            "epoch 52 train_loss 0.2819 train_acc 89.71 train_fscore 64.82 valid_loss 0.3175 valid_acc 89.83 val_fscore 50.53 test_loss 0.5043 test_acc 83.62 test_fscore 48.58 time 14.63\n",
            "epoch 53 train_loss 0.2785 train_acc 89.72 train_fscore 64.81 valid_loss 0.324 valid_acc 89.38 val_fscore 51.75 test_loss 0.5017 test_acc 83.9 test_fscore 51.08 time 14.48\n",
            "epoch 54 train_loss 0.2783 train_acc 89.74 train_fscore 64.9 valid_loss 0.3199 valid_acc 89.65 val_fscore 49.35 test_loss 0.5013 test_acc 83.97 test_fscore 49.04 time 14.43\n",
            "epoch 55 train_loss 0.2759 train_acc 89.8 train_fscore 65.12 valid_loss 0.3452 valid_acc 88.47 val_fscore 50.0 test_loss 0.5377 test_acc 82.12 test_fscore 49.27 time 14.59\n",
            "epoch 56 train_loss 0.2748 train_acc 89.92 train_fscore 65.57 valid_loss 0.3442 valid_acc 88.47 val_fscore 50.72 test_loss 0.5168 test_acc 82.91 test_fscore 50.34 time 14.54\n",
            "epoch 57 train_loss 0.2748 train_acc 89.85 train_fscore 65.36 valid_loss 0.3466 valid_acc 89.02 val_fscore 50.97 test_loss 0.5392 test_acc 83.04 test_fscore 49.7 time 14.56\n",
            "epoch 58 train_loss 0.2719 train_acc 89.77 train_fscore 65.09 valid_loss 0.3444 valid_acc 88.47 val_fscore 49.23 test_loss 0.5289 test_acc 83.04 test_fscore 50.0 time 14.45\n",
            "epoch 59 train_loss 0.2735 train_acc 89.87 train_fscore 65.47 valid_loss 0.3513 valid_acc 88.6 val_fscore 47.51 test_loss 0.5411 test_acc 83.09 test_fscore 49.57 time 14.45\n",
            "epoch 60 train_loss 0.27 train_acc 89.97 train_fscore 65.82 valid_loss 0.3232 valid_acc 89.33 val_fscore 50.44 test_loss 0.4943 test_acc 83.41 test_fscore 49.94 time 14.54\n",
            "Test performance..\n",
            "Loss 0.4624 F1-score 49.92\n",
            "/usr/local/lib/python3.6/dist-packages/sklearn/metrics/_classification.py:1272: UndefinedMetricWarning: Precision and F-score are ill-defined and being set to 0.0 in labels with no predicted samples. Use `zero_division` parameter to control this behavior.\n",
            "  _warn_prf(average, modifier, msg_start, len(result))\n",
            "              precision    recall  f1-score   support\n",
            "\n",
            "           0     0.5955    0.5476    0.5706    1019.0\n",
            "           2     0.4590    0.2373    0.3128     118.0\n",
            "           3     0.4074    0.1078    0.1705     102.0\n",
            "           4     0.0000    0.0000    0.0000      17.0\n",
            "           5     0.5455    0.2069    0.3000     116.0\n",
            "           6     0.0000    0.0000    0.0000      47.0\n",
            "\n",
            "   micro avg     0.5809    0.4376    0.4992    1419.0\n",
            "   macro avg     0.3346    0.1833    0.2257    1419.0\n",
            "weighted avg     0.5397    0.4376    0.4725    1419.0\n",
            "\n",
            "[[5.580e+02 4.560e+02 0.000e+00 0.000e+00 0.000e+00 5.000e+00 0.000e+00]\n",
            " [3.630e+02 5.905e+03 2.400e+01 1.500e+01 0.000e+00 1.400e+01 0.000e+00]\n",
            " [0.000e+00 8.800e+01 2.800e+01 1.000e+00 0.000e+00 1.000e+00 0.000e+00]\n",
            " [1.000e+00 8.800e+01 2.000e+00 1.100e+01 0.000e+00 0.000e+00 0.000e+00]\n",
            " [0.000e+00 1.500e+01 2.000e+00 0.000e+00 0.000e+00 0.000e+00 0.000e+00]\n",
            " [1.500e+01 7.700e+01 0.000e+00 0.000e+00 0.000e+00 2.400e+01 0.000e+00]\n",
            " [0.000e+00 4.200e+01 5.000e+00 0.000e+00 0.000e+00 0.000e+00 0.000e+00]]\n"
          ],
          "name": "stdout"
        }
      ]
    },
    {
      "cell_type": "markdown",
      "metadata": {
        "id": "7ZQOp-mjcQID",
        "colab_type": "text"
      },
      "source": [
        "### IEMOCAP"
      ]
    },
    {
      "cell_type": "code",
      "metadata": {
        "id": "3TZdQE1KgG2J",
        "colab_type": "code",
        "colab": {
          "base_uri": "https://localhost:8080/",
          "height": 1000
        },
        "outputId": "198348f8-84fd-492e-ee21-7edf2ad3a731"
      },
      "source": [
        "!python train_IEMOCAP.py"
      ],
      "execution_count": null,
      "outputs": [
        {
          "output_type": "stream",
          "text": [
            "Namespace(attention=False, batch_size=32, class_weight=False, dropout=0.25, epochs=60, l2=1e-05, lr=0.0001, no_cuda=False, tensorboard=False)\n",
            "Running on GPU\n",
            "epoch 1 train_loss 1.7817 train_acc 17.25 train_fscore 11.0 valid_loss nan valid_acc nan val_fscore nan test_loss 1.776 test_acc 19.78 test_fscore 11.14 time 0.8\n",
            "epoch 2 train_loss 1.7661 train_acc 25.85 train_fscore 17.13 valid_loss nan valid_acc nan val_fscore nan test_loss 1.7678 test_acc 25.82 test_fscore 15.52 time 0.75\n",
            "epoch 3 train_loss 1.7505 train_acc 34.99 train_fscore 24.86 valid_loss nan valid_acc nan val_fscore nan test_loss 1.7593 test_acc 29.64 test_fscore 17.96 time 0.75\n",
            "epoch 4 train_loss 1.7353 train_acc 40.93 train_fscore 31.85 valid_loss nan valid_acc nan val_fscore nan test_loss 1.7502 test_acc 32.41 test_fscore 21.2 time 0.76\n",
            "epoch 5 train_loss 1.7191 train_acc 47.14 train_fscore 39.43 valid_loss nan valid_acc nan val_fscore nan test_loss 1.7404 test_acc 36.48 test_fscore 26.95 time 0.75\n",
            "epoch 6 train_loss 1.7013 train_acc 53.84 train_fscore 47.01 valid_loss nan valid_acc nan val_fscore nan test_loss 1.7294 test_acc 39.74 test_fscore 31.51 time 0.77\n",
            "epoch 7 train_loss 1.6814 train_acc 58.07 train_fscore 52.0 valid_loss nan valid_acc nan val_fscore nan test_loss 1.717 test_acc 42.82 test_fscore 35.89 time 0.74\n",
            "epoch 8 train_loss 1.6594 train_acc 60.77 train_fscore 55.47 valid_loss nan valid_acc nan val_fscore nan test_loss 1.7027 test_acc 45.35 test_fscore 39.12 time 0.74\n",
            "epoch 9 train_loss 1.6351 train_acc 63.58 train_fscore 59.12 valid_loss nan valid_acc nan val_fscore nan test_loss 1.6861 test_acc 47.44 test_fscore 42.01 time 0.75\n",
            "epoch 10 train_loss 1.6069 train_acc 64.66 train_fscore 60.44 valid_loss nan valid_acc nan val_fscore nan test_loss 1.6671 test_acc 48.68 test_fscore 43.8 time 0.77\n",
            "epoch 11 train_loss 1.5733 train_acc 66.45 train_fscore 62.83 valid_loss nan valid_acc nan val_fscore nan test_loss 1.6452 test_acc 49.35 test_fscore 44.94 time 0.75\n",
            "epoch 12 train_loss 1.5377 train_acc 67.21 train_fscore 63.91 valid_loss nan valid_acc nan val_fscore nan test_loss 1.62 test_acc 50.22 test_fscore 46.33 time 0.74\n",
            "epoch 13 train_loss 1.4962 train_acc 68.04 train_fscore 65.06 valid_loss nan valid_acc nan val_fscore nan test_loss 1.5914 test_acc 51.02 test_fscore 47.36 time 0.73\n",
            "epoch 14 train_loss 1.4506 train_acc 67.83 train_fscore 64.76 valid_loss nan valid_acc nan val_fscore nan test_loss 1.5592 test_acc 51.69 test_fscore 48.41 time 0.78\n",
            "epoch 15 train_loss 1.4027 train_acc 68.04 train_fscore 64.87 valid_loss nan valid_acc nan val_fscore nan test_loss 1.5235 test_acc 52.06 test_fscore 48.91 time 0.78\n",
            "epoch 16 train_loss 1.3478 train_acc 67.99 train_fscore 64.96 valid_loss nan valid_acc nan val_fscore nan test_loss 1.4851 test_acc 52.5 test_fscore 49.48 time 0.75\n",
            "epoch 17 train_loss 1.2906 train_acc 68.23 train_fscore 65.38 valid_loss nan valid_acc nan val_fscore nan test_loss 1.4442 test_acc 53.05 test_fscore 50.14 time 0.76\n",
            "epoch 18 train_loss 1.2336 train_acc 68.43 train_fscore 65.64 valid_loss nan valid_acc nan val_fscore nan test_loss 1.4021 test_acc 53.36 test_fscore 50.67 time 0.77\n",
            "epoch 19 train_loss 1.1737 train_acc 68.35 train_fscore 65.26 valid_loss nan valid_acc nan val_fscore nan test_loss 1.3594 test_acc 53.67 test_fscore 51.25 time 0.75\n",
            "epoch 20 train_loss 1.115 train_acc 68.76 train_fscore 65.99 valid_loss nan valid_acc nan val_fscore nan test_loss 1.3176 test_acc 53.97 test_fscore 51.88 time 0.74\n",
            "epoch 21 train_loss 1.0611 train_acc 69.66 train_fscore 67.13 valid_loss nan valid_acc nan val_fscore nan test_loss 1.2775 test_acc 54.28 test_fscore 52.58 time 0.74\n",
            "epoch 22 train_loss 1.0077 train_acc 70.34 train_fscore 68.06 valid_loss nan valid_acc nan val_fscore nan test_loss 1.2388 test_acc 55.39 test_fscore 53.99 time 0.74\n",
            "epoch 23 train_loss 0.9586 train_acc 71.64 train_fscore 69.65 valid_loss nan valid_acc nan val_fscore nan test_loss 1.2028 test_acc 56.25 test_fscore 55.13 time 0.74\n",
            "epoch 24 train_loss 0.9093 train_acc 72.56 train_fscore 70.8 valid_loss nan valid_acc nan val_fscore nan test_loss 1.1706 test_acc 56.81 test_fscore 55.82 time 0.74\n",
            "epoch 25 train_loss 0.8624 train_acc 74.06 train_fscore 72.66 valid_loss nan valid_acc nan val_fscore nan test_loss 1.1421 test_acc 57.36 test_fscore 56.46 time 0.75\n",
            "epoch 26 train_loss 0.8272 train_acc 74.23 train_fscore 73.19 valid_loss nan valid_acc nan val_fscore nan test_loss 1.1178 test_acc 58.04 test_fscore 57.25 time 0.74\n",
            "epoch 27 train_loss 0.7934 train_acc 75.75 train_fscore 74.99 valid_loss nan valid_acc nan val_fscore nan test_loss 1.0977 test_acc 58.41 test_fscore 57.78 time 0.74\n",
            "epoch 28 train_loss 0.7512 train_acc 77.81 train_fscore 77.31 valid_loss nan valid_acc nan val_fscore nan test_loss 1.0798 test_acc 58.6 test_fscore 58.04 time 0.73\n",
            "epoch 29 train_loss 0.7172 train_acc 79.04 train_fscore 78.68 valid_loss nan valid_acc nan val_fscore nan test_loss 1.0663 test_acc 59.09 test_fscore 58.62 time 0.75\n",
            "epoch 30 train_loss 0.6864 train_acc 80.21 train_fscore 79.94 valid_loss nan valid_acc nan val_fscore nan test_loss 1.0547 test_acc 59.52 test_fscore 59.04 time 0.74\n",
            "epoch 31 train_loss 0.653 train_acc 81.46 train_fscore 81.27 valid_loss nan valid_acc nan val_fscore nan test_loss 1.0465 test_acc 59.03 test_fscore 58.65 time 0.75\n",
            "epoch 32 train_loss 0.6283 train_acc 82.12 train_fscore 81.96 valid_loss nan valid_acc nan val_fscore nan test_loss 1.0401 test_acc 58.96 test_fscore 58.74 time 0.78\n",
            "epoch 33 train_loss 0.6021 train_acc 83.22 train_fscore 83.1 valid_loss nan valid_acc nan val_fscore nan test_loss 1.0349 test_acc 58.96 test_fscore 58.77 time 0.74\n",
            "epoch 34 train_loss 0.5768 train_acc 83.96 train_fscore 83.89 valid_loss nan valid_acc nan val_fscore nan test_loss 1.0313 test_acc 58.96 test_fscore 58.84 time 0.75\n",
            "epoch 35 train_loss 0.5513 train_acc 85.15 train_fscore 85.1 valid_loss nan valid_acc nan val_fscore nan test_loss 1.0296 test_acc 59.09 test_fscore 59.17 time 0.74\n",
            "epoch 36 train_loss 0.5309 train_acc 85.2 train_fscore 85.15 valid_loss nan valid_acc nan val_fscore nan test_loss 1.0297 test_acc 59.21 test_fscore 59.28 time 0.75\n",
            "epoch 37 train_loss 0.5115 train_acc 86.06 train_fscore 86.03 valid_loss nan valid_acc nan val_fscore nan test_loss 1.0299 test_acc 59.52 test_fscore 59.59 time 0.77\n",
            "epoch 38 train_loss 0.4905 train_acc 86.56 train_fscore 86.53 valid_loss nan valid_acc nan val_fscore nan test_loss 1.0303 test_acc 59.4 test_fscore 59.49 time 0.77\n",
            "epoch 39 train_loss 0.4673 train_acc 87.11 train_fscore 87.09 valid_loss nan valid_acc nan val_fscore nan test_loss 1.0332 test_acc 59.52 test_fscore 59.64 time 0.74\n",
            "epoch 40 train_loss 0.4523 train_acc 87.57 train_fscore 87.56 valid_loss nan valid_acc nan val_fscore nan test_loss 1.0353 test_acc 59.52 test_fscore 59.64 time 0.77\n",
            "epoch 41 train_loss 0.4337 train_acc 88.35 train_fscore 88.34 valid_loss nan valid_acc nan val_fscore nan test_loss 1.0384 test_acc 59.77 test_fscore 59.84 time 0.76\n",
            "epoch 42 train_loss 0.4213 train_acc 88.62 train_fscore 88.61 valid_loss nan valid_acc nan val_fscore nan test_loss 1.043 test_acc 59.7 test_fscore 59.73 time 0.75\n",
            "epoch 43 train_loss 0.4073 train_acc 88.95 train_fscore 88.94 valid_loss nan valid_acc nan val_fscore nan test_loss 1.0491 test_acc 59.83 test_fscore 59.84 time 0.75\n",
            "epoch 44 train_loss 0.3911 train_acc 89.19 train_fscore 89.18 valid_loss nan valid_acc nan val_fscore nan test_loss 1.0564 test_acc 59.58 test_fscore 59.58 time 0.76\n",
            "epoch 45 train_loss 0.3803 train_acc 89.69 train_fscore 89.68 valid_loss nan valid_acc nan val_fscore nan test_loss 1.0616 test_acc 59.33 test_fscore 59.3 time 0.75\n",
            "epoch 46 train_loss 0.3718 train_acc 89.91 train_fscore 89.9 valid_loss nan valid_acc nan val_fscore nan test_loss 1.0675 test_acc 59.4 test_fscore 59.37 time 0.76\n",
            "epoch 47 train_loss 0.3533 train_acc 90.21 train_fscore 90.21 valid_loss nan valid_acc nan val_fscore nan test_loss 1.0732 test_acc 59.03 test_fscore 58.99 time 0.74\n",
            "epoch 48 train_loss 0.3456 train_acc 90.43 train_fscore 90.43 valid_loss nan valid_acc nan val_fscore nan test_loss 1.0813 test_acc 58.84 test_fscore 58.76 time 0.74\n",
            "epoch 49 train_loss 0.3372 train_acc 90.81 train_fscore 90.81 valid_loss nan valid_acc nan val_fscore nan test_loss 1.0884 test_acc 58.84 test_fscore 58.81 time 0.76\n",
            "epoch 50 train_loss 0.3305 train_acc 90.77 train_fscore 90.77 valid_loss nan valid_acc nan val_fscore nan test_loss 1.0959 test_acc 58.78 test_fscore 58.76 time 0.74\n",
            "epoch 51 train_loss 0.3207 train_acc 91.34 train_fscore 91.35 valid_loss nan valid_acc nan val_fscore nan test_loss 1.1024 test_acc 58.72 test_fscore 58.66 time 0.75\n",
            "epoch 52 train_loss 0.3095 train_acc 91.62 train_fscore 91.62 valid_loss nan valid_acc nan val_fscore nan test_loss 1.1096 test_acc 58.72 test_fscore 58.66 time 0.75\n",
            "epoch 53 train_loss 0.3041 train_acc 91.77 train_fscore 91.77 valid_loss nan valid_acc nan val_fscore nan test_loss 1.1152 test_acc 58.47 test_fscore 58.41 time 0.81\n",
            "epoch 54 train_loss 0.3005 train_acc 91.67 train_fscore 91.67 valid_loss nan valid_acc nan val_fscore nan test_loss 1.1217 test_acc 58.47 test_fscore 58.38 time 0.8\n",
            "epoch 55 train_loss 0.2903 train_acc 92.41 train_fscore 92.41 valid_loss nan valid_acc nan val_fscore nan test_loss 1.1296 test_acc 58.41 test_fscore 58.32 time 0.75\n",
            "epoch 56 train_loss 0.2889 train_acc 91.84 train_fscore 91.84 valid_loss nan valid_acc nan val_fscore nan test_loss 1.1367 test_acc 58.41 test_fscore 58.34 time 0.74\n",
            "epoch 57 train_loss 0.2801 train_acc 92.46 train_fscore 92.46 valid_loss nan valid_acc nan val_fscore nan test_loss 1.1427 test_acc 58.47 test_fscore 58.38 time 0.75\n",
            "epoch 58 train_loss 0.2767 train_acc 92.15 train_fscore 92.15 valid_loss nan valid_acc nan val_fscore nan test_loss 1.1487 test_acc 58.47 test_fscore 58.38 time 0.74\n",
            "epoch 59 train_loss 0.264 train_acc 92.58 train_fscore 92.58 valid_loss nan valid_acc nan val_fscore nan test_loss 1.155 test_acc 58.29 test_fscore 58.23 time 0.77\n",
            "epoch 60 train_loss 0.2649 train_acc 92.65 train_fscore 92.65 valid_loss nan valid_acc nan val_fscore nan test_loss 1.1603 test_acc 58.41 test_fscore 58.36 time 0.76\n",
            "Test performance..\n",
            "Loss 1.0296 F1-score 59.17\n",
            "              precision    recall  f1-score   support\n",
            "\n",
            "           0     0.5513    0.2986    0.3874     144.0\n",
            "           1     0.8602    0.6531    0.7425     245.0\n",
            "           2     0.4739    0.6380    0.5438     384.0\n",
            "           3     0.7164    0.5647    0.6316     170.0\n",
            "           4     0.6856    0.5251    0.5947     299.0\n",
            "           5     0.5386    0.6772    0.6000     381.0\n",
            "\n",
            "    accuracy                         0.5909    1623.0\n",
            "   macro avg     0.6377    0.5594    0.5833    1623.0\n",
            "weighted avg     0.6187    0.5909    0.5917    1623.0\n",
            "\n",
            "[[ 43.   4.  42.   0.  49.   6.]\n",
            " [  1. 160.  33.   3.   0.  48.]\n",
            " [  4.  12. 245.   6.  17. 100.]\n",
            " [  0.   1.  10.  96.   0.  63.]\n",
            " [ 30.   4. 104.   0. 157.   4.]\n",
            " [  0.   5.  83.  29.   6. 258.]]\n"
          ],
          "name": "stdout"
        }
      ]
    },
    {
      "cell_type": "markdown",
      "metadata": {
        "id": "uwcfzBDXcVPj",
        "colab_type": "text"
      },
      "source": [
        "# Bc-LSTM KERAS For SemEval 2019 Task 3 with their data"
      ]
    },
    {
      "cell_type": "code",
      "metadata": {
        "id": "c7g0E2-Xl0jg",
        "colab_type": "code",
        "colab": {
          "base_uri": "https://localhost:8080/",
          "height": 55
        },
        "outputId": "a0bf2198-3a2d-457f-df86-2e8ed442db4a"
      },
      "source": [
        "%cd /content/gdrive/My\\ Drive/Colab\\ Notebooks/conv-emotion-master_updated/bc-LSTM"
      ],
      "execution_count": null,
      "outputs": [
        {
          "output_type": "stream",
          "text": [
            "/content/gdrive/My Drive/Colab Notebooks/conv-emotion-master_updated/bc-LSTM\n"
          ],
          "name": "stdout"
        }
      ]
    },
    {
      "cell_type": "code",
      "metadata": {
        "id": "CtD-MNnUqBGB",
        "colab_type": "code",
        "colab": {
          "base_uri": "https://localhost:8080/",
          "height": 703
        },
        "outputId": "762d863c-d62a-4ca0-a00b-2a2956bc7f5e"
      },
      "source": [
        "!pip install tensorflow"
      ],
      "execution_count": null,
      "outputs": [
        {
          "output_type": "stream",
          "text": [
            "Requirement already satisfied: tensorflow in /usr/local/lib/python3.6/dist-packages (2.3.0)\n",
            "Requirement already satisfied: absl-py>=0.7.0 in /usr/local/lib/python3.6/dist-packages (from tensorflow) (0.9.0)\n",
            "Requirement already satisfied: tensorflow-estimator<2.4.0,>=2.3.0 in /usr/local/lib/python3.6/dist-packages (from tensorflow) (2.3.0)\n",
            "Requirement already satisfied: grpcio>=1.8.6 in /usr/local/lib/python3.6/dist-packages (from tensorflow) (1.31.0)\n",
            "Requirement already satisfied: numpy<1.19.0,>=1.16.0 in /usr/local/lib/python3.6/dist-packages (from tensorflow) (1.18.5)\n",
            "Requirement already satisfied: scipy==1.4.1 in /usr/local/lib/python3.6/dist-packages (from tensorflow) (1.4.1)\n",
            "Requirement already satisfied: wheel>=0.26 in /usr/local/lib/python3.6/dist-packages (from tensorflow) (0.34.2)\n",
            "Requirement already satisfied: tensorboard<3,>=2.3.0 in /usr/local/lib/python3.6/dist-packages (from tensorflow) (2.3.0)\n",
            "Requirement already satisfied: six>=1.12.0 in /usr/local/lib/python3.6/dist-packages (from tensorflow) (1.15.0)\n",
            "Requirement already satisfied: h5py<2.11.0,>=2.10.0 in /usr/local/lib/python3.6/dist-packages (from tensorflow) (2.10.0)\n",
            "Requirement already satisfied: gast==0.3.3 in /usr/local/lib/python3.6/dist-packages (from tensorflow) (0.3.3)\n",
            "Requirement already satisfied: wrapt>=1.11.1 in /usr/local/lib/python3.6/dist-packages (from tensorflow) (1.12.1)\n",
            "Requirement already satisfied: keras-preprocessing<1.2,>=1.1.1 in /usr/local/lib/python3.6/dist-packages (from tensorflow) (1.1.2)\n",
            "Requirement already satisfied: opt-einsum>=2.3.2 in /usr/local/lib/python3.6/dist-packages (from tensorflow) (3.3.0)\n",
            "Requirement already satisfied: google-pasta>=0.1.8 in /usr/local/lib/python3.6/dist-packages (from tensorflow) (0.2.0)\n",
            "Requirement already satisfied: protobuf>=3.9.2 in /usr/local/lib/python3.6/dist-packages (from tensorflow) (3.12.4)\n",
            "Requirement already satisfied: astunparse==1.6.3 in /usr/local/lib/python3.6/dist-packages (from tensorflow) (1.6.3)\n",
            "Requirement already satisfied: termcolor>=1.1.0 in /usr/local/lib/python3.6/dist-packages (from tensorflow) (1.1.0)\n",
            "Requirement already satisfied: tensorboard-plugin-wit>=1.6.0 in /usr/local/lib/python3.6/dist-packages (from tensorboard<3,>=2.3.0->tensorflow) (1.7.0)\n",
            "Requirement already satisfied: google-auth<2,>=1.6.3 in /usr/local/lib/python3.6/dist-packages (from tensorboard<3,>=2.3.0->tensorflow) (1.17.2)\n",
            "Requirement already satisfied: google-auth-oauthlib<0.5,>=0.4.1 in /usr/local/lib/python3.6/dist-packages (from tensorboard<3,>=2.3.0->tensorflow) (0.4.1)\n",
            "Requirement already satisfied: setuptools>=41.0.0 in /usr/local/lib/python3.6/dist-packages (from tensorboard<3,>=2.3.0->tensorflow) (49.2.0)\n",
            "Requirement already satisfied: werkzeug>=0.11.15 in /usr/local/lib/python3.6/dist-packages (from tensorboard<3,>=2.3.0->tensorflow) (1.0.1)\n",
            "Requirement already satisfied: markdown>=2.6.8 in /usr/local/lib/python3.6/dist-packages (from tensorboard<3,>=2.3.0->tensorflow) (3.2.2)\n",
            "Requirement already satisfied: requests<3,>=2.21.0 in /usr/local/lib/python3.6/dist-packages (from tensorboard<3,>=2.3.0->tensorflow) (2.23.0)\n",
            "Requirement already satisfied: pyasn1-modules>=0.2.1 in /usr/local/lib/python3.6/dist-packages (from google-auth<2,>=1.6.3->tensorboard<3,>=2.3.0->tensorflow) (0.2.8)\n",
            "Requirement already satisfied: rsa<5,>=3.1.4; python_version >= \"3\" in /usr/local/lib/python3.6/dist-packages (from google-auth<2,>=1.6.3->tensorboard<3,>=2.3.0->tensorflow) (4.6)\n",
            "Requirement already satisfied: cachetools<5.0,>=2.0.0 in /usr/local/lib/python3.6/dist-packages (from google-auth<2,>=1.6.3->tensorboard<3,>=2.3.0->tensorflow) (4.1.1)\n",
            "Requirement already satisfied: requests-oauthlib>=0.7.0 in /usr/local/lib/python3.6/dist-packages (from google-auth-oauthlib<0.5,>=0.4.1->tensorboard<3,>=2.3.0->tensorflow) (1.3.0)\n",
            "Requirement already satisfied: importlib-metadata; python_version < \"3.8\" in /usr/local/lib/python3.6/dist-packages (from markdown>=2.6.8->tensorboard<3,>=2.3.0->tensorflow) (1.7.0)\n",
            "Requirement already satisfied: urllib3!=1.25.0,!=1.25.1,<1.26,>=1.21.1 in /usr/local/lib/python3.6/dist-packages (from requests<3,>=2.21.0->tensorboard<3,>=2.3.0->tensorflow) (1.24.3)\n",
            "Requirement already satisfied: certifi>=2017.4.17 in /usr/local/lib/python3.6/dist-packages (from requests<3,>=2.21.0->tensorboard<3,>=2.3.0->tensorflow) (2020.6.20)\n",
            "Requirement already satisfied: chardet<4,>=3.0.2 in /usr/local/lib/python3.6/dist-packages (from requests<3,>=2.21.0->tensorboard<3,>=2.3.0->tensorflow) (3.0.4)\n",
            "Requirement already satisfied: idna<3,>=2.5 in /usr/local/lib/python3.6/dist-packages (from requests<3,>=2.21.0->tensorboard<3,>=2.3.0->tensorflow) (2.10)\n",
            "Requirement already satisfied: pyasn1<0.5.0,>=0.4.6 in /usr/local/lib/python3.6/dist-packages (from pyasn1-modules>=0.2.1->google-auth<2,>=1.6.3->tensorboard<3,>=2.3.0->tensorflow) (0.4.8)\n",
            "Requirement already satisfied: oauthlib>=3.0.0 in /usr/local/lib/python3.6/dist-packages (from requests-oauthlib>=0.7.0->google-auth-oauthlib<0.5,>=0.4.1->tensorboard<3,>=2.3.0->tensorflow) (3.1.0)\n",
            "Requirement already satisfied: zipp>=0.5 in /usr/local/lib/python3.6/dist-packages (from importlib-metadata; python_version < \"3.8\"->markdown>=2.6.8->tensorboard<3,>=2.3.0->tensorflow) (3.1.0)\n"
          ],
          "name": "stdout"
        }
      ]
    },
    {
      "cell_type": "code",
      "metadata": {
        "id": "4IMk1588l-RF",
        "colab_type": "code",
        "colab": {
          "base_uri": "https://localhost:8080/",
          "height": 1000
        },
        "outputId": "abe21104-ac7c-416b-d661-a4023e0cb49a"
      },
      "source": [
        "!python baseline.py -config testBaseline.config"
      ],
      "execution_count": null,
      "outputs": [
        {
          "output_type": "stream",
          "text": [
            "2020-08-19 12:18:49.286042: I tensorflow/stream_executor/platform/default/dso_loader.cc:48] Successfully opened dynamic library libcudart.so.10.1\n",
            "Processing training data...\n",
            "Processing test data...\n",
            "Extracting tokens...\n",
            "Found 15 unique tokens.\n",
            "Populating embedding matrix...\n",
            "Found 658125 word vectors.\n",
            "Shape of training data tensor:  (1, 100)\n",
            "Shape of label tensor:  (1, 1)\n",
            "Starting k-fold cross validation...\n",
            "----------------------------------------\n",
            "Building model...\n",
            "2020-08-19 12:19:55.513883: I tensorflow/stream_executor/platform/default/dso_loader.cc:48] Successfully opened dynamic library libcuda.so.1\n",
            "2020-08-19 12:19:55.532234: I tensorflow/stream_executor/cuda/cuda_gpu_executor.cc:982] successful NUMA node read from SysFS had negative value (-1), but there must be at least one NUMA node, so returning NUMA node zero\n",
            "2020-08-19 12:19:55.533028: I tensorflow/core/common_runtime/gpu/gpu_device.cc:1716] Found device 0 with properties: \n",
            "pciBusID: 0000:00:04.0 name: Tesla K80 computeCapability: 3.7\n",
            "coreClock: 0.8235GHz coreCount: 13 deviceMemorySize: 11.17GiB deviceMemoryBandwidth: 223.96GiB/s\n",
            "2020-08-19 12:19:55.533083: I tensorflow/stream_executor/platform/default/dso_loader.cc:48] Successfully opened dynamic library libcudart.so.10.1\n",
            "2020-08-19 12:19:55.534934: I tensorflow/stream_executor/platform/default/dso_loader.cc:48] Successfully opened dynamic library libcublas.so.10\n",
            "2020-08-19 12:19:55.536774: I tensorflow/stream_executor/platform/default/dso_loader.cc:48] Successfully opened dynamic library libcufft.so.10\n",
            "2020-08-19 12:19:55.537135: I tensorflow/stream_executor/platform/default/dso_loader.cc:48] Successfully opened dynamic library libcurand.so.10\n",
            "2020-08-19 12:19:55.539036: I tensorflow/stream_executor/platform/default/dso_loader.cc:48] Successfully opened dynamic library libcusolver.so.10\n",
            "2020-08-19 12:19:55.539878: I tensorflow/stream_executor/platform/default/dso_loader.cc:48] Successfully opened dynamic library libcusparse.so.10\n",
            "2020-08-19 12:19:55.544410: I tensorflow/stream_executor/platform/default/dso_loader.cc:48] Successfully opened dynamic library libcudnn.so.7\n",
            "2020-08-19 12:19:55.544547: I tensorflow/stream_executor/cuda/cuda_gpu_executor.cc:982] successful NUMA node read from SysFS had negative value (-1), but there must be at least one NUMA node, so returning NUMA node zero\n",
            "2020-08-19 12:19:55.545353: I tensorflow/stream_executor/cuda/cuda_gpu_executor.cc:982] successful NUMA node read from SysFS had negative value (-1), but there must be at least one NUMA node, so returning NUMA node zero\n",
            "2020-08-19 12:19:55.546019: I tensorflow/core/common_runtime/gpu/gpu_device.cc:1858] Adding visible gpu devices: 0\n",
            "2020-08-19 12:19:55.551914: I tensorflow/core/platform/profile_utils/cpu_utils.cc:104] CPU Frequency: 2300000000 Hz\n",
            "2020-08-19 12:19:55.552204: I tensorflow/compiler/xla/service/service.cc:168] XLA service 0x285e840 initialized for platform Host (this does not guarantee that XLA will be used). Devices:\n",
            "2020-08-19 12:19:55.552242: I tensorflow/compiler/xla/service/service.cc:176]   StreamExecutor device (0): Host, Default Version\n",
            "2020-08-19 12:19:55.605854: I tensorflow/stream_executor/cuda/cuda_gpu_executor.cc:982] successful NUMA node read from SysFS had negative value (-1), but there must be at least one NUMA node, so returning NUMA node zero\n",
            "2020-08-19 12:19:55.606718: I tensorflow/compiler/xla/service/service.cc:168] XLA service 0x285ebc0 initialized for platform CUDA (this does not guarantee that XLA will be used). Devices:\n",
            "2020-08-19 12:19:55.606755: I tensorflow/compiler/xla/service/service.cc:176]   StreamExecutor device (0): Tesla K80, Compute Capability 3.7\n",
            "2020-08-19 12:19:55.606977: I tensorflow/stream_executor/cuda/cuda_gpu_executor.cc:982] successful NUMA node read from SysFS had negative value (-1), but there must be at least one NUMA node, so returning NUMA node zero\n",
            "2020-08-19 12:19:55.607708: I tensorflow/core/common_runtime/gpu/gpu_device.cc:1716] Found device 0 with properties: \n",
            "pciBusID: 0000:00:04.0 name: Tesla K80 computeCapability: 3.7\n",
            "coreClock: 0.8235GHz coreCount: 13 deviceMemorySize: 11.17GiB deviceMemoryBandwidth: 223.96GiB/s\n",
            "2020-08-19 12:19:55.607777: I tensorflow/stream_executor/platform/default/dso_loader.cc:48] Successfully opened dynamic library libcudart.so.10.1\n",
            "2020-08-19 12:19:55.607855: I tensorflow/stream_executor/platform/default/dso_loader.cc:48] Successfully opened dynamic library libcublas.so.10\n",
            "2020-08-19 12:19:55.607918: I tensorflow/stream_executor/platform/default/dso_loader.cc:48] Successfully opened dynamic library libcufft.so.10\n",
            "2020-08-19 12:19:55.607964: I tensorflow/stream_executor/platform/default/dso_loader.cc:48] Successfully opened dynamic library libcurand.so.10\n",
            "2020-08-19 12:19:55.608008: I tensorflow/stream_executor/platform/default/dso_loader.cc:48] Successfully opened dynamic library libcusolver.so.10\n",
            "2020-08-19 12:19:55.608049: I tensorflow/stream_executor/platform/default/dso_loader.cc:48] Successfully opened dynamic library libcusparse.so.10\n",
            "2020-08-19 12:19:55.608091: I tensorflow/stream_executor/platform/default/dso_loader.cc:48] Successfully opened dynamic library libcudnn.so.7\n",
            "2020-08-19 12:19:55.608222: I tensorflow/stream_executor/cuda/cuda_gpu_executor.cc:982] successful NUMA node read from SysFS had negative value (-1), but there must be at least one NUMA node, so returning NUMA node zero\n",
            "2020-08-19 12:19:55.609012: I tensorflow/stream_executor/cuda/cuda_gpu_executor.cc:982] successful NUMA node read from SysFS had negative value (-1), but there must be at least one NUMA node, so returning NUMA node zero\n",
            "2020-08-19 12:19:55.609703: I tensorflow/core/common_runtime/gpu/gpu_device.cc:1858] Adding visible gpu devices: 0\n",
            "2020-08-19 12:19:55.609764: I tensorflow/stream_executor/platform/default/dso_loader.cc:48] Successfully opened dynamic library libcudart.so.10.1\n",
            "2020-08-19 12:19:55.997097: I tensorflow/core/common_runtime/gpu/gpu_device.cc:1257] Device interconnect StreamExecutor with strength 1 edge matrix:\n",
            "2020-08-19 12:19:55.997192: I tensorflow/core/common_runtime/gpu/gpu_device.cc:1263]      0 \n",
            "2020-08-19 12:19:55.997223: I tensorflow/core/common_runtime/gpu/gpu_device.cc:1276] 0:   N \n",
            "2020-08-19 12:19:55.997592: I tensorflow/stream_executor/cuda/cuda_gpu_executor.cc:982] successful NUMA node read from SysFS had negative value (-1), but there must be at least one NUMA node, so returning NUMA node zero\n",
            "2020-08-19 12:19:55.998490: I tensorflow/stream_executor/cuda/cuda_gpu_executor.cc:982] successful NUMA node read from SysFS had negative value (-1), but there must be at least one NUMA node, so returning NUMA node zero\n",
            "2020-08-19 12:19:55.999239: W tensorflow/core/common_runtime/gpu/gpu_bfc_allocator.cc:39] Overriding allow_growth setting because the TF_FORCE_GPU_ALLOW_GROWTH environment variable is set. Original config value was 0.\n",
            "2020-08-19 12:19:55.999332: I tensorflow/core/common_runtime/gpu/gpu_device.cc:1402] Created TensorFlow device (/job:localhost/replica:0/task:0/device:GPU:0 with 10630 MB memory) -> physical GPU (device: 0, name: Tesla K80, pci bus id: 0000:00:04.0, compute capability: 3.7)\n",
            "Model: \"functional_1\"\n",
            "__________________________________________________________________________________________________\n",
            "Layer (type)                    Output Shape         Param #     Connected to                     \n",
            "==================================================================================================\n",
            "main_input1 (InputLayer)        [(None, 100)]        0                                            \n",
            "__________________________________________________________________________________________________\n",
            "main_input2 (InputLayer)        [(None, 100)]        0                                            \n",
            "__________________________________________________________________________________________________\n",
            "main_input3 (InputLayer)        [(None, 100)]        0                                            \n",
            "__________________________________________________________________________________________________\n",
            "embedding (Embedding)           (None, 100, 300)     4800        main_input1[0][0]                \n",
            "                                                                 main_input2[0][0]                \n",
            "                                                                 main_input3[0][0]                \n",
            "__________________________________________________________________________________________________\n",
            "bidirectional (Bidirectional)   (None, 600)          1442400     embedding[0][0]                  \n",
            "                                                                 embedding[1][0]                  \n",
            "                                                                 embedding[2][0]                  \n",
            "__________________________________________________________________________________________________\n",
            "concatenate (Concatenate)       (None, 1800)         0           bidirectional[0][0]              \n",
            "                                                                 bidirectional[1][0]              \n",
            "                                                                 bidirectional[2][0]              \n",
            "__________________________________________________________________________________________________\n",
            "reshape (Reshape)               (None, 3, 600)       0           concatenate[0][0]                \n",
            "__________________________________________________________________________________________________\n",
            "lstm_1 (LSTM)                   (None, 300)          1081200     reshape[0][0]                    \n",
            "__________________________________________________________________________________________________\n",
            "dense (Dense)                   (None, 4)            1204        lstm_1[0][0]                     \n",
            "==================================================================================================\n",
            "Total params: 2,529,604\n",
            "Trainable params: 2,524,804\n",
            "Non-trainable params: 4,800\n",
            "__________________________________________________________________________________________________\n",
            "None\n",
            "\n",
            "======================================\n",
            "Retraining model on entire data to create solution file\n",
            "Model: \"functional_3\"\n",
            "__________________________________________________________________________________________________\n",
            "Layer (type)                    Output Shape         Param #     Connected to                     \n",
            "==================================================================================================\n",
            "main_input1 (InputLayer)        [(None, 100)]        0                                            \n",
            "__________________________________________________________________________________________________\n",
            "main_input2 (InputLayer)        [(None, 100)]        0                                            \n",
            "__________________________________________________________________________________________________\n",
            "main_input3 (InputLayer)        [(None, 100)]        0                                            \n",
            "__________________________________________________________________________________________________\n",
            "embedding_1 (Embedding)         (None, 100, 300)     4800        main_input1[0][0]                \n",
            "                                                                 main_input2[0][0]                \n",
            "                                                                 main_input3[0][0]                \n",
            "__________________________________________________________________________________________________\n",
            "bidirectional_1 (Bidirectional) (None, 600)          1442400     embedding_1[0][0]                \n",
            "                                                                 embedding_1[1][0]                \n",
            "                                                                 embedding_1[2][0]                \n",
            "__________________________________________________________________________________________________\n",
            "concatenate_1 (Concatenate)     (None, 1800)         0           bidirectional_1[0][0]            \n",
            "                                                                 bidirectional_1[1][0]            \n",
            "                                                                 bidirectional_1[2][0]            \n",
            "__________________________________________________________________________________________________\n",
            "reshape_1 (Reshape)             (None, 3, 600)       0           concatenate_1[0][0]              \n",
            "__________________________________________________________________________________________________\n",
            "lstm_3 (LSTM)                   (None, 300)          1081200     reshape_1[0][0]                  \n",
            "__________________________________________________________________________________________________\n",
            "dense_1 (Dense)                 (None, 4)            1204        lstm_3[0][0]                     \n",
            "==================================================================================================\n",
            "Total params: 2,529,604\n",
            "Trainable params: 2,524,804\n",
            "Non-trainable params: 4,800\n",
            "__________________________________________________________________________________________________\n",
            "None\n",
            "Epoch 1/10\n",
            "Traceback (most recent call last):\n",
            "  File \"baseline.py\", line 380, in <module>\n",
            "    main()\n",
            "  File \"baseline.py\", line 358, in main\n",
            "    model.fit([u1_data,u2_data,u3_data], labels, epochs=NUM_EPOCHS, batch_size=BATCH_SIZE)\n",
            "  File \"/usr/local/lib/python3.6/dist-packages/tensorflow/python/keras/engine/training.py\", line 108, in _method_wrapper\n",
            "    return method(self, *args, **kwargs)\n",
            "  File \"/usr/local/lib/python3.6/dist-packages/tensorflow/python/keras/engine/training.py\", line 1098, in fit\n",
            "    tmp_logs = train_function(iterator)\n",
            "  File \"/usr/local/lib/python3.6/dist-packages/tensorflow/python/eager/def_function.py\", line 780, in __call__\n",
            "    result = self._call(*args, **kwds)\n",
            "  File \"/usr/local/lib/python3.6/dist-packages/tensorflow/python/eager/def_function.py\", line 823, in _call\n",
            "    self._initialize(args, kwds, add_initializers_to=initializers)\n",
            "  File \"/usr/local/lib/python3.6/dist-packages/tensorflow/python/eager/def_function.py\", line 697, in _initialize\n",
            "    *args, **kwds))\n",
            "  File \"/usr/local/lib/python3.6/dist-packages/tensorflow/python/eager/function.py\", line 2855, in _get_concrete_function_internal_garbage_collected\n",
            "    graph_function, _, _ = self._maybe_define_function(args, kwargs)\n",
            "  File \"/usr/local/lib/python3.6/dist-packages/tensorflow/python/eager/function.py\", line 3213, in _maybe_define_function\n",
            "    graph_function = self._create_graph_function(args, kwargs)\n",
            "  File \"/usr/local/lib/python3.6/dist-packages/tensorflow/python/eager/function.py\", line 3075, in _create_graph_function\n",
            "    capture_by_value=self._capture_by_value),\n",
            "  File \"/usr/local/lib/python3.6/dist-packages/tensorflow/python/framework/func_graph.py\", line 986, in func_graph_from_py_func\n",
            "    func_outputs = python_func(*func_args, **func_kwargs)\n",
            "  File \"/usr/local/lib/python3.6/dist-packages/tensorflow/python/eager/def_function.py\", line 600, in wrapped_fn\n",
            "    return weak_wrapped_fn().__wrapped__(*args, **kwds)\n",
            "  File \"/usr/local/lib/python3.6/dist-packages/tensorflow/python/framework/func_graph.py\", line 973, in wrapper\n",
            "    raise e.ag_error_metadata.to_exception(e)\n",
            "ValueError: in user code:\n",
            "\n",
            "    /usr/local/lib/python3.6/dist-packages/tensorflow/python/keras/engine/training.py:806 train_function  *\n",
            "        return step_function(self, iterator)\n",
            "    /usr/local/lib/python3.6/dist-packages/tensorflow/python/keras/engine/training.py:796 step_function  **\n",
            "        outputs = model.distribute_strategy.run(run_step, args=(data,))\n",
            "    /usr/local/lib/python3.6/dist-packages/tensorflow/python/distribute/distribute_lib.py:1211 run\n",
            "        return self._extended.call_for_each_replica(fn, args=args, kwargs=kwargs)\n",
            "    /usr/local/lib/python3.6/dist-packages/tensorflow/python/distribute/distribute_lib.py:2585 call_for_each_replica\n",
            "        return self._call_for_each_replica(fn, args, kwargs)\n",
            "    /usr/local/lib/python3.6/dist-packages/tensorflow/python/distribute/distribute_lib.py:2945 _call_for_each_replica\n",
            "        return fn(*args, **kwargs)\n",
            "    /usr/local/lib/python3.6/dist-packages/tensorflow/python/keras/engine/training.py:789 run_step  **\n",
            "        outputs = model.train_step(data)\n",
            "    /usr/local/lib/python3.6/dist-packages/tensorflow/python/keras/engine/training.py:749 train_step\n",
            "        y, y_pred, sample_weight, regularization_losses=self.losses)\n",
            "    /usr/local/lib/python3.6/dist-packages/tensorflow/python/keras/engine/compile_utils.py:204 __call__\n",
            "        loss_value = loss_obj(y_t, y_p, sample_weight=sw)\n",
            "    /usr/local/lib/python3.6/dist-packages/tensorflow/python/keras/losses.py:149 __call__\n",
            "        losses = ag_call(y_true, y_pred)\n",
            "    /usr/local/lib/python3.6/dist-packages/tensorflow/python/keras/losses.py:253 call  **\n",
            "        return ag_fn(y_true, y_pred, **self._fn_kwargs)\n",
            "    /usr/local/lib/python3.6/dist-packages/tensorflow/python/util/dispatch.py:201 wrapper\n",
            "        return target(*args, **kwargs)\n",
            "    /usr/local/lib/python3.6/dist-packages/tensorflow/python/keras/losses.py:1535 categorical_crossentropy\n",
            "        return K.categorical_crossentropy(y_true, y_pred, from_logits=from_logits)\n",
            "    /usr/local/lib/python3.6/dist-packages/tensorflow/python/util/dispatch.py:201 wrapper\n",
            "        return target(*args, **kwargs)\n",
            "    /usr/local/lib/python3.6/dist-packages/tensorflow/python/keras/backend.py:4687 categorical_crossentropy\n",
            "        target.shape.assert_is_compatible_with(output.shape)\n",
            "    /usr/local/lib/python3.6/dist-packages/tensorflow/python/framework/tensor_shape.py:1134 assert_is_compatible_with\n",
            "        raise ValueError(\"Shapes %s and %s are incompatible\" % (self, other))\n",
            "\n",
            "    ValueError: Shapes (None, 1) and (None, 4) are incompatible\n",
            "\n"
          ],
          "name": "stdout"
        }
      ]
    }
  ]
}
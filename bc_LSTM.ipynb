{
  "nbformat": 4,
  "nbformat_minor": 0,
  "metadata": {
    "colab": {
      "name": "bc-LSTM.ipynb",
      "provenance": [],
      "collapsed_sections": [],
      "authorship_tag": "ABX9TyP8TXdVBuvhY9weFm/lzD45",
      "include_colab_link": true
    },
    "kernelspec": {
      "name": "python3",
      "display_name": "Python 3"
    },
    "accelerator": "GPU"
  },
  "cells": [
    {
      "cell_type": "markdown",
      "metadata": {
        "id": "view-in-github",
        "colab_type": "text"
      },
      "source": [
        "<a href=\"https://colab.research.google.com/github/sakinavohracs/EmotionDetection/blob/master/bc_LSTM.ipynb\" target=\"_parent\"><img src=\"https://colab.research.google.com/assets/colab-badge.svg\" alt=\"Open In Colab\"/></a>"
      ]
    },
    {
      "cell_type": "code",
      "metadata": {
        "id": "4JeaqGmcQzE6",
        "colab_type": "code",
        "colab": {
          "base_uri": "https://localhost:8080/",
          "height": 127
        },
        "outputId": "e5a7c7eb-1a90-447f-e866-677298ca8164"
      },
      "source": [
        "from google.colab import drive\n",
        "\n",
        "drive.mount('/content/gdrive')\n",
        "root_path = 'gdrive/My Drive/'"
      ],
      "execution_count": 3,
      "outputs": [
        {
          "output_type": "stream",
          "text": [
            "Go to this URL in a browser: https://accounts.google.com/o/oauth2/auth?client_id=947318989803-6bn6qk8qdgf4n4g3pfee6491hc0brc4i.apps.googleusercontent.com&redirect_uri=urn%3aietf%3awg%3aoauth%3a2.0%3aoob&scope=email%20https%3a%2f%2fwww.googleapis.com%2fauth%2fdocs.test%20https%3a%2f%2fwww.googleapis.com%2fauth%2fdrive%20https%3a%2f%2fwww.googleapis.com%2fauth%2fdrive.photos.readonly%20https%3a%2f%2fwww.googleapis.com%2fauth%2fpeopleapi.readonly&response_type=code\n",
            "\n",
            "Enter your authorization code:\n",
            "··········\n",
            "Mounted at /content/gdrive\n"
          ],
          "name": "stdout"
        }
      ]
    },
    {
      "cell_type": "code",
      "metadata": {
        "id": "88zhbhNFRDMy",
        "colab_type": "code",
        "colab": {
          "base_uri": "https://localhost:8080/",
          "height": 35
        },
        "outputId": "6a228b42-fb0c-4740-e965-275c3cfa32a3"
      },
      "source": [
        "%cd /content/gdrive/My\\ Drive/Colab\\ Notebooks/conv-emotion-master_updated"
      ],
      "execution_count": 4,
      "outputs": [
        {
          "output_type": "stream",
          "text": [
            "/content/gdrive/My Drive/Colab Notebooks/conv-emotion-master_updated\n"
          ],
          "name": "stdout"
        }
      ]
    },
    {
      "cell_type": "code",
      "metadata": {
        "id": "CLzglaoARJuL",
        "colab_type": "code",
        "colab": {}
      },
      "source": [
        "import os\n",
        "\n",
        "DATASET_DIRECTORY_PATH = \"./datasets/\"\n",
        "GENERATIVE_WEIGHTS_DIRECTORY_PATH = \"./generative_weights/\"\n",
        "\n",
        "if not os.path.exists(DATASET_DIRECTORY_PATH):\n",
        "    os.makedirs(DATASET_DIRECTORY_PATH)\n",
        "\n",
        "\n",
        "if not os.path.exists(GENERATIVE_WEIGHTS_DIRECTORY_PATH):\n",
        "    os.makedirs(GENERATIVE_WEIGHTS_DIRECTORY_PATH)"
      ],
      "execution_count": 5,
      "outputs": []
    },
    {
      "cell_type": "code",
      "metadata": {
        "id": "w4hhbeyjTDfO",
        "colab_type": "code",
        "colab": {
          "base_uri": "https://localhost:8080/",
          "height": 55
        },
        "outputId": "1468c60c-5323-41d8-b913-a1fd59e8b027"
      },
      "source": [
        "%cd bc-LSTM-pytorch"
      ],
      "execution_count": 6,
      "outputs": [
        {
          "output_type": "stream",
          "text": [
            "/content/gdrive/My Drive/Colab Notebooks/conv-emotion-master_updated/bc-LSTM-pytorch\n"
          ],
          "name": "stdout"
        }
      ]
    },
    {
      "cell_type": "code",
      "metadata": {
        "id": "MseJadsRTfJI",
        "colab_type": "code",
        "colab": {
          "base_uri": "https://localhost:8080/",
          "height": 71
        },
        "outputId": "cce84ff7-4eee-421a-c5a2-532bedd421c5"
      },
      "source": [
        "!ls"
      ],
      "execution_count": 7,
      "outputs": [
        {
          "output_type": "stream",
          "text": [
            "AVEC_features\t dataloader.py\t   model.py\t\t train_IEMOCAP.py\n",
            "dailydialog\t IEMOCAP_features  __pycache__\t\t train_MELD.py\n",
            "dailydialog.zip  MELD_features\t   train_DailyDialog.py\n"
          ],
          "name": "stdout"
        }
      ]
    },
    {
      "cell_type": "code",
      "metadata": {
        "id": "D3dbhCUfTFaX",
        "colab_type": "code",
        "colab": {
          "base_uri": "https://localhost:8080/",
          "height": 1000
        },
        "outputId": "6fa33521-5d85-4832-f4a3-8561bbbacde6"
      },
      "source": [
        "!python train_DailyDialog.py"
      ],
      "execution_count": 8,
      "outputs": [
        {
          "output_type": "stream",
          "text": [
            "Namespace(attention=False, batch_size=32, class_weight=False, cnn_dropout=0.5, cnn_filters=50, cnn_output_size=100, dropout=0.25, epochs=60, l2=1e-05, lr=0.001, no_cuda=False, tensorboard=False)\n",
            "Running on GPU\n",
            "epoch 1 train_loss 0.6441 train_acc 82.45 train_fscore 0.12 valid_loss 0.4583 valid_acc 88.09 val_fscore 0.0 test_loss 0.6327 test_acc 81.67 test_fscore 0.0 time 9.24\n",
            "epoch 2 train_loss 0.5415 train_acc 83.91 train_fscore 26.61 valid_loss 0.4395 valid_acc 84.97 val_fscore 45.46 test_loss 0.6003 test_acc 78.46 test_fscore 45.06 time 8.52\n",
            "epoch 3 train_loss 0.4907 train_acc 84.98 train_fscore 38.79 valid_loss 0.4163 valid_acc 86.31 val_fscore 47.21 test_loss 0.5684 test_acc 80.85 test_fscore 47.78 time 8.57\n",
            "epoch 4 train_loss 0.4632 train_acc 85.31 train_fscore 41.16 valid_loss 0.3844 valid_acc 87.14 val_fscore 48.18 test_loss 0.5444 test_acc 81.43 test_fscore 47.53 time 8.39\n",
            "epoch 5 train_loss 0.4499 train_acc 85.5 train_fscore 42.87 valid_loss 0.3459 valid_acc 88.99 val_fscore 49.41 test_loss 0.4924 test_acc 83.79 test_fscore 47.64 time 8.4\n",
            "epoch 6 train_loss 0.4395 train_acc 85.72 train_fscore 43.78 valid_loss 0.3539 valid_acc 88.09 val_fscore 49.4 test_loss 0.5038 test_acc 82.75 test_fscore 48.33 time 8.55\n",
            "epoch 7 train_loss 0.4314 train_acc 85.74 train_fscore 43.85 valid_loss 0.3305 valid_acc 88.99 val_fscore 50.47 test_loss 0.4768 test_acc 83.94 test_fscore 48.23 time 8.34\n",
            "epoch 8 train_loss 0.4229 train_acc 86.0 train_fscore 45.54 valid_loss 0.3195 valid_acc 89.33 val_fscore 50.54 test_loss 0.4763 test_acc 84.07 test_fscore 48.04 time 8.5\n",
            "epoch 9 train_loss 0.4128 train_acc 86.19 train_fscore 47.11 valid_loss 0.3319 valid_acc 88.41 val_fscore 49.71 test_loss 0.4847 test_acc 83.17 test_fscore 48.34 time 8.37\n",
            "epoch 10 train_loss 0.4046 train_acc 86.33 train_fscore 47.56 valid_loss 0.354 valid_acc 87.16 val_fscore 49.18 test_loss 0.5099 test_acc 81.25 test_fscore 48.24 time 8.3\n",
            "epoch 11 train_loss 0.3991 train_acc 86.63 train_fscore 49.54 valid_loss 0.3215 valid_acc 88.75 val_fscore 50.9 test_loss 0.4766 test_acc 83.06 test_fscore 47.79 time 8.43\n",
            "epoch 12 train_loss 0.3952 train_acc 86.67 train_fscore 50.03 valid_loss 0.3163 valid_acc 89.03 val_fscore 50.63 test_loss 0.4621 test_acc 84.16 test_fscore 48.83 time 8.41\n",
            "epoch 13 train_loss 0.388 train_acc 86.85 train_fscore 50.84 valid_loss 0.3286 valid_acc 88.28 val_fscore 50.57 test_loss 0.4724 test_acc 83.01 test_fscore 49.11 time 8.46\n",
            "epoch 14 train_loss 0.3795 train_acc 87.23 train_fscore 53.15 valid_loss 0.3079 valid_acc 89.06 val_fscore 50.88 test_loss 0.4708 test_acc 83.55 test_fscore 48.12 time 8.49\n",
            "epoch 15 train_loss 0.379 train_acc 87.06 train_fscore 52.46 valid_loss 0.3081 valid_acc 89.11 val_fscore 47.72 test_loss 0.4702 test_acc 84.08 test_fscore 47.3 time 8.44\n",
            "epoch 16 train_loss 0.372 train_acc 87.37 train_fscore 53.68 valid_loss 0.3394 valid_acc 87.71 val_fscore 49.7 test_loss 0.4954 test_acc 82.29 test_fscore 48.87 time 8.73\n",
            "epoch 17 train_loss 0.369 train_acc 87.44 train_fscore 54.47 valid_loss 0.2971 valid_acc 90.01 val_fscore 48.48 test_loss 0.4642 test_acc 84.87 test_fscore 45.69 time 8.47\n",
            "epoch 18 train_loss 0.3683 train_acc 87.44 train_fscore 53.88 valid_loss 0.3145 valid_acc 89.3 val_fscore 50.81 test_loss 0.4702 test_acc 84.26 test_fscore 47.91 time 8.31\n",
            "epoch 19 train_loss 0.3633 train_acc 87.56 train_fscore 54.9 valid_loss 0.3187 valid_acc 88.71 val_fscore 51.13 test_loss 0.4824 test_acc 83.32 test_fscore 49.54 time 8.32\n",
            "epoch 20 train_loss 0.3561 train_acc 87.72 train_fscore 55.9 valid_loss 0.3181 valid_acc 88.95 val_fscore 51.31 test_loss 0.4802 test_acc 83.0 test_fscore 47.97 time 8.64\n",
            "epoch 21 train_loss 0.3539 train_acc 87.76 train_fscore 55.45 valid_loss 0.327 valid_acc 88.5 val_fscore 50.03 test_loss 0.4842 test_acc 83.0 test_fscore 49.15 time 8.43\n",
            "epoch 22 train_loss 0.3514 train_acc 87.7 train_fscore 55.25 valid_loss 0.3252 valid_acc 88.42 val_fscore 51.46 test_loss 0.4744 test_acc 83.26 test_fscore 50.17 time 8.51\n",
            "epoch 23 train_loss 0.3498 train_acc 87.82 train_fscore 56.04 valid_loss 0.3047 valid_acc 89.07 val_fscore 49.46 test_loss 0.475 test_acc 83.6 test_fscore 48.53 time 8.71\n",
            "epoch 24 train_loss 0.3467 train_acc 87.86 train_fscore 56.38 valid_loss 0.3129 valid_acc 88.82 val_fscore 45.57 test_loss 0.4843 test_acc 83.63 test_fscore 46.72 time 8.83\n",
            "epoch 25 train_loss 0.3441 train_acc 87.95 train_fscore 56.56 valid_loss 0.3027 valid_acc 89.54 val_fscore 48.84 test_loss 0.468 test_acc 84.37 test_fscore 48.12 time 8.72\n",
            "epoch 26 train_loss 0.3383 train_acc 88.22 train_fscore 57.64 valid_loss 0.314 valid_acc 88.83 val_fscore 50.35 test_loss 0.4714 test_acc 84.13 test_fscore 50.53 time 8.55\n",
            "epoch 27 train_loss 0.3348 train_acc 88.17 train_fscore 57.84 valid_loss 0.3035 valid_acc 89.23 val_fscore 47.31 test_loss 0.4736 test_acc 84.37 test_fscore 48.62 time 8.48\n",
            "epoch 28 train_loss 0.335 train_acc 88.14 train_fscore 57.17 valid_loss 0.3235 valid_acc 88.83 val_fscore 51.76 test_loss 0.4829 test_acc 84.04 test_fscore 51.59 time 8.4\n",
            "epoch 29 train_loss 0.3323 train_acc 88.25 train_fscore 57.93 valid_loss 0.3207 valid_acc 88.56 val_fscore 49.84 test_loss 0.496 test_acc 82.61 test_fscore 48.32 time 8.56\n",
            "epoch 30 train_loss 0.3293 train_acc 88.27 train_fscore 58.07 valid_loss 0.3202 valid_acc 88.33 val_fscore 50.13 test_loss 0.4722 test_acc 83.45 test_fscore 51.03 time 8.48\n",
            "epoch 31 train_loss 0.3263 train_acc 88.44 train_fscore 59.11 valid_loss 0.3119 valid_acc 89.01 val_fscore 49.38 test_loss 0.4709 test_acc 84.07 test_fscore 50.12 time 8.59\n",
            "epoch 32 train_loss 0.3228 train_acc 88.58 train_fscore 59.56 valid_loss 0.3075 valid_acc 89.03 val_fscore 49.61 test_loss 0.4752 test_acc 83.59 test_fscore 49.55 time 8.42\n",
            "epoch 33 train_loss 0.321 train_acc 88.66 train_fscore 59.94 valid_loss 0.3356 valid_acc 87.88 val_fscore 50.07 test_loss 0.508 test_acc 81.86 test_fscore 49.64 time 8.57\n",
            "epoch 34 train_loss 0.3187 train_acc 88.59 train_fscore 60.04 valid_loss 0.3232 valid_acc 88.35 val_fscore 52.63 test_loss 0.4815 test_acc 82.95 test_fscore 51.73 time 8.49\n",
            "epoch 35 train_loss 0.3161 train_acc 88.66 train_fscore 60.25 valid_loss 0.3366 valid_acc 87.95 val_fscore 50.15 test_loss 0.4915 test_acc 82.36 test_fscore 50.54 time 8.61\n",
            "epoch 36 train_loss 0.3117 train_acc 88.81 train_fscore 60.66 valid_loss 0.3474 valid_acc 87.71 val_fscore 51.21 test_loss 0.5006 test_acc 82.12 test_fscore 51.17 time 8.49\n",
            "epoch 37 train_loss 0.3078 train_acc 88.89 train_fscore 61.17 valid_loss 0.3223 valid_acc 88.93 val_fscore 50.43 test_loss 0.4989 test_acc 83.05 test_fscore 49.63 time 8.37\n",
            "epoch 38 train_loss 0.3106 train_acc 88.82 train_fscore 60.76 valid_loss 0.3108 valid_acc 89.18 val_fscore 50.88 test_loss 0.4639 test_acc 84.22 test_fscore 51.17 time 8.28\n",
            "epoch 39 train_loss 0.3057 train_acc 88.88 train_fscore 61.2 valid_loss 0.3135 valid_acc 89.52 val_fscore 51.1 test_loss 0.4781 test_acc 84.1 test_fscore 49.56 time 8.7\n",
            "epoch 40 train_loss 0.3046 train_acc 88.9 train_fscore 61.18 valid_loss 0.3152 valid_acc 89.24 val_fscore 52.05 test_loss 0.4724 test_acc 83.85 test_fscore 51.52 time 8.46\n",
            "epoch 41 train_loss 0.3037 train_acc 89.01 train_fscore 61.56 valid_loss 0.3352 valid_acc 88.4 val_fscore 51.95 test_loss 0.5074 test_acc 82.48 test_fscore 50.46 time 8.69\n",
            "epoch 42 train_loss 0.3005 train_acc 89.16 train_fscore 62.3 valid_loss 0.3272 valid_acc 88.26 val_fscore 49.4 test_loss 0.4815 test_acc 82.87 test_fscore 50.33 time 8.44\n",
            "epoch 43 train_loss 0.2992 train_acc 89.09 train_fscore 61.88 valid_loss 0.3447 valid_acc 88.41 val_fscore 51.98 test_loss 0.5051 test_acc 83.01 test_fscore 51.3 time 8.69\n",
            "epoch 44 train_loss 0.2979 train_acc 89.13 train_fscore 62.42 valid_loss 0.3325 valid_acc 88.69 val_fscore 50.84 test_loss 0.5029 test_acc 83.4 test_fscore 51.14 time 8.86\n",
            "epoch 45 train_loss 0.2929 train_acc 89.31 train_fscore 63.09 valid_loss 0.3325 valid_acc 88.65 val_fscore 53.71 test_loss 0.4908 test_acc 82.93 test_fscore 51.88 time 8.65\n",
            "epoch 46 train_loss 0.2904 train_acc 89.37 train_fscore 63.28 valid_loss 0.3338 valid_acc 88.49 val_fscore 52.2 test_loss 0.501 test_acc 82.89 test_fscore 51.37 time 8.65\n",
            "epoch 47 train_loss 0.2905 train_acc 89.4 train_fscore 63.4 valid_loss 0.3275 valid_acc 88.49 val_fscore 50.18 test_loss 0.4812 test_acc 83.67 test_fscore 51.24 time 8.38\n",
            "epoch 48 train_loss 0.2875 train_acc 89.38 train_fscore 63.73 valid_loss 0.3127 valid_acc 89.52 val_fscore 49.74 test_loss 0.484 test_acc 84.07 test_fscore 48.49 time 8.62\n",
            "epoch 49 train_loss 0.2861 train_acc 89.47 train_fscore 63.95 valid_loss 0.3202 valid_acc 89.52 val_fscore 49.18 test_loss 0.5008 test_acc 83.98 test_fscore 48.51 time 8.49\n",
            "epoch 50 train_loss 0.2836 train_acc 89.53 train_fscore 64.11 valid_loss 0.3238 valid_acc 88.57 val_fscore 51.46 test_loss 0.4817 test_acc 83.28 test_fscore 52.16 time 8.57\n",
            "epoch 51 train_loss 0.2815 train_acc 89.7 train_fscore 64.87 valid_loss 0.3542 valid_acc 87.92 val_fscore 50.86 test_loss 0.5344 test_acc 82.53 test_fscore 51.91 time 8.59\n",
            "epoch 52 train_loss 0.2806 train_acc 89.68 train_fscore 64.75 valid_loss 0.3524 valid_acc 88.19 val_fscore 50.6 test_loss 0.5104 test_acc 83.0 test_fscore 51.82 time 9.01\n",
            "epoch 53 train_loss 0.2762 train_acc 89.8 train_fscore 65.22 valid_loss 0.3277 valid_acc 88.85 val_fscore 51.6 test_loss 0.489 test_acc 83.76 test_fscore 51.35 time 8.45\n",
            "epoch 54 train_loss 0.2744 train_acc 89.88 train_fscore 65.38 valid_loss 0.3459 valid_acc 88.83 val_fscore 53.06 test_loss 0.5202 test_acc 82.93 test_fscore 50.85 time 8.56\n",
            "epoch 55 train_loss 0.2708 train_acc 89.97 train_fscore 65.88 valid_loss 0.3324 valid_acc 89.33 val_fscore 52.68 test_loss 0.5023 test_acc 83.77 test_fscore 51.08 time 8.59\n",
            "epoch 56 train_loss 0.2681 train_acc 90.06 train_fscore 66.3 valid_loss 0.3497 valid_acc 88.51 val_fscore 52.74 test_loss 0.5327 test_acc 82.78 test_fscore 50.96 time 8.69\n",
            "epoch 57 train_loss 0.2687 train_acc 90.05 train_fscore 66.4 valid_loss 0.3325 valid_acc 89.07 val_fscore 51.26 test_loss 0.5178 test_acc 83.59 test_fscore 51.64 time 8.45\n",
            "epoch 58 train_loss 0.2651 train_acc 90.01 train_fscore 66.17 valid_loss 0.3487 valid_acc 88.38 val_fscore 52.37 test_loss 0.5202 test_acc 82.73 test_fscore 51.2 time 8.54\n",
            "epoch 59 train_loss 0.2647 train_acc 90.14 train_fscore 66.77 valid_loss 0.3354 valid_acc 89.24 val_fscore 52.53 test_loss 0.5167 test_acc 83.62 test_fscore 50.87 time 8.8\n",
            "epoch 60 train_loss 0.2625 train_acc 90.21 train_fscore 66.97 valid_loss 0.3486 valid_acc 88.52 val_fscore 52.7 test_loss 0.5152 test_acc 83.09 test_fscore 51.86 time 8.56\n",
            "Test performance..\n",
            "Loss 0.4621 F1-score 48.83\n",
            "/usr/local/lib/python3.6/dist-packages/sklearn/metrics/_classification.py:1272: UndefinedMetricWarning: Precision and F-score are ill-defined and being set to 0.0 in labels with no predicted samples. Use `zero_division` parameter to control this behavior.\n",
            "  _warn_prf(average, modifier, msg_start, len(result))\n",
            "              precision    recall  f1-score   support\n",
            "\n",
            "           0     0.5867    0.5780    0.5823    1019.0\n",
            "           2     0.0000    0.0000    0.0000     118.0\n",
            "           3     0.0000    0.0000    0.0000     102.0\n",
            "           4     0.0000    0.0000    0.0000      17.0\n",
            "           5     0.6667    0.0345    0.0656     116.0\n",
            "           6     0.0000    0.0000    0.0000      47.0\n",
            "\n",
            "   micro avg     0.5871    0.4179    0.4883    1419.0\n",
            "   macro avg     0.2089    0.1021    0.1080    1419.0\n",
            "weighted avg     0.4758    0.4179    0.4235    1419.0\n",
            "\n",
            "[[5.890e+02 4.290e+02 0.000e+00 0.000e+00 0.000e+00 1.000e+00 0.000e+00]\n",
            " [4.000e+02 5.921e+03 0.000e+00 0.000e+00 0.000e+00 0.000e+00 0.000e+00]\n",
            " [1.000e+00 1.160e+02 0.000e+00 0.000e+00 0.000e+00 1.000e+00 0.000e+00]\n",
            " [0.000e+00 1.020e+02 0.000e+00 0.000e+00 0.000e+00 0.000e+00 0.000e+00]\n",
            " [0.000e+00 1.700e+01 0.000e+00 0.000e+00 0.000e+00 0.000e+00 0.000e+00]\n",
            " [1.400e+01 9.800e+01 0.000e+00 0.000e+00 0.000e+00 4.000e+00 0.000e+00]\n",
            " [0.000e+00 4.700e+01 0.000e+00 0.000e+00 0.000e+00 0.000e+00 0.000e+00]]\n"
          ],
          "name": "stdout"
        }
      ]
    }
  ]
}